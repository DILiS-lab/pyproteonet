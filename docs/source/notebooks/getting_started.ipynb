{
 "cells": [
  {
   "cell_type": "markdown",
   "id": "30670aba-39be-406d-a367-7cda5d76e6f5",
   "metadata": {},
   "source": [
    "# Molecules, Graphs, and MoleculeSets"
   ]
  },
  {
   "cell_type": "markdown",
   "id": "06b8e922-73e7-473f-884a-6678f3eb101a",
   "metadata": {},
   "source": [
    "At the heart of PyProteoNet are types of molecules (like proteins and peptides) and connections between those molecules. Even though for PyProteoNet molecules\n",
    "are just nodes in a graph and molecule types are just strings we will focus on protein and peptide molecules as used\n",
    "during many mass spectrometry (MS) experiments in the field of proteomics.\n",
    "In addition, most functions of PyProteonNet are currenlty focused on proteins and peptides aggregation and imputation.\n",
    "\n",
    "Ultimately most experiments want to measure protein abundances. However for most MS experiments proteins are digested into peptides\n",
    "because only those smaller peptides are measured during an MS-experiment. So we have two kind of molecules (proteins and peptides) plus a mapping between\n",
    "them because every peptide can be mapped to at least one protein which the peptide can result from during digestion.\n",
    "\n",
    "In PyProteoNet such a group of different types of molecules together with mappings between those molecule types is represented by a `MoleculeSet`.\n",
    "So lets import this:"
   ]
  },
  {
   "cell_type": "code",
   "execution_count": 1,
   "id": "67ba8568-4873-4e6a-a2c4-43341f1138ef",
   "metadata": {},
   "outputs": [],
   "source": [
    "from pyproteonet.data import MoleculeSet"
   ]
  },
  {
   "cell_type": "markdown",
   "id": "ac9157d2-4e66-4cc6-86c1-9b6674185fd8",
   "metadata": {},
   "source": [
    "Next we need some data to create a MoleculeSet. For simplicity, we do not use real data but come up with a simple toy examples\n",
    "of 10 proteins and 100 peptides which we identify by integers."
   ]
  },
  {
   "cell_type": "code",
   "execution_count": 2,
   "id": "f1568407-6708-4370-a15d-ec483388ed54",
   "metadata": {},
   "outputs": [],
   "source": [
    "import pandas as pd\n",
    "\n",
    "proteins = pd.DataFrame(index=range(10))\n",
    "peptides = pd.DataFrame(index=range(100))"
   ]
  },
  {
   "cell_type": "markdown",
   "id": "fcda5988-ed34-411b-8e6a-7c577a92a04f",
   "metadata": {},
   "source": [
    "As you can see proteins and peptides are represented by pandas dataframes. The index of the dataframes will be used as identifiers\n",
    "for our molecules. With real-world data it might make sense to use the protein name or peptide sequence as index but here we just\n",
    "use integers. Our dataframe could also have additional columns storing other molecule attributes, however, those are not required."
   ]
  },
  {
   "cell_type": "markdown",
   "id": "9ec2fc44-b369-4ab1-9be9-3ca6ec9c6974",
   "metadata": {},
   "source": [
    "The only thing missing is a mapping between proteins and peptides.\n",
    "Mappings are also created from pandas dataframes. To identify mapping partners those dataframes must have a multiindex with every index level containing molecules ids of the mapped molecules.\n",
    "\n",
    "Here we just map every 10th peptide to the same protein."
   ]
  },
  {
   "cell_type": "code",
   "execution_count": 3,
   "id": "c913e87e-0a3d-4772-8b9d-d7d38225d117",
   "metadata": {},
   "outputs": [],
   "source": [
    "peptide_protein_mapping = pd.DataFrame({'peptide':peptides.index, 'protein':peptides.index%10}).set_index(['peptide', 'protein'])"
   ]
  },
  {
   "cell_type": "code",
   "execution_count": 4,
   "id": "88c17079-705b-4c53-bf57-08daff0cbf1f",
   "metadata": {},
   "outputs": [
    {
     "data": {
      "text/html": [
       "<div>\n",
       "<style scoped>\n",
       "    .dataframe tbody tr th:only-of-type {\n",
       "        vertical-align: middle;\n",
       "    }\n",
       "\n",
       "    .dataframe tbody tr th {\n",
       "        vertical-align: top;\n",
       "    }\n",
       "\n",
       "    .dataframe thead th {\n",
       "        text-align: right;\n",
       "    }\n",
       "</style>\n",
       "<table border=\"1\" class=\"dataframe\">\n",
       "  <thead>\n",
       "    <tr style=\"text-align: right;\">\n",
       "      <th></th>\n",
       "      <th></th>\n",
       "    </tr>\n",
       "    <tr>\n",
       "      <th>peptide</th>\n",
       "      <th>protein</th>\n",
       "    </tr>\n",
       "  </thead>\n",
       "  <tbody>\n",
       "    <tr>\n",
       "      <th>0</th>\n",
       "      <th>0</th>\n",
       "    </tr>\n",
       "    <tr>\n",
       "      <th>1</th>\n",
       "      <th>1</th>\n",
       "    </tr>\n",
       "    <tr>\n",
       "      <th>2</th>\n",
       "      <th>2</th>\n",
       "    </tr>\n",
       "    <tr>\n",
       "      <th>3</th>\n",
       "      <th>3</th>\n",
       "    </tr>\n",
       "    <tr>\n",
       "      <th>4</th>\n",
       "      <th>4</th>\n",
       "    </tr>\n",
       "    <tr>\n",
       "      <th>...</th>\n",
       "      <th>...</th>\n",
       "    </tr>\n",
       "    <tr>\n",
       "      <th>95</th>\n",
       "      <th>5</th>\n",
       "    </tr>\n",
       "    <tr>\n",
       "      <th>96</th>\n",
       "      <th>6</th>\n",
       "    </tr>\n",
       "    <tr>\n",
       "      <th>97</th>\n",
       "      <th>7</th>\n",
       "    </tr>\n",
       "    <tr>\n",
       "      <th>98</th>\n",
       "      <th>8</th>\n",
       "    </tr>\n",
       "    <tr>\n",
       "      <th>99</th>\n",
       "      <th>9</th>\n",
       "    </tr>\n",
       "  </tbody>\n",
       "</table>\n",
       "<p>100 rows × 0 columns</p>\n",
       "</div>"
      ],
      "text/plain": [
       "Empty DataFrame\n",
       "Columns: []\n",
       "Index: [(0, 0), (1, 1), (2, 2), (3, 3), (4, 4), (5, 5), (6, 6), (7, 7), (8, 8), (9, 9), (10, 0), (11, 1), (12, 2), (13, 3), (14, 4), (15, 5), (16, 6), (17, 7), (18, 8), (19, 9), (20, 0), (21, 1), (22, 2), (23, 3), (24, 4), (25, 5), (26, 6), (27, 7), (28, 8), (29, 9), (30, 0), (31, 1), (32, 2), (33, 3), (34, 4), (35, 5), (36, 6), (37, 7), (38, 8), (39, 9), (40, 0), (41, 1), (42, 2), (43, 3), (44, 4), (45, 5), (46, 6), (47, 7), (48, 8), (49, 9), (50, 0), (51, 1), (52, 2), (53, 3), (54, 4), (55, 5), (56, 6), (57, 7), (58, 8), (59, 9), (60, 0), (61, 1), (62, 2), (63, 3), (64, 4), (65, 5), (66, 6), (67, 7), (68, 8), (69, 9), (70, 0), (71, 1), (72, 2), (73, 3), (74, 4), (75, 5), (76, 6), (77, 7), (78, 8), (79, 9), (80, 0), (81, 1), (82, 2), (83, 3), (84, 4), (85, 5), (86, 6), (87, 7), (88, 8), (89, 9), (90, 0), (91, 1), (92, 2), (93, 3), (94, 4), (95, 5), (96, 6), (97, 7), (98, 8), (99, 9)]\n",
       "\n",
       "[100 rows x 0 columns]"
      ]
     },
     "execution_count": 4,
     "metadata": {},
     "output_type": "execute_result"
    }
   ],
   "source": [
    "peptide_protein_mapping"
   ]
  },
  {
   "cell_type": "markdown",
   "id": "15d37a49-5f98-480b-b15e-81153595df47",
   "metadata": {},
   "source": [
    "> **Side Note**: Internally mappings are wrapped by the `MoleculeMapping` class. This wrapping class can hold some additional information and facilitates e.g. mappings between the same molecule type. However, for most simple use cases like the protein-peptide use case this can be ignored."
   ]
  },
  {
   "cell_type": "markdown",
   "id": "096a7757-7f98-4151-86a5-a46502c6a336",
   "metadata": {},
   "source": [
    "From this data we can now generate a MoleculeSet. To support arbitratry molecule types and multiple mappings, molecules and\n",
    "mappings need to be given as dictionaries."
   ]
  },
  {
   "cell_type": "code",
   "execution_count": 5,
   "id": "6ce57591-796a-4baf-87f9-e3d1a5d2f33f",
   "metadata": {},
   "outputs": [],
   "source": [
    "ms = MoleculeSet(molecules = {'protein':proteins, 'peptide':peptides},\n",
    "                 mappings = {'peptide-protein': peptide_protein_mapping}\n",
    "                )"
   ]
  },
  {
   "cell_type": "markdown",
   "id": "63a6c0e4-c926-4024-b870-b4166e1976e4",
   "metadata": {},
   "source": [
    "# Samples and Values"
   ]
  },
  {
   "cell_type": "markdown",
   "id": "2af7154d-acd9-410a-b137-a3950e5def06",
   "metadata": {},
   "source": [
    "The MoleculeSet alone is not that helpful. Usually, we also want to attach (abundance) values to our molecules. \n",
    "With MS experiments we usually even have multiple samples measuring the same value multiple times. For this PyProteoNet provides\n",
    "`Dataset`s. A `Dataset` consists of a molecule graph and a variable number of `DatasetSample`s each representing values of one sample.\n",
    "We can create a `Dataset` without any samples as follows:"
   ]
  },
  {
   "cell_type": "code",
   "execution_count": 6,
   "id": "5bedaa2c-1e38-4f01-9ff2-51a997865402",
   "metadata": {},
   "outputs": [],
   "source": [
    "from pyproteonet.data import Dataset\n",
    "ds = Dataset(molecule_set=ms)"
   ]
  },
  {
   "cell_type": "markdown",
   "id": "9d456b70-f4b6-4f06-9bd9-e4bd159987c4",
   "metadata": {},
   "source": [
    "Next we add some samples to the dataset. Every sample is identified by a name and contains dataframes with values for our\n",
    "different molecule types. E.g. lets assume we measured some abundance values for our peptides which we want to add."
   ]
  },
  {
   "cell_type": "code",
   "execution_count": 7,
   "id": "626a3e7b-c50b-4bbf-9f14-cfe2297f5d35",
   "metadata": {},
   "outputs": [],
   "source": [
    "import numpy as np\n",
    "for i in range(3):\n",
    "    sample_name = f'sample{i}'\n",
    "    peptide_values = pd.DataFrame({'abundance': np.random.uniform(size=100) * 10000}, index=range(100))\n",
    "    sample_molecule_values = {'peptide':peptide_values}\n",
    "    ds.create_sample(name=sample_name, values=sample_molecule_values)"
   ]
  },
  {
   "cell_type": "markdown",
   "id": "758a8e3c-959d-413e-8826-3633eb840cf3",
   "metadata": {},
   "source": [
    "Again we give the sample values as a dictionary to assign them to the correct molecule type."
   ]
  },
  {
   "cell_type": "markdown",
   "id": "c030d439-14d4-42ad-b7ad-8f64b45f533d",
   "metadata": {},
   "source": [
    "# Protein Aggregation"
   ]
  },
  {
   "cell_type": "markdown",
   "id": "ed568087-30a0-4c6e-a2c8-c34c9edef14a",
   "metadata": {},
   "source": [
    "Usually we are interested in protein abundances. Therefore, the measured peptide abundance values need to be aggregated into protein abundance values.\n",
    "This is done via the peptide-protein mapping using a aggregation or quantification function.\n",
    "\n",
    "Here we apply Top3 aggregation as a simple but commonly used aggregation function. This function computes protein abundance from the average of the three most abundant peptides corresponding to a protein. In real-world datasets some peptides are usually shared between different proteins. Since their abundance values cannot be uniquly assigned to a protein, shared peptides are often ignored during abundane aggregation and only unique peptides are considered.\n",
    "\n",
    "The result is represented as a pandas Series in long format with a multiindex to identify samples and protein ids."
   ]
  },
  {
   "cell_type": "code",
   "execution_count": 8,
   "id": "172ab818-92b9-4a19-8ad1-99f2de1253ae",
   "metadata": {},
   "outputs": [],
   "source": [
    "from pyproteonet.quantification.neighbor_summarization import neighbor_top_n_mean\n",
    "top3 = neighbor_top_n_mean(dataset=ds, molecule='protein', mapping='peptide-protein', partner_column='abundance',\n",
    "                           top_n=3, only_unique=True)"
   ]
  },
  {
   "cell_type": "code",
   "execution_count": 9,
   "id": "9a895a72-2bd8-45b9-bd91-8065cf6f8a70",
   "metadata": {},
   "outputs": [
    {
     "data": {
      "text/plain": [
       "sample   id\n",
       "sample0  0     9094.317599\n",
       "         1     9041.109171\n",
       "         2     8110.967893\n",
       "         3     8888.045253\n",
       "         4     6414.815315\n",
       "         5     7594.530335\n",
       "         6     8569.054925\n",
       "         7     7194.720128\n",
       "         8     5343.510530\n",
       "         9     7224.719882\n",
       "sample1  0     8639.711048\n",
       "         1     8131.990755\n",
       "         2     9187.682710\n",
       "         3     9176.357375\n",
       "         4     9367.159603\n",
       "         5     5965.732080\n",
       "         6     9126.903228\n",
       "         7     9627.654676\n",
       "         8     8825.260362\n",
       "         9     8471.054487\n",
       "sample2  0     7155.455770\n",
       "         1     7139.038511\n",
       "         2     9301.488098\n",
       "         3     9053.599399\n",
       "         4     6923.564320\n",
       "         5     7170.520557\n",
       "         6     8188.727798\n",
       "         7     9009.645698\n",
       "         8     8774.985146\n",
       "         9     8444.135622\n",
       "Name: quanti, dtype: float64"
      ]
     },
     "execution_count": 9,
     "metadata": {},
     "output_type": "execute_result"
    }
   ],
   "source": [
    "top3"
   ]
  },
  {
   "cell_type": "markdown",
   "id": "56545b82-7ad4-4af8-b4a2-34114bbf5bea",
   "metadata": {},
   "source": [
    "To assign this to our dataset the following syntax can be used:"
   ]
  },
  {
   "cell_type": "code",
   "execution_count": 10,
   "id": "ce59ec51-45d8-4c0e-923e-fc1c589bd6a7",
   "metadata": {},
   "outputs": [],
   "source": [
    "ds.values['protein']['top3'] = top3"
   ]
  },
  {
   "cell_type": "markdown",
   "id": "d268a9be-e67a-4b47-b28f-624c8e773f5e",
   "metadata": {},
   "source": [
    "Alternatively, most functions also allow the direct specification of a result column. So an alternative formulation of the Top3 aggregation could be as follows:"
   ]
  },
  {
   "cell_type": "code",
   "execution_count": 11,
   "id": "544cb8db-d273-43b3-a376-07e18404386e",
   "metadata": {},
   "outputs": [],
   "source": [
    "_ = neighbor_top_n_mean(dataset=ds, molecule='protein', mapping='peptide-protein', partner_column='abundance',\n",
    "                        top_n=3, only_unique=True, result_column='top3')"
   ]
  },
  {
   "cell_type": "markdown",
   "id": "24db2921-075e-44c3-9daa-c2c7289b75cf",
   "metadata": {},
   "source": [
    "The long format of the Top3 aggregated protein abundance values is little intuitive and a matrix representation is often used instead. Therefore, the `Dataset` class provides functions to represent data in different formats allowing. To get the Top3 results as a pandas DataFrame with samples as columns ans proteins as rows the `get_samples_value_matrix` function can be useful:"
   ]
  },
  {
   "cell_type": "code",
   "execution_count": 12,
   "id": "50bf8e18-ef38-48f1-8b88-62011d1ccb93",
   "metadata": {},
   "outputs": [
    {
     "data": {
      "text/html": [
       "<div>\n",
       "<style scoped>\n",
       "    .dataframe tbody tr th:only-of-type {\n",
       "        vertical-align: middle;\n",
       "    }\n",
       "\n",
       "    .dataframe tbody tr th {\n",
       "        vertical-align: top;\n",
       "    }\n",
       "\n",
       "    .dataframe thead th {\n",
       "        text-align: right;\n",
       "    }\n",
       "</style>\n",
       "<table border=\"1\" class=\"dataframe\">\n",
       "  <thead>\n",
       "    <tr style=\"text-align: right;\">\n",
       "      <th></th>\n",
       "      <th>sample0</th>\n",
       "      <th>sample1</th>\n",
       "      <th>sample2</th>\n",
       "    </tr>\n",
       "    <tr>\n",
       "      <th>id</th>\n",
       "      <th></th>\n",
       "      <th></th>\n",
       "      <th></th>\n",
       "    </tr>\n",
       "  </thead>\n",
       "  <tbody>\n",
       "    <tr>\n",
       "      <th>0</th>\n",
       "      <td>9094.317599</td>\n",
       "      <td>8639.711048</td>\n",
       "      <td>7155.455770</td>\n",
       "    </tr>\n",
       "    <tr>\n",
       "      <th>1</th>\n",
       "      <td>9041.109171</td>\n",
       "      <td>8131.990755</td>\n",
       "      <td>7139.038511</td>\n",
       "    </tr>\n",
       "    <tr>\n",
       "      <th>2</th>\n",
       "      <td>8110.967893</td>\n",
       "      <td>9187.682710</td>\n",
       "      <td>9301.488098</td>\n",
       "    </tr>\n",
       "    <tr>\n",
       "      <th>3</th>\n",
       "      <td>8888.045253</td>\n",
       "      <td>9176.357375</td>\n",
       "      <td>9053.599399</td>\n",
       "    </tr>\n",
       "    <tr>\n",
       "      <th>4</th>\n",
       "      <td>6414.815315</td>\n",
       "      <td>9367.159603</td>\n",
       "      <td>6923.564320</td>\n",
       "    </tr>\n",
       "    <tr>\n",
       "      <th>5</th>\n",
       "      <td>7594.530335</td>\n",
       "      <td>5965.732080</td>\n",
       "      <td>7170.520557</td>\n",
       "    </tr>\n",
       "    <tr>\n",
       "      <th>6</th>\n",
       "      <td>8569.054925</td>\n",
       "      <td>9126.903228</td>\n",
       "      <td>8188.727798</td>\n",
       "    </tr>\n",
       "    <tr>\n",
       "      <th>7</th>\n",
       "      <td>7194.720128</td>\n",
       "      <td>9627.654676</td>\n",
       "      <td>9009.645698</td>\n",
       "    </tr>\n",
       "    <tr>\n",
       "      <th>8</th>\n",
       "      <td>5343.510530</td>\n",
       "      <td>8825.260362</td>\n",
       "      <td>8774.985146</td>\n",
       "    </tr>\n",
       "    <tr>\n",
       "      <th>9</th>\n",
       "      <td>7224.719882</td>\n",
       "      <td>8471.054487</td>\n",
       "      <td>8444.135622</td>\n",
       "    </tr>\n",
       "  </tbody>\n",
       "</table>\n",
       "</div>"
      ],
      "text/plain": [
       "        sample0      sample1      sample2\n",
       "id                                       \n",
       "0   9094.317599  8639.711048  7155.455770\n",
       "1   9041.109171  8131.990755  7139.038511\n",
       "2   8110.967893  9187.682710  9301.488098\n",
       "3   8888.045253  9176.357375  9053.599399\n",
       "4   6414.815315  9367.159603  6923.564320\n",
       "5   7594.530335  5965.732080  7170.520557\n",
       "6   8569.054925  9126.903228  8188.727798\n",
       "7   7194.720128  9627.654676  9009.645698\n",
       "8   5343.510530  8825.260362  8774.985146\n",
       "9   7224.719882  8471.054487  8444.135622"
      ]
     },
     "execution_count": 12,
     "metadata": {},
     "output_type": "execute_result"
    }
   ],
   "source": [
    "ds.get_samples_value_matrix(molecule='protein', column='top3')"
   ]
  },
  {
   "cell_type": "markdown",
   "id": "534916be-3929-4f7f-9de2-a5e61807a117",
   "metadata": {},
   "source": [
    "Next to the rather simple neighbor average (Top3), PyProteoNet also provides an efficient implementation of the more complex MaxLFQ protein aggregation method propose by [Cox et al.](https://www.mcponline.org/article/S1535-9476(20)33310-7/fulltext)."
   ]
  },
  {
   "cell_type": "code",
   "execution_count": 13,
   "id": "f6396e8d-6878-41d7-a327-7bf222b7937a",
   "metadata": {},
   "outputs": [
    {
     "name": "stderr",
     "output_type": "stream",
     "text": [
      "/hpi/fs00/home/tobias.pietz/MasterThesis/pyproteonet/pyproteonet/quantification/maxlfq.py:219: NumbaTypeSafetyWarning: \u001b[1m\u001b[1m\u001b[1munsafe cast from uint64 to int64. Precision may be lost.\u001b[0m\u001b[0m\u001b[0m\n",
      "  grouping = mask_group(groupings[group_idx])\n"
     ]
    }
   ],
   "source": [
    "from pyproteonet.quantification.maxlfq import maxlfq\n",
    "_ = maxlfq(dataset=ds, molecule='protein', mapping='peptide-protein', partner_column='abundance',\n",
    "           min_ratios=2, median_fallback=False, result_column='maxlfq')"
   ]
  },
  {
   "cell_type": "code",
   "execution_count": null,
   "id": "532d03ee-743f-402a-a6f6-791cf3d9aea8",
   "metadata": {},
   "outputs": [],
   "source": []
  }
 ],
 "metadata": {
  "kernelspec": {
   "display_name": "Python 3 (ipykernel)",
   "language": "python",
   "name": "python3"
  },
  "language_info": {
   "codemirror_mode": {
    "name": "ipython",
    "version": 3
   },
   "file_extension": ".py",
   "mimetype": "text/x-python",
   "name": "python",
   "nbconvert_exporter": "python",
   "pygments_lexer": "ipython3",
   "version": "3.10.13"
  }
 },
 "nbformat": 4,
 "nbformat_minor": 5
}
