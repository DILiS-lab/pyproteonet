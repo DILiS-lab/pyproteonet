{
 "cells": [
  {
   "cell_type": "markdown",
   "id": "30670aba-39be-406d-a367-7cda5d76e6f5",
   "metadata": {},
   "source": [
    "# Molecules, Graphs, and MoleculeSets"
   ]
  },
  {
   "cell_type": "markdown",
   "id": "06b8e922-73e7-473f-884a-6678f3eb101a",
   "metadata": {},
   "source": [
    "At the heart of PyProteoNet are molecules and connections between this molecules. Even though for PyProteoNet molecules\n",
    "are just nodes in a graph and molecule types are just strings we will focus on protein and peptide molecules as used\n",
    "during many mass spectrometry (MS) experiments in the field of proteomics.\n",
    "In addition, most functions of PyProteonNet are currenlty focused on proteins and peptides quantification and imputation.\n",
    "\n",
    "Ultimately most experiments want to measure protein abundances. However for most MS experiments proteins are digested into peptides\n",
    "because only those smaller peptides can be measured. So we have two kind of molecules (proteins and peptides) plus a mapping between\n",
    "those molecules. With proteins and peptides every peptide can be mapped to at least one protein which the peptide can result from during digestion.\n",
    "\n",
    "In PyProteoNet such a group of different types of molecules together with mappings between those molecule types is represented by a `MoleculeSet`.\n",
    "So lets import this:"
   ]
  },
  {
   "cell_type": "code",
   "execution_count": 2,
   "id": "67ba8568-4873-4e6a-a2c4-43341f1138ef",
   "metadata": {},
   "outputs": [],
   "source": [
    "from pyproteonet.data import MoleculeSet"
   ]
  },
  {
   "cell_type": "markdown",
   "id": "ac9157d2-4e66-4cc6-86c1-9b6674185fd8",
   "metadata": {},
   "source": [
    "Next we need some data to create a MoleculeSet. For simplicity, we do not use real data but come up with a simple toy examples\n",
    "of 10 proteins and 100 peptides which we identify by integers."
   ]
  },
  {
   "cell_type": "code",
   "execution_count": 1,
   "id": "f1568407-6708-4370-a15d-ec483388ed54",
   "metadata": {},
   "outputs": [],
   "source": [
    "import pandas as pd\n",
    "\n",
    "proteins = pd.DataFrame(index=range(10))\n",
    "peptides = pd.DataFrame(index=range(100))"
   ]
  },
  {
   "cell_type": "markdown",
   "id": "fcda5988-ed34-411b-8e6a-7c577a92a04f",
   "metadata": {},
   "source": [
    "As you can see proteins and peptides are represented by pandas dataframes. The index of the dataframes will be used as identifiers\n",
    "for our molecules. With real-world data it might make sense to use the protein name or peptide sequence as index but here we just\n",
    "use integers. Our dataframe could also have additional columns storing other molecule attributes, however, those are not required."
   ]
  },
  {
   "cell_type": "markdown",
   "id": "9ec2fc44-b369-4ab1-9be9-3ca6ec9c6974",
   "metadata": {},
   "source": [
    "The only thing missing is a mapping between proteins and peptides.\n",
    "Mappings are represented by mapping every molecule to a mapping identifier. Such a mapping via a mapping identifier does for example allow\n",
    "relating protein and peptides via a third entity like a gene. In this case the gene id would be the mapping identifier.\n",
    "However, in our case we just want to directly use the protein-peptide relation. Therefore we map both proteins and peptides to protein ids.\n",
    "For proteins this basically means using the identity function as mapping."
   ]
  },
  {
   "cell_type": "code",
   "execution_count": 14,
   "id": "c913e87e-0a3d-4772-8b9d-d7d38225d117",
   "metadata": {},
   "outputs": [],
   "source": [
    "protein_protein_mapping = pd.DataFrame({'id':proteins.index, 'map_id':proteins.index}) #identity mapping\n",
    "peptide_protein_mapping = pd.DataFrame({'id':peptides.index, 'map_id':peptides.index%10})"
   ]
  },
  {
   "cell_type": "markdown",
   "id": "0da17cfe-2022-46fb-a2ac-339f12ab256a",
   "metadata": {},
   "source": [
    "As with the molecules, mappings are also represented by pandas dataframes. Mapping dataframes require a \"id\" column relating to\n",
    "the index of a molecule type and a \"map_id\" mapping molecules to some mapping identifiers.\n",
    "Here we map every tenth peptide to the same protein."
   ]
  },
  {
   "cell_type": "markdown",
   "id": "096a7757-7f98-4151-86a5-a46502c6a336",
   "metadata": {},
   "source": [
    "From this data we can now generate a MoleculeSet. To support arbitratry molecule types and multiple mappings, molecules and\n",
    "mappings need to be given as dictionaries."
   ]
  },
  {
   "cell_type": "code",
   "execution_count": 16,
   "id": "6ce57591-796a-4baf-87f9-e3d1a5d2f33f",
   "metadata": {},
   "outputs": [],
   "source": [
    "ms = MoleculeSet(molecules = {'protein':proteins, 'peptide':peptides},\n",
    "                 mappings = {'protein_mapping': {'protein':protein_protein_mapping, 'peptide':peptide_protein_mapping}}\n",
    "                )"
   ]
  },
  {
   "cell_type": "markdown",
   "id": "63a6c0e4-c926-4024-b870-b4166e1976e4",
   "metadata": {},
   "source": [
    "# Samples and Values"
   ]
  },
  {
   "cell_type": "markdown",
   "id": "2af7154d-acd9-410a-b137-a3950e5def06",
   "metadata": {},
   "source": [
    "The MoleculeSet alone is not that helpful. Usually, we also want to attach (measured) values to our molecules. \n",
    "With MS experiments we usually even have multiple samples measuring the same value multiple times. For this PyProteoNet provides\n",
    "`Dataset`s. A `Dataset` consists of a molecule graph and a variable number of `DatasetSample`s each representing values of one sample.\n",
    "We can create a `Dataset` without any samples as follows:"
   ]
  },
  {
   "cell_type": "code",
   "execution_count": 19,
   "id": "5bedaa2c-1e38-4f01-9ff2-51a997865402",
   "metadata": {},
   "outputs": [],
   "source": [
    "from pyproteonet.data import Dataset\n",
    "ds = Dataset(molecule_set=ms)"
   ]
  },
  {
   "cell_type": "markdown",
   "id": "9d456b70-f4b6-4f06-9bd9-e4bd159987c4",
   "metadata": {},
   "source": [
    "Next we add some samples to the dataset. Every sample is identified by a name and contains dataframes with values for our\n",
    "different molecule types. E.g. lets assume we measured some abundance values for our peptides which we want to add."
   ]
  },
  {
   "cell_type": "code",
   "execution_count": 22,
   "id": "626a3e7b-c50b-4bbf-9f14-cfe2297f5d35",
   "metadata": {},
   "outputs": [],
   "source": [
    "import numpy as np\n",
    "for i in range(3):\n",
    "    sample_name = f'sample{i}'\n",
    "    peptide_values = pd.DataFrame({'abundance': np.random.uniform(size=100) * 10000}, index=range(100))\n",
    "    sample_molecule_values = {'peptide':peptide_values}\n",
    "    ds.create_sample(name=sample_name, values=sample_molecule_values)"
   ]
  },
  {
   "cell_type": "markdown",
   "id": "ed568087-30a0-4c6e-a2c8-c34c9edef14a",
   "metadata": {},
   "source": [
    "Again we give the sample values as a dictionary to assign them to the correct molecule type.\n",
    "\n",
    "Lets also compute some protein abundances by applying a simple quantification function. In this example we will simply average all peptides\n",
    "belonging to a protein. Looking at it from a graph perspective, we are averaging the one hop neighborhood of proteins."
   ]
  },
  {
   "cell_type": "code",
   "execution_count": 27,
   "id": "172ab818-92b9-4a19-8ad1-99f2de1253ae",
   "metadata": {},
   "outputs": [],
   "source": [
    "from pyproteonet.processing.aggregation import neighbor_mean\n",
    "ds = neighbor_mean(dataset=ds, input_molecule='peptide', input_column='abundance',\n",
    "                   result_molecule='protein', result_column='abundance',\n",
    "                   mapping='protein_mapping')"
   ]
  },
  {
   "cell_type": "markdown",
   "id": "4ee3cbe6-35a0-4634-916e-f057ce76f915",
   "metadata": {},
   "source": [
    "The `neighbor_mean(...)` function automatically got applied to all samples resulting in a new dataset. To inspect the results\n",
    "for one sample we can just index the dataset with the sample name."
   ]
  },
  {
   "cell_type": "code",
   "execution_count": 30,
   "id": "e81f0456-c64b-40c5-b5a8-6bc55e479e54",
   "metadata": {},
   "outputs": [
    {
     "data": {
      "text/plain": [
       "<pyproteonet.data.dataset_sample.DatasetSample at 0x7f6d3949b890>"
      ]
     },
     "execution_count": 30,
     "metadata": {},
     "output_type": "execute_result"
    }
   ],
   "source": [
    "sample = ds['sample0']\n",
    "sample"
   ]
  },
  {
   "cell_type": "markdown",
   "id": "4f8e9ca6-7fb0-4522-9677-4b453fdaf47d",
   "metadata": {},
   "source": [
    "This results into `DatasetSample`. Every `DatasetSample` has a `values` property which holds a dictionary with all the\n",
    "value-dataframes for all molecule types. So to get the protein values we can do:"
   ]
  },
  {
   "cell_type": "code",
   "execution_count": 33,
   "id": "78cff6d9-f9e9-43f6-a360-fc0d4b101d18",
   "metadata": {},
   "outputs": [
    {
     "data": {
      "text/html": [
       "<div>\n",
       "<style scoped>\n",
       "    .dataframe tbody tr th:only-of-type {\n",
       "        vertical-align: middle;\n",
       "    }\n",
       "\n",
       "    .dataframe tbody tr th {\n",
       "        vertical-align: top;\n",
       "    }\n",
       "\n",
       "    .dataframe thead th {\n",
       "        text-align: right;\n",
       "    }\n",
       "</style>\n",
       "<table border=\"1\" class=\"dataframe\">\n",
       "  <thead>\n",
       "    <tr style=\"text-align: right;\">\n",
       "      <th></th>\n",
       "      <th>abundance</th>\n",
       "    </tr>\n",
       "  </thead>\n",
       "  <tbody>\n",
       "    <tr>\n",
       "      <th>0</th>\n",
       "      <td>3578.954072</td>\n",
       "    </tr>\n",
       "    <tr>\n",
       "      <th>1</th>\n",
       "      <td>6330.201144</td>\n",
       "    </tr>\n",
       "    <tr>\n",
       "      <th>2</th>\n",
       "      <td>3717.998176</td>\n",
       "    </tr>\n",
       "    <tr>\n",
       "      <th>3</th>\n",
       "      <td>3873.220958</td>\n",
       "    </tr>\n",
       "    <tr>\n",
       "      <th>4</th>\n",
       "      <td>3892.350814</td>\n",
       "    </tr>\n",
       "    <tr>\n",
       "      <th>5</th>\n",
       "      <td>5454.611670</td>\n",
       "    </tr>\n",
       "    <tr>\n",
       "      <th>6</th>\n",
       "      <td>4936.436778</td>\n",
       "    </tr>\n",
       "    <tr>\n",
       "      <th>7</th>\n",
       "      <td>5646.796905</td>\n",
       "    </tr>\n",
       "    <tr>\n",
       "      <th>8</th>\n",
       "      <td>4125.000959</td>\n",
       "    </tr>\n",
       "    <tr>\n",
       "      <th>9</th>\n",
       "      <td>5995.243607</td>\n",
       "    </tr>\n",
       "  </tbody>\n",
       "</table>\n",
       "</div>"
      ],
      "text/plain": [
       "     abundance\n",
       "0  3578.954072\n",
       "1  6330.201144\n",
       "2  3717.998176\n",
       "3  3873.220958\n",
       "4  3892.350814\n",
       "5  5454.611670\n",
       "6  4936.436778\n",
       "7  5646.796905\n",
       "8  4125.000959\n",
       "9  5995.243607"
      ]
     },
     "execution_count": 33,
     "metadata": {},
     "output_type": "execute_result"
    }
   ],
   "source": [
    "sample.values['protein']"
   ]
  },
  {
   "cell_type": "markdown",
   "id": "24db2921-075e-44c3-9daa-c2c7289b75cf",
   "metadata": {},
   "source": [
    "This concludes the introduction. Hopefully it gave you an idea of the underlying concept and main data structures of PyProteoNet.\n",
    "To get an overview of all the properties and methods of `MoleculeSet`, `DatasetSample`, and `Dataset` you can have a look into\n",
    "the API reference."
   ]
  },
  {
   "cell_type": "code",
   "execution_count": null,
   "id": "50bf8e18-ef38-48f1-8b88-62011d1ccb93",
   "metadata": {},
   "outputs": [],
   "source": []
  }
 ],
 "metadata": {
  "kernelspec": {
   "display_name": "Python 3 (ipykernel)",
   "language": "python",
   "name": "python3"
  },
  "language_info": {
   "codemirror_mode": {
    "name": "ipython",
    "version": 3
   },
   "file_extension": ".py",
   "mimetype": "text/x-python",
   "name": "python",
   "nbconvert_exporter": "python",
   "pygments_lexer": "ipython3",
   "version": "3.11.3"
  }
 },
 "nbformat": 4,
 "nbformat_minor": 5
}
