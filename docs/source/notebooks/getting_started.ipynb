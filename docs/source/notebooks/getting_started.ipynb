{
 "cells": [
  {
   "cell_type": "code",
   "execution_count": 51,
   "id": "53233eba",
   "metadata": {},
   "outputs": [
    {
     "name": "stdout",
     "output_type": "stream",
     "text": [
      "The autoreload extension is already loaded. To reload it, use:\n",
      "  %reload_ext autoreload\n"
     ]
    }
   ],
   "source": [
    "%load_ext autoreload\n",
    "%autoreload 2"
   ]
  },
  {
   "cell_type": "markdown",
   "id": "028d4fc3-29a5-458d-a544-615572068d69",
   "metadata": {},
   "source": [
    "# Getting Started"
   ]
  },
  {
   "cell_type": "markdown",
   "id": "30670aba-39be-406d-a367-7cda5d76e6f5",
   "metadata": {},
   "source": [
    "## Molecules, Graphs, and MoleculeSets"
   ]
  },
  {
   "cell_type": "markdown",
   "id": "06b8e922-73e7-473f-884a-6678f3eb101a",
   "metadata": {},
   "source": [
    "At the heart of PyProteoNet are types of molecules (like proteins and peptides) and connections between those molecules. Even though for PyProteoNet molecules\n",
    "are just nodes in a graph and molecule types are just strings we will focus on protein and peptide molecules as used\n",
    "during many mass spectrometry (MS) experiments in the field of proteomics.\n",
    "In addition, most functions of PyProteonNet are currenlty focused on proteins and peptides aggregation and imputation.\n",
    "\n",
    "Ultimately most experiments want to measure protein abundances. However for most MS experiments proteins are digested into peptides\n",
    "because only those smaller peptides are measured during an MS-experiment. So we have two kind of molecules (proteins and peptides) plus a mapping between\n",
    "them because every peptide can be mapped to at least one protein which the peptide can result from during digestion.\n",
    "\n",
    "In PyProteoNet such a group of different types of molecules together with mappings between those molecule types is represented by a `MoleculeSet`.\n",
    "So lets import this:"
   ]
  },
  {
   "cell_type": "code",
   "execution_count": 52,
   "id": "67ba8568-4873-4e6a-a2c4-43341f1138ef",
   "metadata": {},
   "outputs": [],
   "source": [
    "from pyproteonet.data import MoleculeSet"
   ]
  },
  {
   "cell_type": "markdown",
   "id": "ac9157d2-4e66-4cc6-86c1-9b6674185fd8",
   "metadata": {},
   "source": [
    "Next we need some data to create a MoleculeSet. For simplicity, we do not use real data but come up with a simple toy examples\n",
    "of 10 proteins and 100 peptides which we identify by integers."
   ]
  },
  {
   "cell_type": "code",
   "execution_count": 53,
   "id": "f1568407-6708-4370-a15d-ec483388ed54",
   "metadata": {},
   "outputs": [],
   "source": [
    "import pandas as pd\n",
    "\n",
    "proteins = pd.DataFrame(index=range(10))\n",
    "peptides = pd.DataFrame(index=range(100))"
   ]
  },
  {
   "cell_type": "markdown",
   "id": "fcda5988-ed34-411b-8e6a-7c577a92a04f",
   "metadata": {},
   "source": [
    "As you can see proteins and peptides are represented by pandas dataframes. The index of the dataframes will be used as identifiers\n",
    "for our molecules. With real-world data it might make sense to use the protein name or peptide sequence as index but here we just\n",
    "use integers. Our dataframe could also have additional columns storing other molecule attributes, however, those are not required."
   ]
  },
  {
   "cell_type": "markdown",
   "id": "9ec2fc44-b369-4ab1-9be9-3ca6ec9c6974",
   "metadata": {},
   "source": [
    "The only thing missing is a mapping between proteins and peptides.\n",
    "Mappings are also created from pandas dataframes. To identify mapping partners those dataframes must have a multiindex with every index level containing molecules ids of the mapped molecules.\n",
    "\n",
    "Here we just map every 10th peptide to the same protein."
   ]
  },
  {
   "cell_type": "code",
   "execution_count": 54,
   "id": "c913e87e-0a3d-4772-8b9d-d7d38225d117",
   "metadata": {},
   "outputs": [],
   "source": [
    "peptide_protein_mapping = pd.DataFrame({'peptide':peptides.index, 'protein':peptides.index%10}).set_index(['peptide', 'protein'])"
   ]
  },
  {
   "cell_type": "code",
   "execution_count": 55,
   "id": "88c17079-705b-4c53-bf57-08daff0cbf1f",
   "metadata": {
    "scrolled": true
   },
   "outputs": [
    {
     "data": {
      "text/html": [
       "<div>\n",
       "<style scoped>\n",
       "    .dataframe tbody tr th:only-of-type {\n",
       "        vertical-align: middle;\n",
       "    }\n",
       "\n",
       "    .dataframe tbody tr th {\n",
       "        vertical-align: top;\n",
       "    }\n",
       "\n",
       "    .dataframe thead th {\n",
       "        text-align: right;\n",
       "    }\n",
       "</style>\n",
       "<table border=\"1\" class=\"dataframe\">\n",
       "  <thead>\n",
       "    <tr style=\"text-align: right;\">\n",
       "      <th></th>\n",
       "      <th></th>\n",
       "    </tr>\n",
       "    <tr>\n",
       "      <th>peptide</th>\n",
       "      <th>protein</th>\n",
       "    </tr>\n",
       "  </thead>\n",
       "  <tbody>\n",
       "    <tr>\n",
       "      <th>0</th>\n",
       "      <th>0</th>\n",
       "    </tr>\n",
       "    <tr>\n",
       "      <th>1</th>\n",
       "      <th>1</th>\n",
       "    </tr>\n",
       "    <tr>\n",
       "      <th>2</th>\n",
       "      <th>2</th>\n",
       "    </tr>\n",
       "    <tr>\n",
       "      <th>3</th>\n",
       "      <th>3</th>\n",
       "    </tr>\n",
       "    <tr>\n",
       "      <th>4</th>\n",
       "      <th>4</th>\n",
       "    </tr>\n",
       "    <tr>\n",
       "      <th>...</th>\n",
       "      <th>...</th>\n",
       "    </tr>\n",
       "    <tr>\n",
       "      <th>95</th>\n",
       "      <th>5</th>\n",
       "    </tr>\n",
       "    <tr>\n",
       "      <th>96</th>\n",
       "      <th>6</th>\n",
       "    </tr>\n",
       "    <tr>\n",
       "      <th>97</th>\n",
       "      <th>7</th>\n",
       "    </tr>\n",
       "    <tr>\n",
       "      <th>98</th>\n",
       "      <th>8</th>\n",
       "    </tr>\n",
       "    <tr>\n",
       "      <th>99</th>\n",
       "      <th>9</th>\n",
       "    </tr>\n",
       "  </tbody>\n",
       "</table>\n",
       "<p>100 rows × 0 columns</p>\n",
       "</div>"
      ],
      "text/plain": [
       "Empty DataFrame\n",
       "Columns: []\n",
       "Index: [(0, 0), (1, 1), (2, 2), (3, 3), (4, 4), (5, 5), (6, 6), (7, 7), (8, 8), (9, 9), (10, 0), (11, 1), (12, 2), (13, 3), (14, 4), (15, 5), (16, 6), (17, 7), (18, 8), (19, 9), (20, 0), (21, 1), (22, 2), (23, 3), (24, 4), (25, 5), (26, 6), (27, 7), (28, 8), (29, 9), (30, 0), (31, 1), (32, 2), (33, 3), (34, 4), (35, 5), (36, 6), (37, 7), (38, 8), (39, 9), (40, 0), (41, 1), (42, 2), (43, 3), (44, 4), (45, 5), (46, 6), (47, 7), (48, 8), (49, 9), (50, 0), (51, 1), (52, 2), (53, 3), (54, 4), (55, 5), (56, 6), (57, 7), (58, 8), (59, 9), (60, 0), (61, 1), (62, 2), (63, 3), (64, 4), (65, 5), (66, 6), (67, 7), (68, 8), (69, 9), (70, 0), (71, 1), (72, 2), (73, 3), (74, 4), (75, 5), (76, 6), (77, 7), (78, 8), (79, 9), (80, 0), (81, 1), (82, 2), (83, 3), (84, 4), (85, 5), (86, 6), (87, 7), (88, 8), (89, 9), (90, 0), (91, 1), (92, 2), (93, 3), (94, 4), (95, 5), (96, 6), (97, 7), (98, 8), (99, 9)]\n",
       "\n",
       "[100 rows x 0 columns]"
      ]
     },
     "execution_count": 55,
     "metadata": {},
     "output_type": "execute_result"
    }
   ],
   "source": [
    "peptide_protein_mapping"
   ]
  },
  {
   "cell_type": "markdown",
   "id": "15d37a49-5f98-480b-b15e-81153595df47",
   "metadata": {},
   "source": [
    "> **Side Note**: Internally mappings are wrapped by the `MoleculeMapping` class. This wrapper class can hold some additional information and facilitates e.g. mappings between the same molecule type. However, for most simple use cases like the protein-peptide use case this can be ignored."
   ]
  },
  {
   "cell_type": "markdown",
   "id": "096a7757-7f98-4151-86a5-a46502c6a336",
   "metadata": {},
   "source": [
    "From this data we can now generate a MoleculeSet. To support arbitratry molecule types and multiple mappings, molecules and\n",
    "mappings need to be given as dictionaries."
   ]
  },
  {
   "cell_type": "code",
   "execution_count": 56,
   "id": "6ce57591-796a-4baf-87f9-e3d1a5d2f33f",
   "metadata": {},
   "outputs": [],
   "source": [
    "ms = MoleculeSet(molecules = {'protein':proteins, 'peptide':peptides},\n",
    "                 mappings = {'peptide-protein': peptide_protein_mapping}\n",
    "                )"
   ]
  },
  {
   "cell_type": "markdown",
   "id": "63a6c0e4-c926-4024-b870-b4166e1976e4",
   "metadata": {},
   "source": [
    "## Samples and Values"
   ]
  },
  {
   "cell_type": "markdown",
   "id": "2af7154d-acd9-410a-b137-a3950e5def06",
   "metadata": {},
   "source": [
    "The MoleculeSet alone is not that helpful. Usually, we also want to attach (abundance) values to our molecules. \n",
    "With MS experiments we usually even have multiple samples measuring the same value multiple times. For this PyProteoNet provides\n",
    "`Dataset`s. A `Dataset` consists of a molecule graph and a variable number of `DatasetSample`s each representing values of one sample.\n",
    "We can create a `Dataset` without any samples as follows:"
   ]
  },
  {
   "cell_type": "code",
   "execution_count": 57,
   "id": "5bedaa2c-1e38-4f01-9ff2-51a997865402",
   "metadata": {},
   "outputs": [],
   "source": [
    "from pyproteonet.data import Dataset\n",
    "ds = Dataset(molecule_set=ms)"
   ]
  },
  {
   "cell_type": "markdown",
   "id": "9d456b70-f4b6-4f06-9bd9-e4bd159987c4",
   "metadata": {},
   "source": [
    "Next we add some samples to the dataset. Every sample is identified by a name and contains dataframes with values for our\n",
    "different molecule types. E.g. lets assume we measured some abundance values for our peptides which we want to add."
   ]
  },
  {
   "cell_type": "code",
   "execution_count": 58,
   "id": "626a3e7b-c50b-4bbf-9f14-cfe2297f5d35",
   "metadata": {},
   "outputs": [],
   "source": [
    "import numpy as np\n",
    "for i in range(3):\n",
    "    sample_name = f'sample{i}'\n",
    "    peptide_values = pd.DataFrame({'abundance': np.random.uniform(size=100) * 10000}, index=range(100))\n",
    "    sample_molecule_values = {'peptide':peptide_values}\n",
    "    ds.create_sample(name=sample_name, values=sample_molecule_values)"
   ]
  },
  {
   "cell_type": "markdown",
   "id": "758a8e3c-959d-413e-8826-3633eb840cf3",
   "metadata": {},
   "source": [
    "Again we give the sample values as a dictionary to assign them to the correct molecule type."
   ]
  },
  {
   "cell_type": "markdown",
   "id": "e4af2a1f",
   "metadata": {},
   "source": [
    "## Creating a Dataset Directly from Pandas Dataframes"
   ]
  },
  {
   "cell_type": "markdown",
   "id": "92c84ad7",
   "metadata": {},
   "source": [
    "Alternatively, we can just create a dataset from abundance matrices (for proteins and peptides) given as pandas DataFrames and mappings"
   ]
  },
  {
   "cell_type": "code",
   "execution_count": 59,
   "id": "6113afca",
   "metadata": {},
   "outputs": [
    {
     "data": {
      "text/html": [
       "<div>\n",
       "<style scoped>\n",
       "    .dataframe tbody tr th:only-of-type {\n",
       "        vertical-align: middle;\n",
       "    }\n",
       "\n",
       "    .dataframe tbody tr th {\n",
       "        vertical-align: top;\n",
       "    }\n",
       "\n",
       "    .dataframe thead th {\n",
       "        text-align: right;\n",
       "    }\n",
       "</style>\n",
       "<table border=\"1\" class=\"dataframe\">\n",
       "  <thead>\n",
       "    <tr style=\"text-align: right;\">\n",
       "      <th></th>\n",
       "      <th>sample0</th>\n",
       "      <th>sample1</th>\n",
       "      <th>sample2</th>\n",
       "      <th>sample3</th>\n",
       "      <th>sample4</th>\n",
       "      <th>sample5</th>\n",
       "      <th>sample6</th>\n",
       "      <th>sample7</th>\n",
       "      <th>sample8</th>\n",
       "      <th>sample9</th>\n",
       "    </tr>\n",
       "  </thead>\n",
       "  <tbody>\n",
       "    <tr>\n",
       "      <th>0</th>\n",
       "      <td>7,238.747</td>\n",
       "      <td>9,477.294</td>\n",
       "      <td>2,482.859</td>\n",
       "      <td>2,813.936</td>\n",
       "      <td>4,393.726</td>\n",
       "      <td>9,029.044</td>\n",
       "      <td>1,113.775</td>\n",
       "      <td>7,041.178</td>\n",
       "      <td>6,878.413</td>\n",
       "      <td>8,024.203</td>\n",
       "    </tr>\n",
       "    <tr>\n",
       "      <th>1</th>\n",
       "      <td>321.908</td>\n",
       "      <td>7,953.998</td>\n",
       "      <td>6,135.773</td>\n",
       "      <td>7,011.221</td>\n",
       "      <td>975.855</td>\n",
       "      <td>2,266.122</td>\n",
       "      <td>4,920.040</td>\n",
       "      <td>3,304.337</td>\n",
       "      <td>694.311</td>\n",
       "      <td>230.674</td>\n",
       "    </tr>\n",
       "    <tr>\n",
       "      <th>2</th>\n",
       "      <td>9,593.379</td>\n",
       "      <td>7,722.989</td>\n",
       "      <td>3,229.229</td>\n",
       "      <td>7,529.776</td>\n",
       "      <td>3,863.926</td>\n",
       "      <td>7,613.917</td>\n",
       "      <td>2,756.370</td>\n",
       "      <td>3,592.661</td>\n",
       "      <td>4,966.780</td>\n",
       "      <td>9,382.149</td>\n",
       "    </tr>\n",
       "    <tr>\n",
       "      <th>3</th>\n",
       "      <td>7,811.972</td>\n",
       "      <td>4,188.765</td>\n",
       "      <td>6,074.888</td>\n",
       "      <td>8,542.109</td>\n",
       "      <td>3,452.596</td>\n",
       "      <td>1,447.429</td>\n",
       "      <td>6,121.701</td>\n",
       "      <td>4,387.109</td>\n",
       "      <td>9,578.632</td>\n",
       "      <td>6,511.629</td>\n",
       "    </tr>\n",
       "    <tr>\n",
       "      <th>4</th>\n",
       "      <td>351.829</td>\n",
       "      <td>6,345.102</td>\n",
       "      <td>5,339.551</td>\n",
       "      <td>9,053.414</td>\n",
       "      <td>54.181</td>\n",
       "      <td>221.845</td>\n",
       "      <td>5,506.478</td>\n",
       "      <td>5,259.496</td>\n",
       "      <td>2,272.418</td>\n",
       "      <td>8,904.757</td>\n",
       "    </tr>\n",
       "    <tr>\n",
       "      <th>...</th>\n",
       "      <td>...</td>\n",
       "      <td>...</td>\n",
       "      <td>...</td>\n",
       "      <td>...</td>\n",
       "      <td>...</td>\n",
       "      <td>...</td>\n",
       "      <td>...</td>\n",
       "      <td>...</td>\n",
       "      <td>...</td>\n",
       "      <td>...</td>\n",
       "    </tr>\n",
       "    <tr>\n",
       "      <th>95</th>\n",
       "      <td>765.926</td>\n",
       "      <td>1,498.311</td>\n",
       "      <td>6,617.097</td>\n",
       "      <td>7,533.247</td>\n",
       "      <td>9,910.481</td>\n",
       "      <td>5,687.050</td>\n",
       "      <td>7,992.420</td>\n",
       "      <td>1,737.802</td>\n",
       "      <td>1,155.065</td>\n",
       "      <td>7,174.543</td>\n",
       "    </tr>\n",
       "    <tr>\n",
       "      <th>96</th>\n",
       "      <td>9,243.786</td>\n",
       "      <td>5,982.204</td>\n",
       "      <td>4,186.412</td>\n",
       "      <td>4,564.316</td>\n",
       "      <td>7,313.234</td>\n",
       "      <td>1,794.702</td>\n",
       "      <td>7,797.560</td>\n",
       "      <td>8,233.446</td>\n",
       "      <td>8,213.435</td>\n",
       "      <td>3,201.958</td>\n",
       "    </tr>\n",
       "    <tr>\n",
       "      <th>97</th>\n",
       "      <td>4,453.980</td>\n",
       "      <td>4,693.264</td>\n",
       "      <td>1,459.200</td>\n",
       "      <td>5,572.061</td>\n",
       "      <td>4,018.447</td>\n",
       "      <td>2,316.927</td>\n",
       "      <td>2,034.111</td>\n",
       "      <td>7,180.904</td>\n",
       "      <td>7,644.204</td>\n",
       "      <td>6,497.266</td>\n",
       "    </tr>\n",
       "    <tr>\n",
       "      <th>98</th>\n",
       "      <td>2,473.045</td>\n",
       "      <td>1,036.253</td>\n",
       "      <td>283.278</td>\n",
       "      <td>5,436.428</td>\n",
       "      <td>608.993</td>\n",
       "      <td>3,627.040</td>\n",
       "      <td>762.640</td>\n",
       "      <td>7,235.080</td>\n",
       "      <td>1,142.041</td>\n",
       "      <td>347.414</td>\n",
       "    </tr>\n",
       "    <tr>\n",
       "      <th>99</th>\n",
       "      <td>3,092.429</td>\n",
       "      <td>8,029.691</td>\n",
       "      <td>1,078.567</td>\n",
       "      <td>6,065.146</td>\n",
       "      <td>1,864.244</td>\n",
       "      <td>1,307.507</td>\n",
       "      <td>3,048.553</td>\n",
       "      <td>3,207.517</td>\n",
       "      <td>4,792.990</td>\n",
       "      <td>8,438.943</td>\n",
       "    </tr>\n",
       "  </tbody>\n",
       "</table>\n",
       "<p>100 rows × 10 columns</p>\n",
       "</div>"
      ],
      "text/plain": [
       "     sample0   sample1   sample2   sample3   sample4   sample5   sample6  \\\n",
       "0  7,238.747 9,477.294 2,482.859 2,813.936 4,393.726 9,029.044 1,113.775   \n",
       "1    321.908 7,953.998 6,135.773 7,011.221   975.855 2,266.122 4,920.040   \n",
       "2  9,593.379 7,722.989 3,229.229 7,529.776 3,863.926 7,613.917 2,756.370   \n",
       "3  7,811.972 4,188.765 6,074.888 8,542.109 3,452.596 1,447.429 6,121.701   \n",
       "4    351.829 6,345.102 5,339.551 9,053.414    54.181   221.845 5,506.478   \n",
       "..       ...       ...       ...       ...       ...       ...       ...   \n",
       "95   765.926 1,498.311 6,617.097 7,533.247 9,910.481 5,687.050 7,992.420   \n",
       "96 9,243.786 5,982.204 4,186.412 4,564.316 7,313.234 1,794.702 7,797.560   \n",
       "97 4,453.980 4,693.264 1,459.200 5,572.061 4,018.447 2,316.927 2,034.111   \n",
       "98 2,473.045 1,036.253   283.278 5,436.428   608.993 3,627.040   762.640   \n",
       "99 3,092.429 8,029.691 1,078.567 6,065.146 1,864.244 1,307.507 3,048.553   \n",
       "\n",
       "     sample7   sample8   sample9  \n",
       "0  7,041.178 6,878.413 8,024.203  \n",
       "1  3,304.337   694.311   230.674  \n",
       "2  3,592.661 4,966.780 9,382.149  \n",
       "3  4,387.109 9,578.632 6,511.629  \n",
       "4  5,259.496 2,272.418 8,904.757  \n",
       "..       ...       ...       ...  \n",
       "95 1,737.802 1,155.065 7,174.543  \n",
       "96 8,233.446 8,213.435 3,201.958  \n",
       "97 7,180.904 7,644.204 6,497.266  \n",
       "98 7,235.080 1,142.041   347.414  \n",
       "99 3,207.517 4,792.990 8,438.943  \n",
       "\n",
       "[100 rows x 10 columns]"
      ]
     },
     "execution_count": 59,
     "metadata": {},
     "output_type": "execute_result"
    }
   ],
   "source": [
    "peptide_abundance = pd.DataFrame(np.random.uniform(size=(100, 10)) * 10000, index=range(100), columns=[f'sample{i}' for i in range(10)])\n",
    "peptide_abundance"
   ]
  },
  {
   "cell_type": "code",
   "execution_count": 60,
   "id": "953c6ff2",
   "metadata": {},
   "outputs": [],
   "source": [
    "ds = Dataset.from_pandas(dfs={'peptide':{'abundance':peptide_abundance}}, mappings={'peptide-protein': peptide_protein_mapping})"
   ]
  },
  {
   "cell_type": "markdown",
   "id": "c030d439-14d4-42ad-b7ad-8f64b45f533d",
   "metadata": {},
   "source": [
    "## Protein Aggregation"
   ]
  },
  {
   "cell_type": "markdown",
   "id": "d60055eb-c0f5-45e1-90a7-62a6c4639e13",
   "metadata": {},
   "source": [
    "Since in proteomics it is often worked with logarithmic abundance values, also the peptide abundances of our artifical dataset should first be logarithmized.\n",
    "\n",
    "This also helps to understand how to access and modify dataset values in PyProteoNet. One convinient way shown here is to access a single value field or column as padas DataFrame in long format, containing all abundance values with their sample and protein id as multi index. Logarithmization can then be done as shown below, saving the logarithmized values under a new column."
   ]
  },
  {
   "cell_type": "code",
   "execution_count": 61,
   "id": "f138482f-8322-429e-862e-f7e01b3c6378",
   "metadata": {},
   "outputs": [],
   "source": [
    "ds.values['peptide']['abundance_log'] = np.log(ds.values['peptide']['abundance'])\n",
    "\n",
    "# as alternative PyProteoNet also provides a function to logarithmize whole datasets\n",
    "from pyproteonet.processing import logarithmize\n",
    "ds_log = logarithmize(ds)"
   ]
  },
  {
   "cell_type": "markdown",
   "id": "ed568087-30a0-4c6e-a2c8-c34c9edef14a",
   "metadata": {},
   "source": [
    "Usually we are interested in protein abundances. Therefore, the measured peptide abundance values need to be aggregated into protein abundance values.\n",
    "This is done via the peptide-protein mapping using an aggregation function (also called quantification function).\n",
    "\n",
    "Here we apply Top3 aggregation as a simple but commonly used aggregation function. This function computes protein abundance from the average of the three most abundant peptides corresponding to a protein. In real-world datasets some peptides are usually shared between different proteins. Since their abundance values cannot be uniquly assigned to a protein, shared peptides are often ignored during abundane aggregation and only unique peptides are considered.\n",
    "\n",
    "The result is represented as a pandas Series in long format with a multiindex to identify samples and protein ids."
   ]
  },
  {
   "cell_type": "code",
   "execution_count": 62,
   "id": "172ab818-92b9-4a19-8ad1-99f2de1253ae",
   "metadata": {},
   "outputs": [],
   "source": [
    "from pyproteonet.aggregation.partner_summarization import partner_top_n_mean\n",
    "top3 = partner_top_n_mean(dataset=ds, molecule='protein', mapping='peptide-protein', partner_column='abundance_log',\n",
    "                          top_n=3, only_unique=True)"
   ]
  },
  {
   "cell_type": "code",
   "execution_count": 63,
   "id": "9a895a72-2bd8-45b9-bd91-8065cf6f8a70",
   "metadata": {
    "scrolled": true
   },
   "outputs": [
    {
     "data": {
      "text/plain": [
       "sample   id\n",
       "sample0  0    8.973\n",
       "         1    8.965\n",
       "         2    9.147\n",
       "         3    9.063\n",
       "         4    8.800\n",
       "               ... \n",
       "sample9  5    8.874\n",
       "         6    8.961\n",
       "         7    9.136\n",
       "         8    9.041\n",
       "         9    9.055\n",
       "Name: quanti, Length: 100, dtype: float64"
      ]
     },
     "execution_count": 63,
     "metadata": {},
     "output_type": "execute_result"
    }
   ],
   "source": [
    "top3"
   ]
  },
  {
   "cell_type": "markdown",
   "id": "56545b82-7ad4-4af8-b4a2-34114bbf5bea",
   "metadata": {},
   "source": [
    "To assign this to our dataset the following syntax can be used:"
   ]
  },
  {
   "cell_type": "code",
   "execution_count": 64,
   "id": "ce59ec51-45d8-4c0e-923e-fc1c589bd6a7",
   "metadata": {},
   "outputs": [],
   "source": [
    "ds.values['protein']['top3'] = top3"
   ]
  },
  {
   "cell_type": "markdown",
   "id": "d268a9be-e67a-4b47-b28f-624c8e773f5e",
   "metadata": {},
   "source": [
    "Alternatively, most functions also allow the direct specification of a result column. So an alternative formulation of the Top3 aggregation could be as follows:"
   ]
  },
  {
   "cell_type": "code",
   "execution_count": 65,
   "id": "544cb8db-d273-43b3-a376-07e18404386e",
   "metadata": {},
   "outputs": [],
   "source": [
    "_ = partner_top_n_mean(dataset=ds, molecule='protein', mapping='peptide-protein', partner_column='abundance_log',\n",
    "                       top_n=3, only_unique=True, result_column='top3')"
   ]
  },
  {
   "cell_type": "markdown",
   "id": "24db2921-075e-44c3-9daa-c2c7289b75cf",
   "metadata": {},
   "source": [
    "The long format of the Top3 aggregated protein abundance values is little intuitive and a matrix representation is often used instead. Therefore, the `Dataset` class provides functions to represent data in different formats allowing. To get the Top3 results as a pandas DataFrame with samples as columns ans proteins as rows the `get_samples_value_matrix` function can be useful:"
   ]
  },
  {
   "cell_type": "code",
   "execution_count": 66,
   "id": "50bf8e18-ef38-48f1-8b88-62011d1ccb93",
   "metadata": {
    "scrolled": true
   },
   "outputs": [
    {
     "data": {
      "text/html": [
       "<div>\n",
       "<style scoped>\n",
       "    .dataframe tbody tr th:only-of-type {\n",
       "        vertical-align: middle;\n",
       "    }\n",
       "\n",
       "    .dataframe tbody tr th {\n",
       "        vertical-align: top;\n",
       "    }\n",
       "\n",
       "    .dataframe thead th {\n",
       "        text-align: right;\n",
       "    }\n",
       "</style>\n",
       "<table border=\"1\" class=\"dataframe\">\n",
       "  <thead>\n",
       "    <tr style=\"text-align: right;\">\n",
       "      <th></th>\n",
       "      <th>sample0</th>\n",
       "      <th>sample1</th>\n",
       "      <th>sample2</th>\n",
       "      <th>sample3</th>\n",
       "      <th>sample4</th>\n",
       "      <th>sample5</th>\n",
       "      <th>sample6</th>\n",
       "      <th>sample7</th>\n",
       "      <th>sample8</th>\n",
       "      <th>sample9</th>\n",
       "    </tr>\n",
       "    <tr>\n",
       "      <th>id</th>\n",
       "      <th></th>\n",
       "      <th></th>\n",
       "      <th></th>\n",
       "      <th></th>\n",
       "      <th></th>\n",
       "      <th></th>\n",
       "      <th></th>\n",
       "      <th></th>\n",
       "      <th></th>\n",
       "      <th></th>\n",
       "    </tr>\n",
       "  </thead>\n",
       "  <tbody>\n",
       "    <tr>\n",
       "      <th>0</th>\n",
       "      <td>8.973</td>\n",
       "      <td>9.051</td>\n",
       "      <td>8.868</td>\n",
       "      <td>9.093</td>\n",
       "      <td>9.108</td>\n",
       "      <td>9.031</td>\n",
       "      <td>9.020</td>\n",
       "      <td>8.917</td>\n",
       "      <td>8.922</td>\n",
       "      <td>9.038</td>\n",
       "    </tr>\n",
       "    <tr>\n",
       "      <th>1</th>\n",
       "      <td>8.965</td>\n",
       "      <td>8.975</td>\n",
       "      <td>9.110</td>\n",
       "      <td>9.090</td>\n",
       "      <td>9.069</td>\n",
       "      <td>9.056</td>\n",
       "      <td>8.983</td>\n",
       "      <td>8.702</td>\n",
       "      <td>9.082</td>\n",
       "      <td>9.050</td>\n",
       "    </tr>\n",
       "    <tr>\n",
       "      <th>2</th>\n",
       "      <td>9.147</td>\n",
       "      <td>8.979</td>\n",
       "      <td>8.948</td>\n",
       "      <td>9.096</td>\n",
       "      <td>9.115</td>\n",
       "      <td>9.049</td>\n",
       "      <td>8.966</td>\n",
       "      <td>8.962</td>\n",
       "      <td>9.068</td>\n",
       "      <td>9.124</td>\n",
       "    </tr>\n",
       "    <tr>\n",
       "      <th>3</th>\n",
       "      <td>9.063</td>\n",
       "      <td>8.585</td>\n",
       "      <td>9.034</td>\n",
       "      <td>8.866</td>\n",
       "      <td>8.872</td>\n",
       "      <td>9.092</td>\n",
       "      <td>9.087</td>\n",
       "      <td>9.099</td>\n",
       "      <td>9.138</td>\n",
       "      <td>8.963</td>\n",
       "    </tr>\n",
       "    <tr>\n",
       "      <th>4</th>\n",
       "      <td>8.800</td>\n",
       "      <td>9.119</td>\n",
       "      <td>9.061</td>\n",
       "      <td>9.122</td>\n",
       "      <td>8.678</td>\n",
       "      <td>9.083</td>\n",
       "      <td>8.854</td>\n",
       "      <td>9.020</td>\n",
       "      <td>9.081</td>\n",
       "      <td>8.954</td>\n",
       "    </tr>\n",
       "    <tr>\n",
       "      <th>5</th>\n",
       "      <td>8.937</td>\n",
       "      <td>9.034</td>\n",
       "      <td>8.908</td>\n",
       "      <td>9.078</td>\n",
       "      <td>9.030</td>\n",
       "      <td>8.701</td>\n",
       "      <td>9.137</td>\n",
       "      <td>9.002</td>\n",
       "      <td>8.971</td>\n",
       "      <td>8.874</td>\n",
       "    </tr>\n",
       "    <tr>\n",
       "      <th>6</th>\n",
       "      <td>9.023</td>\n",
       "      <td>8.764</td>\n",
       "      <td>9.097</td>\n",
       "      <td>8.998</td>\n",
       "      <td>8.884</td>\n",
       "      <td>9.063</td>\n",
       "      <td>9.087</td>\n",
       "      <td>9.068</td>\n",
       "      <td>8.967</td>\n",
       "      <td>8.961</td>\n",
       "    </tr>\n",
       "    <tr>\n",
       "      <th>7</th>\n",
       "      <td>9.057</td>\n",
       "      <td>9.023</td>\n",
       "      <td>9.053</td>\n",
       "      <td>8.993</td>\n",
       "      <td>8.863</td>\n",
       "      <td>8.994</td>\n",
       "      <td>9.146</td>\n",
       "      <td>9.021</td>\n",
       "      <td>9.083</td>\n",
       "      <td>9.136</td>\n",
       "    </tr>\n",
       "    <tr>\n",
       "      <th>8</th>\n",
       "      <td>8.969</td>\n",
       "      <td>8.928</td>\n",
       "      <td>9.107</td>\n",
       "      <td>9.113</td>\n",
       "      <td>9.099</td>\n",
       "      <td>9.030</td>\n",
       "      <td>9.129</td>\n",
       "      <td>9.017</td>\n",
       "      <td>8.582</td>\n",
       "      <td>9.041</td>\n",
       "    </tr>\n",
       "    <tr>\n",
       "      <th>9</th>\n",
       "      <td>8.820</td>\n",
       "      <td>9.059</td>\n",
       "      <td>9.174</td>\n",
       "      <td>8.972</td>\n",
       "      <td>8.991</td>\n",
       "      <td>9.035</td>\n",
       "      <td>8.928</td>\n",
       "      <td>8.965</td>\n",
       "      <td>8.845</td>\n",
       "      <td>9.055</td>\n",
       "    </tr>\n",
       "  </tbody>\n",
       "</table>\n",
       "</div>"
      ],
      "text/plain": [
       "    sample0  sample1  sample2  sample3  sample4  sample5  sample6  sample7  \\\n",
       "id                                                                           \n",
       "0     8.973    9.051    8.868    9.093    9.108    9.031    9.020    8.917   \n",
       "1     8.965    8.975    9.110    9.090    9.069    9.056    8.983    8.702   \n",
       "2     9.147    8.979    8.948    9.096    9.115    9.049    8.966    8.962   \n",
       "3     9.063    8.585    9.034    8.866    8.872    9.092    9.087    9.099   \n",
       "4     8.800    9.119    9.061    9.122    8.678    9.083    8.854    9.020   \n",
       "5     8.937    9.034    8.908    9.078    9.030    8.701    9.137    9.002   \n",
       "6     9.023    8.764    9.097    8.998    8.884    9.063    9.087    9.068   \n",
       "7     9.057    9.023    9.053    8.993    8.863    8.994    9.146    9.021   \n",
       "8     8.969    8.928    9.107    9.113    9.099    9.030    9.129    9.017   \n",
       "9     8.820    9.059    9.174    8.972    8.991    9.035    8.928    8.965   \n",
       "\n",
       "    sample8  sample9  \n",
       "id                    \n",
       "0     8.922    9.038  \n",
       "1     9.082    9.050  \n",
       "2     9.068    9.124  \n",
       "3     9.138    8.963  \n",
       "4     9.081    8.954  \n",
       "5     8.971    8.874  \n",
       "6     8.967    8.961  \n",
       "7     9.083    9.136  \n",
       "8     8.582    9.041  \n",
       "9     8.845    9.055  "
      ]
     },
     "execution_count": 66,
     "metadata": {},
     "output_type": "execute_result"
    }
   ],
   "source": [
    "ds.get_samples_value_matrix(molecule='protein', column='top3')"
   ]
  },
  {
   "cell_type": "markdown",
   "id": "534916be-3929-4f7f-9de2-a5e61807a117",
   "metadata": {},
   "source": [
    "Next to the rather simple neighbor average (Top3), PyProteoNet also provides an efficient implementation of the more complex MaxLFQ protein aggregation method propose by [Cox et al.](https://www.mcponline.org/article/S1535-9476(20)33310-7/fulltext).\n",
    "\n",
    "This methods takes peptide abundance ratios between all samples into account and then solves a least squares optimization probel to find protein abundance values best representing the observed peptide abundances. \n",
    "Similar to [Cox et al.](https://www.mcponline.org/article/S1535-9476(20)33310-7/fulltext) we here require at least two non missing peptide abundances. Additionally, we need to specify that the given values are already logarithmic to allows the correct calculation of peptide ratios between samples."
   ]
  },
  {
   "cell_type": "code",
   "execution_count": 67,
   "id": "f6396e8d-6878-41d7-a327-7bf222b7937a",
   "metadata": {},
   "outputs": [],
   "source": [
    "from pyproteonet.aggregation import maxlfq\n",
    "_ = maxlfq(dataset=ds, molecule='protein', mapping='peptide-protein', partner_column='abundance_log',\n",
    "           min_ratios=2, median_fallback=False, result_column='maxlfq', is_log=True)"
   ]
  },
  {
   "cell_type": "markdown",
   "id": "6cd17ddd-aead-494f-aed0-a3314fd8f92e",
   "metadata": {},
   "source": [
    "Next to the matrix representation we can also look at all columns of a molecule using its long format representation as pandas DataFrame with multiindex. To do so we can again use the `values` attribute of our dataset. Using the `df` shortcut, we get a DataFrame of all columns for a molecule type in long format."
   ]
  },
  {
   "cell_type": "code",
   "execution_count": 68,
   "id": "c64671a1-fe32-4787-a9a9-039a3515b083",
   "metadata": {
    "scrolled": true
   },
   "outputs": [
    {
     "data": {
      "text/html": [
       "<div>\n",
       "<style scoped>\n",
       "    .dataframe tbody tr th:only-of-type {\n",
       "        vertical-align: middle;\n",
       "    }\n",
       "\n",
       "    .dataframe tbody tr th {\n",
       "        vertical-align: top;\n",
       "    }\n",
       "\n",
       "    .dataframe thead th {\n",
       "        text-align: right;\n",
       "    }\n",
       "</style>\n",
       "<table border=\"1\" class=\"dataframe\">\n",
       "  <thead>\n",
       "    <tr style=\"text-align: right;\">\n",
       "      <th></th>\n",
       "      <th></th>\n",
       "      <th>top3</th>\n",
       "      <th>maxlfq</th>\n",
       "    </tr>\n",
       "    <tr>\n",
       "      <th>sample</th>\n",
       "      <th>id</th>\n",
       "      <th></th>\n",
       "      <th></th>\n",
       "    </tr>\n",
       "  </thead>\n",
       "  <tbody>\n",
       "    <tr>\n",
       "      <th rowspan=\"5\" valign=\"top\">sample0</th>\n",
       "      <th>0</th>\n",
       "      <td>8.973</td>\n",
       "      <td>8.369</td>\n",
       "    </tr>\n",
       "    <tr>\n",
       "      <th>1</th>\n",
       "      <td>8.965</td>\n",
       "      <td>7.666</td>\n",
       "    </tr>\n",
       "    <tr>\n",
       "      <th>2</th>\n",
       "      <td>9.147</td>\n",
       "      <td>7.573</td>\n",
       "    </tr>\n",
       "    <tr>\n",
       "      <th>3</th>\n",
       "      <td>9.063</td>\n",
       "      <td>8.418</td>\n",
       "    </tr>\n",
       "    <tr>\n",
       "      <th>4</th>\n",
       "      <td>8.800</td>\n",
       "      <td>8.036</td>\n",
       "    </tr>\n",
       "    <tr>\n",
       "      <th>...</th>\n",
       "      <th>...</th>\n",
       "      <td>...</td>\n",
       "      <td>...</td>\n",
       "    </tr>\n",
       "    <tr>\n",
       "      <th rowspan=\"5\" valign=\"top\">sample9</th>\n",
       "      <th>5</th>\n",
       "      <td>8.874</td>\n",
       "      <td>8.315</td>\n",
       "    </tr>\n",
       "    <tr>\n",
       "      <th>6</th>\n",
       "      <td>8.961</td>\n",
       "      <td>7.841</td>\n",
       "    </tr>\n",
       "    <tr>\n",
       "      <th>7</th>\n",
       "      <td>9.136</td>\n",
       "      <td>8.543</td>\n",
       "    </tr>\n",
       "    <tr>\n",
       "      <th>8</th>\n",
       "      <td>9.041</td>\n",
       "      <td>8.223</td>\n",
       "    </tr>\n",
       "    <tr>\n",
       "      <th>9</th>\n",
       "      <td>9.055</td>\n",
       "      <td>8.188</td>\n",
       "    </tr>\n",
       "  </tbody>\n",
       "</table>\n",
       "<p>100 rows × 2 columns</p>\n",
       "</div>"
      ],
      "text/plain": [
       "            top3  maxlfq\n",
       "sample  id              \n",
       "sample0 0  8.973   8.369\n",
       "        1  8.965   7.666\n",
       "        2  9.147   7.573\n",
       "        3  9.063   8.418\n",
       "        4  8.800   8.036\n",
       "...          ...     ...\n",
       "sample9 5  8.874   8.315\n",
       "        6  8.961   7.841\n",
       "        7  9.136   8.543\n",
       "        8  9.041   8.223\n",
       "        9  9.055   8.188\n",
       "\n",
       "[100 rows x 2 columns]"
      ]
     },
     "execution_count": 68,
     "metadata": {},
     "output_type": "execute_result"
    }
   ],
   "source": [
    "ds.values['protein'].df"
   ]
  },
  {
   "cell_type": "markdown",
   "id": "35ddcf51-66d0-4f07-b28c-214d70b64188",
   "metadata": {},
   "source": [
    "## Missing Value Imputation"
   ]
  },
  {
   "cell_type": "markdown",
   "id": "8cd5583c-9e58-48f7-a224-315c20c54528",
   "metadata": {},
   "source": [
    "Pyproteonet provides a wide range of established as well as newly proposed, graph neural network (GNN) based missing value imputation functions.\n",
    "\n",
    "The interface for most imputation functions is similar to this of the aggregation functions shown above. Next to a dataset you need to provide the molecole type as well as the column(s) to impute and, optionally, values for method specific hyperparameters."
   ]
  },
  {
   "cell_type": "markdown",
   "id": "166678d5-b620-426c-887a-7b2dbe464171",
   "metadata": {},
   "source": [
    "Of course, for imputation, we first of all need some missing values. So for our example we just mask some of the Top3 values. To do so we, again, use the `values` attribute of our dataset to get all Top3 values as pandas DataFrame in long format. Then, we replace some of the values with `Na` using pandas and, finally, we write the result back as a new column in our dataset"
   ]
  },
  {
   "cell_type": "code",
   "execution_count": 69,
   "id": "3442bf3a-95d1-4abf-8518-72a0c54193cb",
   "metadata": {},
   "outputs": [],
   "source": [
    "vals = ds.values['protein']['top3']\n",
    "vals.loc[vals.sample(frac=0.33).index] = np.nan\n",
    "ds.values['protein']['top3_masked'] = vals"
   ]
  },
  {
   "cell_type": "code",
   "execution_count": 70,
   "id": "592c3faa-12ab-4a8b-9105-dcee2e7ada08",
   "metadata": {
    "scrolled": true
   },
   "outputs": [
    {
     "data": {
      "text/html": [
       "<div>\n",
       "<style scoped>\n",
       "    .dataframe tbody tr th:only-of-type {\n",
       "        vertical-align: middle;\n",
       "    }\n",
       "\n",
       "    .dataframe tbody tr th {\n",
       "        vertical-align: top;\n",
       "    }\n",
       "\n",
       "    .dataframe thead th {\n",
       "        text-align: right;\n",
       "    }\n",
       "</style>\n",
       "<table border=\"1\" class=\"dataframe\">\n",
       "  <thead>\n",
       "    <tr style=\"text-align: right;\">\n",
       "      <th></th>\n",
       "      <th></th>\n",
       "      <th>top3</th>\n",
       "      <th>maxlfq</th>\n",
       "      <th>top3_masked</th>\n",
       "    </tr>\n",
       "    <tr>\n",
       "      <th>sample</th>\n",
       "      <th>id</th>\n",
       "      <th></th>\n",
       "      <th></th>\n",
       "      <th></th>\n",
       "    </tr>\n",
       "  </thead>\n",
       "  <tbody>\n",
       "    <tr>\n",
       "      <th rowspan=\"5\" valign=\"top\">sample0</th>\n",
       "      <th>0</th>\n",
       "      <td>8.973</td>\n",
       "      <td>8.369</td>\n",
       "      <td>8.973</td>\n",
       "    </tr>\n",
       "    <tr>\n",
       "      <th>1</th>\n",
       "      <td>8.965</td>\n",
       "      <td>7.666</td>\n",
       "      <td>NaN</td>\n",
       "    </tr>\n",
       "    <tr>\n",
       "      <th>2</th>\n",
       "      <td>9.147</td>\n",
       "      <td>7.573</td>\n",
       "      <td>9.147</td>\n",
       "    </tr>\n",
       "    <tr>\n",
       "      <th>3</th>\n",
       "      <td>9.063</td>\n",
       "      <td>8.418</td>\n",
       "      <td>NaN</td>\n",
       "    </tr>\n",
       "    <tr>\n",
       "      <th>4</th>\n",
       "      <td>8.800</td>\n",
       "      <td>8.036</td>\n",
       "      <td>NaN</td>\n",
       "    </tr>\n",
       "    <tr>\n",
       "      <th>...</th>\n",
       "      <th>...</th>\n",
       "      <td>...</td>\n",
       "      <td>...</td>\n",
       "      <td>...</td>\n",
       "    </tr>\n",
       "    <tr>\n",
       "      <th rowspan=\"5\" valign=\"top\">sample9</th>\n",
       "      <th>5</th>\n",
       "      <td>8.874</td>\n",
       "      <td>8.315</td>\n",
       "      <td>8.874</td>\n",
       "    </tr>\n",
       "    <tr>\n",
       "      <th>6</th>\n",
       "      <td>8.961</td>\n",
       "      <td>7.841</td>\n",
       "      <td>8.961</td>\n",
       "    </tr>\n",
       "    <tr>\n",
       "      <th>7</th>\n",
       "      <td>9.136</td>\n",
       "      <td>8.543</td>\n",
       "      <td>NaN</td>\n",
       "    </tr>\n",
       "    <tr>\n",
       "      <th>8</th>\n",
       "      <td>9.041</td>\n",
       "      <td>8.223</td>\n",
       "      <td>9.041</td>\n",
       "    </tr>\n",
       "    <tr>\n",
       "      <th>9</th>\n",
       "      <td>9.055</td>\n",
       "      <td>8.188</td>\n",
       "      <td>9.055</td>\n",
       "    </tr>\n",
       "  </tbody>\n",
       "</table>\n",
       "<p>100 rows × 3 columns</p>\n",
       "</div>"
      ],
      "text/plain": [
       "            top3  maxlfq  top3_masked\n",
       "sample  id                           \n",
       "sample0 0  8.973   8.369        8.973\n",
       "        1  8.965   7.666          NaN\n",
       "        2  9.147   7.573        9.147\n",
       "        3  9.063   8.418          NaN\n",
       "        4  8.800   8.036          NaN\n",
       "...          ...     ...          ...\n",
       "sample9 5  8.874   8.315        8.874\n",
       "        6  8.961   7.841        8.961\n",
       "        7  9.136   8.543          NaN\n",
       "        8  9.041   8.223        9.041\n",
       "        9  9.055   8.188        9.055\n",
       "\n",
       "[100 rows x 3 columns]"
      ]
     },
     "execution_count": 70,
     "metadata": {},
     "output_type": "execute_result"
    }
   ],
   "source": [
    "ds.values['protein'].df"
   ]
  },
  {
   "cell_type": "markdown",
   "id": "a2c5e0ec-be9f-452f-a418-2d360b642c0c",
   "metadata": {},
   "source": [
    "Let's use the commonly used MissForrest as well as BPCA imputation methods to impute missing values.\n",
    "PyProteoNet provides a high level api for common imputation function operating only on a single molecule type (e.g. on protein level)."
   ]
  },
  {
   "cell_type": "code",
   "execution_count": 71,
   "id": "18328088",
   "metadata": {},
   "outputs": [
    {
     "data": {
      "application/vnd.jupyter.widget-view+json": {
       "model_id": "19f5785c59b049dea0a8a1f06df66aed",
       "version_major": 2,
       "version_minor": 0
      },
      "text/plain": [
       "  0%|          | 0/2 [00:00<?, ?it/s]"
      ]
     },
     "metadata": {},
     "output_type": "display_data"
    },
    {
     "name": "stdout",
     "output_type": "stream",
     "text": [
      "Imputing with methods missforest, storig results in value column top3_missforest\n",
      "Iteration: 0\n",
      "Iteration: 1\n",
      "Iteration: 2\n",
      "Iteration: 3\n",
      "Iteration: 4\n",
      "Imputing with methods bpca, storig results in value column top3_bpca\n"
     ]
    }
   ],
   "source": [
    "from pyproteonet.imputation.high_level_api import impute_molecule\n",
    "\n",
    "impute_molecule(dataset=ds, molecule='protein', column='top3_masked', methods=['missforest', 'bpca'],\n",
    "                result_columns=['top3_missforest', 'top3_bpca'])"
   ]
  },
  {
   "cell_type": "markdown",
   "id": "7ae90103",
   "metadata": {},
   "source": [
    "Alternatively, PyProteoNet provides seperate functions for all imputation methods, allowing for example specifying additional argumets"
   ]
  },
  {
   "cell_type": "code",
   "execution_count": 72,
   "id": "fb704a39-c859-46ce-938a-fa7bdb80ab41",
   "metadata": {
    "tags": [
     "remove-stdout",
     "remove-stderr"
    ]
   },
   "outputs": [],
   "source": [
    "from pyproteonet.imputation.r.miss_forest import miss_forest_impute\n",
    "\n",
    "ds.values['protein']['top3_missforest'] = miss_forest_impute(dataset=ds, molecule='protein', column='top3_masked', ntree=5)"
   ]
  },
  {
   "cell_type": "markdown",
   "id": "c5cc4d13-85db-4a31-95a1-f41554ba2601",
   "metadata": {},
   "source": [
    "Looking at the result we can see that the missing values are gone:"
   ]
  },
  {
   "cell_type": "code",
   "execution_count": 73,
   "id": "0cb6215b-9c2a-4156-84f7-6704c2d7de27",
   "metadata": {
    "scrolled": true
   },
   "outputs": [
    {
     "data": {
      "text/html": [
       "<div>\n",
       "<style scoped>\n",
       "    .dataframe tbody tr th:only-of-type {\n",
       "        vertical-align: middle;\n",
       "    }\n",
       "\n",
       "    .dataframe tbody tr th {\n",
       "        vertical-align: top;\n",
       "    }\n",
       "\n",
       "    .dataframe thead th {\n",
       "        text-align: right;\n",
       "    }\n",
       "</style>\n",
       "<table border=\"1\" class=\"dataframe\">\n",
       "  <thead>\n",
       "    <tr style=\"text-align: right;\">\n",
       "      <th></th>\n",
       "      <th></th>\n",
       "      <th>top3</th>\n",
       "      <th>maxlfq</th>\n",
       "      <th>top3_masked</th>\n",
       "      <th>top3_missforest</th>\n",
       "      <th>top3_bpca</th>\n",
       "    </tr>\n",
       "    <tr>\n",
       "      <th>sample</th>\n",
       "      <th>id</th>\n",
       "      <th></th>\n",
       "      <th></th>\n",
       "      <th></th>\n",
       "      <th></th>\n",
       "      <th></th>\n",
       "    </tr>\n",
       "  </thead>\n",
       "  <tbody>\n",
       "    <tr>\n",
       "      <th rowspan=\"5\" valign=\"top\">sample0</th>\n",
       "      <th>0</th>\n",
       "      <td>8.973</td>\n",
       "      <td>8.369</td>\n",
       "      <td>8.973</td>\n",
       "      <td>8.973</td>\n",
       "      <td>8.973</td>\n",
       "    </tr>\n",
       "    <tr>\n",
       "      <th>1</th>\n",
       "      <td>8.965</td>\n",
       "      <td>7.666</td>\n",
       "      <td>NaN</td>\n",
       "      <td>8.992</td>\n",
       "      <td>9.034</td>\n",
       "    </tr>\n",
       "    <tr>\n",
       "      <th>2</th>\n",
       "      <td>9.147</td>\n",
       "      <td>7.573</td>\n",
       "      <td>9.147</td>\n",
       "      <td>9.147</td>\n",
       "      <td>9.147</td>\n",
       "    </tr>\n",
       "    <tr>\n",
       "      <th>3</th>\n",
       "      <td>9.063</td>\n",
       "      <td>8.418</td>\n",
       "      <td>NaN</td>\n",
       "      <td>9.046</td>\n",
       "      <td>9.034</td>\n",
       "    </tr>\n",
       "    <tr>\n",
       "      <th>4</th>\n",
       "      <td>8.800</td>\n",
       "      <td>8.036</td>\n",
       "      <td>NaN</td>\n",
       "      <td>9.073</td>\n",
       "      <td>9.034</td>\n",
       "    </tr>\n",
       "    <tr>\n",
       "      <th>...</th>\n",
       "      <th>...</th>\n",
       "      <td>...</td>\n",
       "      <td>...</td>\n",
       "      <td>...</td>\n",
       "      <td>...</td>\n",
       "      <td>...</td>\n",
       "    </tr>\n",
       "    <tr>\n",
       "      <th rowspan=\"5\" valign=\"top\">sample9</th>\n",
       "      <th>5</th>\n",
       "      <td>8.874</td>\n",
       "      <td>8.315</td>\n",
       "      <td>8.874</td>\n",
       "      <td>8.874</td>\n",
       "      <td>8.874</td>\n",
       "    </tr>\n",
       "    <tr>\n",
       "      <th>6</th>\n",
       "      <td>8.961</td>\n",
       "      <td>7.841</td>\n",
       "      <td>8.961</td>\n",
       "      <td>8.961</td>\n",
       "      <td>8.961</td>\n",
       "    </tr>\n",
       "    <tr>\n",
       "      <th>7</th>\n",
       "      <td>9.136</td>\n",
       "      <td>8.543</td>\n",
       "      <td>NaN</td>\n",
       "      <td>9.050</td>\n",
       "      <td>9.008</td>\n",
       "    </tr>\n",
       "    <tr>\n",
       "      <th>8</th>\n",
       "      <td>9.041</td>\n",
       "      <td>8.223</td>\n",
       "      <td>9.041</td>\n",
       "      <td>9.041</td>\n",
       "      <td>9.041</td>\n",
       "    </tr>\n",
       "    <tr>\n",
       "      <th>9</th>\n",
       "      <td>9.055</td>\n",
       "      <td>8.188</td>\n",
       "      <td>9.055</td>\n",
       "      <td>9.055</td>\n",
       "      <td>9.055</td>\n",
       "    </tr>\n",
       "  </tbody>\n",
       "</table>\n",
       "<p>100 rows × 5 columns</p>\n",
       "</div>"
      ],
      "text/plain": [
       "            top3  maxlfq  top3_masked  top3_missforest  top3_bpca\n",
       "sample  id                                                       \n",
       "sample0 0  8.973   8.369        8.973            8.973      8.973\n",
       "        1  8.965   7.666          NaN            8.992      9.034\n",
       "        2  9.147   7.573        9.147            9.147      9.147\n",
       "        3  9.063   8.418          NaN            9.046      9.034\n",
       "        4  8.800   8.036          NaN            9.073      9.034\n",
       "...          ...     ...          ...              ...        ...\n",
       "sample9 5  8.874   8.315        8.874            8.874      8.874\n",
       "        6  8.961   7.841        8.961            8.961      8.961\n",
       "        7  9.136   8.543          NaN            9.050      9.008\n",
       "        8  9.041   8.223        9.041            9.041      9.041\n",
       "        9  9.055   8.188        9.055            9.055      9.055\n",
       "\n",
       "[100 rows x 5 columns]"
      ]
     },
     "execution_count": 73,
     "metadata": {},
     "output_type": "execute_result"
    }
   ],
   "source": [
    "ds.values['protein'].df"
   ]
  },
  {
   "cell_type": "markdown",
   "id": "dd05595b-2257-4ab1-950a-49526861eb35",
   "metadata": {},
   "source": [
    "If you look at the import of the impute_miss_forest function you will notice that this function is part of the \"r\" subpackage.\n",
    "Most established imputation algorithms are implemented in the R programming language and provided as R packages. To also provide those algorithms while maintaining a unified Python interfact PyProteoNet wraps those R packages. \n",
    "Therefore, all algorithms in the \"r\" subpackage require an existing R installation (if you use a conda/mamba environment you could simply install one with the command `conda install -c conda-forge r-base`). For the user it is transparent whether an imputation function is implemented in Python or wrapped from an R package. All installation of R dependencies and conversion of data types between Python and R is done in the background by PyProteoNet (internally the rpy2 package is used for this)."
   ]
  },
  {
   "cell_type": "markdown",
   "id": "ee8c7c8e-cdd7-47d8-a343-79451420d43c",
   "metadata": {},
   "source": [
    "> **Note**: Compared to other proteomics- or imputation-focused packages PyProteoNet allows to jointly manage protein and peptide values as well as the relation between them (plus any other additional molecule types if required). This together with the implemented aggragation and imputation functions allows for a more versatile usage scenarios. E.g. imputation can be applied both on peptide level (before aggregation) as well as on protein level (after aggregation). In addition, the application and comparision of different imputation algorithmis and stratigies on the same dataset is facilitated"
   ]
  },
  {
   "cell_type": "markdown",
   "id": "2d1ac861-e0ff-4007-aea7-3425ad8eadbe",
   "metadata": {},
   "source": [
    "## Graph Neural Network Imputation"
   ]
  },
  {
   "cell_type": "markdown",
   "id": "db1f961f-f41d-43bd-85f1-759c4512089c",
   "metadata": {},
   "source": [
    "While traditionally, imputation is either applied on peptide OR on protein level modelling protein and peptides a graph structure allows for flexilbe imputation strategies jointly taking information from both molecules into account. Therefore, imputation is formulated as a regression problem on the protein-peptide graph which is then solved by training a graph neural network (GNN).\n",
    "\n",
    "While PyProteoNet provides different flavors and implementations using different network architectures and training schemes for the underlying GNN, those imputation methods can be called via a similar interface as other imputation methods.\n",
    "Since two types of molecules (proteins and peptides) are taken into account, the name of those molecule types as well as two value columns have to be specified.\n",
    "\n",
    "Additional hyperparameters can be set aswell (here set to values used for real-world datasets)"
   ]
  },
  {
   "cell_type": "code",
   "execution_count": 74,
   "id": "45074e75-f927-4829-8f48-42a89f38ca16",
   "metadata": {
    "scrolled": true
   },
   "outputs": [
    {
     "name": "stdout",
     "output_type": "stream",
     "text": [
      "seed: 881061604\n"
     ]
    },
    {
     "name": "stderr",
     "output_type": "stream",
     "text": [
      "GPU available: True (cuda), used: True\n",
      "TPU available: False, using: 0 TPU cores\n",
      "IPU available: False, using: 0 IPUs\n",
      "HPU available: False, using: 0 HPUs\n",
      "LOCAL_RANK: 0 - CUDA_VISIBLE_DEVICES: [0]\n",
      "\n",
      "  | Name              | Type            | Params\n",
      "------------------------------------------------------\n",
      "0 | embedding         | Embedding       | 50    \n",
      "1 | molecule_fc_model | Sequential      | 11.0 K\n",
      "2 | partner_fc_model  | Sequential      | 11.4 K\n",
      "3 | molecule_gat      | HeteroGraphConv | 34.4 K\n",
      "4 | partner_gat       | HeteroGraphConv | 50.4 K\n",
      "5 | molecule_gat2     | HeteroGraphConv | 66.4 K\n",
      "6 | molecule_linear   | Linear          | 820   \n",
      "7 | partner_linear    | Linear          | 1.2 K \n",
      "8 | loss_fn           | GaussianNLLLoss | 0     \n",
      "------------------------------------------------------\n",
      "175 K     Trainable params\n",
      "0         Non-trainable params\n",
      "175 K     Total params\n",
      "0.703     Total estimated model params size (MB)\n"
     ]
    },
    {
     "data": {
      "application/vnd.jupyter.widget-view+json": {
       "model_id": "2b938c6a14464aedac010d8e543dfd18",
       "version_major": 2,
       "version_minor": 0
      },
      "text/plain": [
       "Training: |                                                                                                   …"
      ]
     },
     "metadata": {},
     "output_type": "display_data"
    },
    {
     "name": "stdout",
     "output_type": "stream",
     "text": [
      "step29: num_masked_molecule:67.000 || num_masked_partner:239.167 || molecule_loss:0.466 || partner_loss:0.512 || train_loss:0.978 || epoch:0.000 || \n",
      "step59: num_masked_molecule:67.000 || num_masked_partner:235.867 || molecule_loss:0.385 || partner_loss:0.470 || train_loss:0.855 || epoch:1.000 || \n"
     ]
    },
    {
     "name": "stderr",
     "output_type": "stream",
     "text": [
      "`Trainer.fit` stopped: `max_epochs=3` reached.\n",
      "LOCAL_RANK: 0 - CUDA_VISIBLE_DEVICES: [0]\n"
     ]
    },
    {
     "name": "stdout",
     "output_type": "stream",
     "text": [
      "step89: num_masked_molecule:67.000 || num_masked_partner:249.233 || molecule_loss:0.298 || partner_loss:0.452 || train_loss:0.749 || epoch:2.000 || \n"
     ]
    },
    {
     "data": {
      "application/vnd.jupyter.widget-view+json": {
       "model_id": "df2ac232aa114533bd8ecd1e908f6707",
       "version_major": 2,
       "version_minor": 0
      },
      "text/plain": [
       "Predicting: |                                                                                                 …"
      ]
     },
     "metadata": {},
     "output_type": "display_data"
    },
    {
     "data": {
      "text/plain": [
       "sample   id\n",
       "sample0  0    8.973\n",
       "sample1  0    9.051\n",
       "sample2  0    9.041\n",
       "sample3  0    9.093\n",
       "sample4  0    9.108\n",
       "               ... \n",
       "sample5  9    9.035\n",
       "sample6  9    8.928\n",
       "sample7  9    8.958\n",
       "sample8  9    8.994\n",
       "sample9  9    9.055\n",
       "Length: 100, dtype: float64"
      ]
     },
     "execution_count": 74,
     "metadata": {},
     "output_type": "execute_result"
    }
   ],
   "source": [
    "from pyproteonet.imputation.dnn.gnn import impute_heterogeneous_gnn\n",
    "\n",
    "# For the toy example with random data we use a small number of epochs and patience\n",
    "impute_heterogeneous_gnn(dataset=ds, molecule='protein', column='top3_masked', mapping='peptide-protein', partner_column='abundance_log',\n",
    "                         molecule_result_column=f'gnn_hetero', partner_result_column=f'gnn_hetero',\n",
    "                         max_epochs=3, early_stopping_patience=3)"
   ]
  },
  {
   "cell_type": "code",
   "execution_count": 75,
   "id": "d2992c86-8426-43b6-91ad-4dd03a570464",
   "metadata": {
    "scrolled": true
   },
   "outputs": [
    {
     "data": {
      "text/html": [
       "<div>\n",
       "<style scoped>\n",
       "    .dataframe tbody tr th:only-of-type {\n",
       "        vertical-align: middle;\n",
       "    }\n",
       "\n",
       "    .dataframe tbody tr th {\n",
       "        vertical-align: top;\n",
       "    }\n",
       "\n",
       "    .dataframe thead th {\n",
       "        text-align: right;\n",
       "    }\n",
       "</style>\n",
       "<table border=\"1\" class=\"dataframe\">\n",
       "  <thead>\n",
       "    <tr style=\"text-align: right;\">\n",
       "      <th></th>\n",
       "      <th></th>\n",
       "      <th>top3</th>\n",
       "      <th>maxlfq</th>\n",
       "      <th>top3_masked</th>\n",
       "      <th>top3_missforest</th>\n",
       "      <th>top3_bpca</th>\n",
       "      <th>gnn_hetero</th>\n",
       "    </tr>\n",
       "    <tr>\n",
       "      <th>sample</th>\n",
       "      <th>id</th>\n",
       "      <th></th>\n",
       "      <th></th>\n",
       "      <th></th>\n",
       "      <th></th>\n",
       "      <th></th>\n",
       "      <th></th>\n",
       "    </tr>\n",
       "  </thead>\n",
       "  <tbody>\n",
       "    <tr>\n",
       "      <th rowspan=\"5\" valign=\"top\">sample0</th>\n",
       "      <th>0</th>\n",
       "      <td>8.973</td>\n",
       "      <td>8.369</td>\n",
       "      <td>8.973</td>\n",
       "      <td>8.973</td>\n",
       "      <td>8.973</td>\n",
       "      <td>8.973</td>\n",
       "    </tr>\n",
       "    <tr>\n",
       "      <th>1</th>\n",
       "      <td>8.965</td>\n",
       "      <td>7.666</td>\n",
       "      <td>NaN</td>\n",
       "      <td>8.992</td>\n",
       "      <td>9.034</td>\n",
       "      <td>9.029</td>\n",
       "    </tr>\n",
       "    <tr>\n",
       "      <th>2</th>\n",
       "      <td>9.147</td>\n",
       "      <td>7.573</td>\n",
       "      <td>9.147</td>\n",
       "      <td>9.147</td>\n",
       "      <td>9.147</td>\n",
       "      <td>9.147</td>\n",
       "    </tr>\n",
       "    <tr>\n",
       "      <th>3</th>\n",
       "      <td>9.063</td>\n",
       "      <td>8.418</td>\n",
       "      <td>NaN</td>\n",
       "      <td>9.046</td>\n",
       "      <td>9.034</td>\n",
       "      <td>9.029</td>\n",
       "    </tr>\n",
       "    <tr>\n",
       "      <th>4</th>\n",
       "      <td>8.800</td>\n",
       "      <td>8.036</td>\n",
       "      <td>NaN</td>\n",
       "      <td>9.073</td>\n",
       "      <td>9.034</td>\n",
       "      <td>9.030</td>\n",
       "    </tr>\n",
       "    <tr>\n",
       "      <th>...</th>\n",
       "      <th>...</th>\n",
       "      <td>...</td>\n",
       "      <td>...</td>\n",
       "      <td>...</td>\n",
       "      <td>...</td>\n",
       "      <td>...</td>\n",
       "      <td>...</td>\n",
       "    </tr>\n",
       "    <tr>\n",
       "      <th rowspan=\"5\" valign=\"top\">sample9</th>\n",
       "      <th>5</th>\n",
       "      <td>8.874</td>\n",
       "      <td>8.315</td>\n",
       "      <td>8.874</td>\n",
       "      <td>8.874</td>\n",
       "      <td>8.874</td>\n",
       "      <td>8.874</td>\n",
       "    </tr>\n",
       "    <tr>\n",
       "      <th>6</th>\n",
       "      <td>8.961</td>\n",
       "      <td>7.841</td>\n",
       "      <td>8.961</td>\n",
       "      <td>8.961</td>\n",
       "      <td>8.961</td>\n",
       "      <td>8.961</td>\n",
       "    </tr>\n",
       "    <tr>\n",
       "      <th>7</th>\n",
       "      <td>9.136</td>\n",
       "      <td>8.543</td>\n",
       "      <td>NaN</td>\n",
       "      <td>9.050</td>\n",
       "      <td>9.008</td>\n",
       "      <td>9.007</td>\n",
       "    </tr>\n",
       "    <tr>\n",
       "      <th>8</th>\n",
       "      <td>9.041</td>\n",
       "      <td>8.223</td>\n",
       "      <td>9.041</td>\n",
       "      <td>9.041</td>\n",
       "      <td>9.041</td>\n",
       "      <td>9.041</td>\n",
       "    </tr>\n",
       "    <tr>\n",
       "      <th>9</th>\n",
       "      <td>9.055</td>\n",
       "      <td>8.188</td>\n",
       "      <td>9.055</td>\n",
       "      <td>9.055</td>\n",
       "      <td>9.055</td>\n",
       "      <td>9.055</td>\n",
       "    </tr>\n",
       "  </tbody>\n",
       "</table>\n",
       "<p>100 rows × 6 columns</p>\n",
       "</div>"
      ],
      "text/plain": [
       "            top3  maxlfq  top3_masked  top3_missforest  top3_bpca  gnn_hetero\n",
       "sample  id                                                                   \n",
       "sample0 0  8.973   8.369        8.973            8.973      8.973       8.973\n",
       "        1  8.965   7.666          NaN            8.992      9.034       9.029\n",
       "        2  9.147   7.573        9.147            9.147      9.147       9.147\n",
       "        3  9.063   8.418          NaN            9.046      9.034       9.029\n",
       "        4  8.800   8.036          NaN            9.073      9.034       9.030\n",
       "...          ...     ...          ...              ...        ...         ...\n",
       "sample9 5  8.874   8.315        8.874            8.874      8.874       8.874\n",
       "        6  8.961   7.841        8.961            8.961      8.961       8.961\n",
       "        7  9.136   8.543          NaN            9.050      9.008       9.007\n",
       "        8  9.041   8.223        9.041            9.041      9.041       9.041\n",
       "        9  9.055   8.188        9.055            9.055      9.055       9.055\n",
       "\n",
       "[100 rows x 6 columns]"
      ]
     },
     "execution_count": 75,
     "metadata": {},
     "output_type": "execute_result"
    }
   ],
   "source": [
    "ds.values['protein'].df"
   ]
  },
  {
   "cell_type": "code",
   "execution_count": null,
   "id": "542b13da",
   "metadata": {},
   "outputs": [],
   "source": []
  }
 ],
 "metadata": {
  "kernelspec": {
   "display_name": "Python 3 (ipykernel)",
   "language": "python",
   "name": "python3"
  },
  "language_info": {
   "codemirror_mode": {
    "name": "ipython",
    "version": 3
   },
   "file_extension": ".py",
   "mimetype": "text/x-python",
   "name": "python",
   "nbconvert_exporter": "python",
   "pygments_lexer": "ipython3",
   "version": "3.10.13"
  }
 },
 "nbformat": 4,
 "nbformat_minor": 5
}
