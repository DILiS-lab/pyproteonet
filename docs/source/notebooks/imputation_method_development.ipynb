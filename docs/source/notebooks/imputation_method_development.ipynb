{
 "cells": [
  {
   "cell_type": "markdown",
   "id": "58ef3dc4",
   "metadata": {},
   "source": [
    "# Developing new Imputation Methods"
   ]
  },
  {
   "cell_type": "markdown",
   "id": "c21398af",
   "metadata": {},
   "source": [
    "We work on an example dataset which is automatically downloaded from the pride database"
   ]
  },
  {
   "cell_type": "code",
   "execution_count": 40,
   "id": "ad499766",
   "metadata": {},
   "outputs": [],
   "source": [
    "from pyproteonet.io.datasets import load_example_dataset\n",
    "from pyproteonet.processing import logarithmize\n",
    "\n",
    "ds = load_example_dataset()\n",
    "# wo work on logarithmized values\n",
    "ds = logarithmize(ds)\n",
    "# we do our own peptide-to-protein aggregation to have control over the process\n",
    "from pyproteonet.aggregation import maxlfq\n",
    "_ = maxlfq(dataset=ds, molecule='protein_group', mapping='peptide-protein_group', partner_column='intensity',\n",
    "           min_ratios=2, median_fallback=False, result_column='intensity')\n",
    "\n",
    "# For evaluation purposes we also introduce some artificial missing values\n",
    "from pyproteonet.simulation import simulate_mcars\n",
    "ds.values['peptide']['intensity_gt'] = ds.values['peptide']['intensity']\n",
    "ds.values['protein_group']['intensity_gt'] = ds.values['protein_group']['intensity']\n",
    "simulate_mcars(dataset=ds, molecule='peptide', column='intensity', amount=0.1, inplace=True)\n",
    "# a second aggregation is required to get the new protein intensities including new missing values\n",
    "_ = maxlfq(dataset=ds, molecule='protein_group', mapping='peptide-protein_group', partner_column='intensity',\n",
    "           min_ratios=2, median_fallback=False, result_column='intensity')"
   ]
  },
  {
   "cell_type": "markdown",
   "id": "1e2774d0",
   "metadata": {},
   "source": [
    "## Developing Imputation Methods Working on One Molecule Type"
   ]
  },
  {
   "cell_type": "markdown",
   "id": "2593e799",
   "metadata": {},
   "source": [
    "Most such methods can be easiest applied to pandas dataframes which can be extracted from a dataset.\n",
    "For example the ```.get_wf(...)``` function returns a dataframe in wide format, the ```.get_lf(...)``` return a long format DataFrame.\n",
    "\n",
    "So the general strategy for implementing a new imputation method is to get the values for the molecule and value column to be imputed as pandas DataFrame, then apply the imputation method and finally return the result or write it back to the dataset.\n",
    "\n",
    "It is advisable to implement new imputtion methods as function with a signature similar to already existing imputation methods (see example below).\n",
    "In addition it is convention that an imputation methods return the imputation result as pandas Series in long format.\n",
    "\n",
    "Here is an easy example replacing any molecule with >50% missing values with the sample mean an any other molecule with the sample 10% percentile "
   ]
  },
  {
   "cell_type": "code",
   "execution_count": 41,
   "id": "8f6c37f6",
   "metadata": {},
   "outputs": [],
   "source": [
    "from typing import Optional\n",
    "import numpy as np\n",
    "import pandas as pd\n",
    "from pyproteonet.data import Dataset\n",
    "from pyproteonet.imputation.random_forest import random_forest_impute\n",
    "\n",
    "def simple_imputation(ds: Dataset, molecule: str, column:str, result_column: Optional[str] = None)->pd.Series:\n",
    "    wf = ds.get_wf(molecule=molecule, column=column)\n",
    "    # create imputed DataFrame\n",
    "    wf_imputed = wf.copy()\n",
    "    wf_imputed[wf.isna().sum(axis=1) > wf.shape[1] / 2] = wf.quantile(0.1)\n",
    "    wf_imputed[wf.isna().sum(axis=1) <= wf.shape[1] / 2] = wf.mean()\n",
    "    # only impute missing values\n",
    "    mask = wf.isna()\n",
    "    wf[mask] = wf_imputed[mask]\n",
    "    if result_column:\n",
    "        ds.set_wf(matrix=wf, molecule=molecule, column=result_column)\n",
    "    # not strictly required but within PyProteoNet it is good practice to return the imputed values in long format\n",
    "    res = wf.stack()\n",
    "    res.index.set_names(['id', 'sample'], inplace=True)\n",
    "    return res"
   ]
  },
  {
   "cell_type": "code",
   "execution_count": 42,
   "id": "cb604a65",
   "metadata": {},
   "outputs": [],
   "source": [
    "imp = simple_imputation(ds, molecule='peptide', column='intensity', result_column='simple_imputed')"
   ]
  },
  {
   "cell_type": "markdown",
   "id": "94a1b5f2",
   "metadata": {},
   "source": [
    "Below another more example implementing a new imputation methods that uses MissForest imputation for all molecules with <=50% missing samples the 10% quantile abundance values is used for the remaining molecules."
   ]
  },
  {
   "cell_type": "code",
   "execution_count": 43,
   "id": "516cd2d6",
   "metadata": {},
   "outputs": [],
   "source": [
    "def mixed_imputation(ds: Dataset, molecule: str, column:str, result_column: Optional[str] = None)->pd.Series:\n",
    "    # get the original abundance values in long format (pandas DataFrame with MultiIndex with molecule id and sample)\n",
    "    lf_missing = ds.get_lf(molecule=molecule)[column]\n",
    "    # first impute the missing values using a random forest (MissForest), by convention this returns the result as pandas Series in long format.\n",
    "    lf_imputed = random_forest_impute(ds, molecule=molecule, column=column)\n",
    "    # get the 10% percentile value\n",
    "    imp_value = lf_missing.quantile(0.1)\n",
    "    # get all molecules with more than 50% missing values by grouping by molecule id and replace their missing values with the 10% percentile\n",
    "    mask_molecules = lf_missing.isna().groupby('id').sum()\n",
    "    mask_molecules = mask_molecules[mask_molecules / ds.num_samples > 0.5].index\n",
    "    # get the index of the missing values belonging to molecules with \n",
    "    mask = lf_missing[lf_missing.index.get_level_values('id').isin(mask_molecules)]\n",
    "    mask = mask[mask.isna()].index\n",
    "    # set the missing values to the 10% percentile\n",
    "    lf_imputed.loc[mask] = imp_value\n",
    "    # if a result column is given, write the imputed values back to the dataset\n",
    "    if result_column:\n",
    "        ds.set_column_lf(molecule=molecule, values=lf_imputed, column=result_column)\n",
    "    return lf_imputed"
   ]
  },
  {
   "cell_type": "code",
   "execution_count": 44,
   "id": "262edab0",
   "metadata": {},
   "outputs": [
    {
     "name": "stdout",
     "output_type": "stream",
     "text": [
      "Iteration: 0\n",
      "Iteration: 1\n",
      "Iteration: 2\n",
      "Iteration: 3\n",
      "Iteration: 4\n",
      "Iteration: 5\n",
      "Iteration: 6\n",
      "Iteration: 7\n",
      "Iteration: 8\n"
     ]
    }
   ],
   "source": [
    "imp2 = mixed_imputation(ds, molecule='peptide', column='intensity', result_column='combined_imputed')"
   ]
  },
  {
   "cell_type": "code",
   "execution_count": 45,
   "id": "f2d34a80",
   "metadata": {},
   "outputs": [
    {
     "data": {
      "text/html": [
       "<div>\n",
       "<style scoped>\n",
       "    .dataframe tbody tr th:only-of-type {\n",
       "        vertical-align: middle;\n",
       "    }\n",
       "\n",
       "    .dataframe tbody tr th {\n",
       "        vertical-align: top;\n",
       "    }\n",
       "\n",
       "    .dataframe thead th {\n",
       "        text-align: right;\n",
       "    }\n",
       "</style>\n",
       "<table border=\"1\" class=\"dataframe\">\n",
       "  <thead>\n",
       "    <tr style=\"text-align: right;\">\n",
       "      <th></th>\n",
       "      <th></th>\n",
       "      <th>intensity</th>\n",
       "      <th>intensity_gt</th>\n",
       "      <th>simple_imputed</th>\n",
       "      <th>combined_imputed</th>\n",
       "    </tr>\n",
       "    <tr>\n",
       "      <th>sample</th>\n",
       "      <th>id</th>\n",
       "      <th></th>\n",
       "      <th></th>\n",
       "      <th></th>\n",
       "      <th></th>\n",
       "    </tr>\n",
       "  </thead>\n",
       "  <tbody>\n",
       "    <tr>\n",
       "      <th rowspan=\"5\" valign=\"top\">1_hu_c1</th>\n",
       "      <th>0</th>\n",
       "      <td>18.249</td>\n",
       "      <td>18.249</td>\n",
       "      <td>18.249</td>\n",
       "      <td>18.249</td>\n",
       "    </tr>\n",
       "    <tr>\n",
       "      <th>1</th>\n",
       "      <td>NaN</td>\n",
       "      <td>NaN</td>\n",
       "      <td>17.031</td>\n",
       "      <td>17.070</td>\n",
       "    </tr>\n",
       "    <tr>\n",
       "      <th>2</th>\n",
       "      <td>NaN</td>\n",
       "      <td>17.855</td>\n",
       "      <td>17.031</td>\n",
       "      <td>17.579</td>\n",
       "    </tr>\n",
       "    <tr>\n",
       "      <th>3</th>\n",
       "      <td>NaN</td>\n",
       "      <td>17.009</td>\n",
       "      <td>17.031</td>\n",
       "      <td>17.414</td>\n",
       "    </tr>\n",
       "    <tr>\n",
       "      <th>4</th>\n",
       "      <td>NaN</td>\n",
       "      <td>NaN</td>\n",
       "      <td>15.333</td>\n",
       "      <td>15.436</td>\n",
       "    </tr>\n",
       "    <tr>\n",
       "      <th>...</th>\n",
       "      <th>...</th>\n",
       "      <td>...</td>\n",
       "      <td>...</td>\n",
       "      <td>...</td>\n",
       "      <td>...</td>\n",
       "    </tr>\n",
       "    <tr>\n",
       "      <th rowspan=\"5\" valign=\"top\">6_hu_p3</th>\n",
       "      <th>8,141</th>\n",
       "      <td>16.057</td>\n",
       "      <td>16.057</td>\n",
       "      <td>16.057</td>\n",
       "      <td>16.057</td>\n",
       "    </tr>\n",
       "    <tr>\n",
       "      <th>8,142</th>\n",
       "      <td>NaN</td>\n",
       "      <td>NaN</td>\n",
       "      <td>15.510</td>\n",
       "      <td>15.436</td>\n",
       "    </tr>\n",
       "    <tr>\n",
       "      <th>8,143</th>\n",
       "      <td>17.591</td>\n",
       "      <td>17.591</td>\n",
       "      <td>17.591</td>\n",
       "      <td>17.591</td>\n",
       "    </tr>\n",
       "    <tr>\n",
       "      <th>8,144</th>\n",
       "      <td>17.566</td>\n",
       "      <td>17.566</td>\n",
       "      <td>17.566</td>\n",
       "      <td>17.566</td>\n",
       "    </tr>\n",
       "    <tr>\n",
       "      <th>8,145</th>\n",
       "      <td>19.875</td>\n",
       "      <td>19.875</td>\n",
       "      <td>19.875</td>\n",
       "      <td>19.875</td>\n",
       "    </tr>\n",
       "  </tbody>\n",
       "</table>\n",
       "<p>48876 rows × 4 columns</p>\n",
       "</div>"
      ],
      "text/plain": [
       "               intensity  intensity_gt  simple_imputed  combined_imputed\n",
       "sample  id                                                              \n",
       "1_hu_c1 0         18.249        18.249          18.249            18.249\n",
       "        1            NaN           NaN          17.031            17.070\n",
       "        2            NaN        17.855          17.031            17.579\n",
       "        3            NaN        17.009          17.031            17.414\n",
       "        4            NaN           NaN          15.333            15.436\n",
       "...                  ...           ...             ...               ...\n",
       "6_hu_p3 8,141     16.057        16.057          16.057            16.057\n",
       "        8,142        NaN           NaN          15.510            15.436\n",
       "        8,143     17.591        17.591          17.591            17.591\n",
       "        8,144     17.566        17.566          17.566            17.566\n",
       "        8,145     19.875        19.875          19.875            19.875\n",
       "\n",
       "[48876 rows x 4 columns]"
      ]
     },
     "execution_count": 45,
     "metadata": {},
     "output_type": "execute_result"
    }
   ],
   "source": [
    "ds.get_lf(molecule='peptide')"
   ]
  },
  {
   "cell_type": "markdown",
   "id": "0adabfb9",
   "metadata": {},
   "source": [
    "Once developed it is straight forward to apply the imputation methods on every molecule type we like"
   ]
  },
  {
   "cell_type": "code",
   "execution_count": 46,
   "id": "ab47aec3",
   "metadata": {},
   "outputs": [
    {
     "name": "stdout",
     "output_type": "stream",
     "text": [
      "Iteration: 0\n",
      "Iteration: 1\n",
      "Iteration: 2\n",
      "Iteration: 3\n",
      "Iteration: 4\n"
     ]
    }
   ],
   "source": [
    "imp = simple_imputation(ds, molecule='protein_group', column='intensity', result_column='simple_imputed')\n",
    "imp2 = mixed_imputation(ds, molecule='protein_group', column='intensity', result_column='combined_imputed')"
   ]
  },
  {
   "cell_type": "markdown",
   "id": "028d4fc3-29a5-458d-a544-615572068d69",
   "metadata": {},
   "source": [
    "## Developing Imputation Methods Based on (Graph) Neural Networks"
   ]
  },
  {
   "cell_type": "markdown",
   "id": "67ba8568-4873-4e6a-a2c4-43341f1138ef",
   "metadata": {},
   "source": [
    "For demonstration purpose we develop a simple graph neural network (GNN) jointly operating on the intensity values of protein_group and peptide. This shows some of the functionality of PyProteoNet that can be used to develop neural network based imputation methods."
   ]
  },
  {
   "cell_type": "markdown",
   "id": "d2dee3bf",
   "metadata": {},
   "source": [
    "First we create a dataset out of our original dataset only containing the relevant molecules and values (in our case the intensity value column).  This can be done using the ```.copy(...)``` function provided by Datasets.\n",
    "\n",
    "In addtion GNN values should be standardized to have zero mean and unit variance. The PyProteoNet dataset standardizer can be used for this. Next to standardizing values it also stores the standardization parameters so that predictions can be transformed back later on."
   ]
  },
  {
   "cell_type": "code",
   "execution_count": 47,
   "id": "2063de0e",
   "metadata": {},
   "outputs": [],
   "source": [
    "from pyproteonet.processing import Standardizer\n",
    "\n",
    "gnn_ds = ds.copy(columns={'peptide':'intensity', 'protein_group':'intensity'})\n",
    "standardizer = Standardizer(columns=['intensity'])\n",
    "gnn_ds = standardizer.standardize(gnn_ds)"
   ]
  },
  {
   "cell_type": "markdown",
   "id": "66003824",
   "metadata": {},
   "source": [
    "For training a GNN in a self supervised fashion we want to mask some non-missing values then used to train the GNN. For this reason PyProteoNet provides ```MaskedDataset``` which wraps a dataset but also specifies which values to mask (and/or hide) per molecule type to \"simulate\" missing values for self-supervised training. \n",
    "For more robust results it is advisable to not keep the masked nodes static but use different masked sets during trainig.\n",
    "Therefore, we can use a ```MaskedDatasetGenerator``` in combination with a custom generator function.\n",
    "Here we randomly mask 40% of peptides and all of the protein_groups (to enforce the GNN to learn aggregation peptide values into protein values)."
   ]
  },
  {
   "cell_type": "code",
   "execution_count": 110,
   "id": "98ae2f07",
   "metadata": {},
   "outputs": [],
   "source": [
    "from pyproteonet.masking import MaskedDataset, MaskedDatasetGenerator\n",
    "# Defining our custom masking function.\n",
    "def masking_fn(in_ds):\n",
    "    pep_ids = in_ds.values['peptide'][\"intensity\"]\n",
    "    # sample 30% of non-missing peptides\n",
    "    pep_ids = pep_ids[~pep_ids.isna()].sample(frac=0.3).index\n",
    "    # mask all non-missing protein groups\n",
    "    prot_ids = in_ds.values['protein_group'][\"intensity\"]\n",
    "    prot_ids = prot_ids[~prot_ids.isna()].index\n",
    "    return MaskedDataset.from_ids(dataset=in_ds, mask_ids={'protein_group': prot_ids, 'peptide': pep_ids},)\n",
    "\n",
    "# Create a masked dataset generator with 10 randomly masked datasets per epoch\n",
    "mask_ds = MaskedDatasetGenerator(datasets=[gnn_ds], generator_fn=masking_fn, epoch_size_multiplier=50)"
   ]
  },
  {
   "cell_type": "markdown",
   "id": "ee24c3f0",
   "metadata": {},
   "source": [
    "In addition we need to transform our Dataset/MaskedDatasets into tensors suitable for inputting into a neural network. PyProteoNet, therefore, provides the ```to_dgl_graph(..)``` function to transform a Dataset or MaskedDataset into a DLG graph which can either be used directly as input into a GNN or used to extract specific tensors.\n",
    "\n",
    "Here we define a simple collate function transforming a batch of MaskedDatasets into a heterogeneous DGL graph. Therefore, we first transform each MaskedDataset into a heterogeneous DGL graph using PyProteoNet's ```.to_dgl_graph(...)``` function and, subsequently, merge all graph into a single graph using DGL's standard collate function.\n",
    "\n",
    "It should be noted that the collate function gets a batch of MaskedDatasets and a list of samples for each MaskedDataset in the list. This allows sample wise training. However, here we just transform the whole Dataset into a single graph containing all samples "
   ]
  },
  {
   "cell_type": "code",
   "execution_count": 111,
   "id": "883e09e6",
   "metadata": {},
   "outputs": [],
   "source": [
    "from dgl.dataloading import GraphCollator\n",
    "collator = GraphCollator()\n",
    "def collate(masked_datasets_and_samples):\n",
    "    res = []\n",
    "    for md, samples in masked_datasets_and_samples:\n",
    "        graph = md.to_dgl_graph(\n",
    "            feature_columns={\n",
    "                'protein_group': 'intensity',\n",
    "                'peptide': 'intensity',\n",
    "            },\n",
    "            mappings=['peptide-protein_group'],\n",
    "            make_bidirectional=True,\n",
    "            samples=samples,\n",
    "        )\n",
    "        res.append(graph)\n",
    "    return collator.collate(res)"
   ]
  },
  {
   "cell_type": "markdown",
   "id": "c89a8dd4",
   "metadata": {},
   "source": [
    "The only thing left to do ist to define the GNN architecture. We do this in the form of a Lightning Module."
   ]
  },
  {
   "cell_type": "code",
   "execution_count": 142,
   "id": "9181a7cd",
   "metadata": {},
   "outputs": [],
   "source": [
    "import torch\n",
    "from torch import nn\n",
    "import lightning as L\n",
    "from dgl.nn.pytorch.conv import GATv2Conv\n",
    "from dgl.nn.pytorch import HeteroGraphConv\n",
    "from dgl.dataloading import GraphCollator\n",
    "\n",
    "class ImputationModule(L.LightningModule):\n",
    "    def __init__(self, num_samples: int):\n",
    "        super().__init__()\n",
    "        # Fully connected layers applied on the input data\n",
    "        lat_dim = 2\n",
    "        self.prot_fully_connected = nn.Sequential(nn.Linear(num_samples, num_samples), nn.LeakyReLU(), nn.Linear(num_samples, num_samples), nn.LeakyReLU(), nn.Linear(num_samples, lat_dim), nn.LeakyReLU(), nn.Linear(lat_dim, num_samples), nn.LeakyReLU())\n",
    "        self.pep_fully_connected = nn.Sequential(nn.Linear(num_samples, num_samples), nn.LeakyReLU(), nn.Linear(num_samples, num_samples), nn.LeakyReLU(), nn.Linear(num_samples, lat_dim), nn.LeakyReLU(), nn.Linear(lat_dim, num_samples), nn.LeakyReLU())\n",
    "        self.prot_gat = HeteroGraphConv({'peptide-protein_group': GATv2Conv(in_feats=(num_samples, num_samples), out_feats=num_samples, num_heads=32,)})\n",
    "        self.pep_gat = HeteroGraphConv({'peptide-protein_group': GATv2Conv(in_feats=(num_samples, num_samples), out_feats=num_samples, num_heads=32,)})\n",
    "        self.prot_final_linear = nn.Linear(num_samples, num_samples)\n",
    "        self.pep_final_linear = nn.Linear(num_samples, num_samples)\n",
    "        # value to use for missing and masked abundance values\n",
    "        self.mask_value = -3\n",
    "\n",
    "    def forward(self, graph):\n",
    "        abundance = graph.ndata[\"intensity\"]\n",
    "        # mask hidden nodes\n",
    "        hidden = graph.ndata[\"hidden\"]\n",
    "        for key, hide in hidden.items():\n",
    "            abundance[key][hide] = self.mask_value\n",
    "        # mask masked nodes\n",
    "        masks = graph.ndata[\"mask\"]\n",
    "        for key, mask in masks.items():\n",
    "            abundance[key][mask] = self.mask_value\n",
    "        # replace missing values with mask value\n",
    "        for key, ab in abundance.items():\n",
    "            ab[torch.isnan(ab)] = self.mask_value\n",
    "        # applying the input fully connected layers\n",
    "        prot_vec = self.prot_fully_connected(abundance['protein_group'])\n",
    "        pep_vec = self.pep_fully_connected(abundance['peptide'])\n",
    "        # applying the GATv2 layers, averaging the output over the nodes, and applying LeakyReLU as activation function\n",
    "        prot_vec = nn.functional.leaky_relu(self.pep_gat(graph, ({'peptide':pep_vec}, {'protein_group':prot_vec}))['protein_group']).mean(dim=-2)\n",
    "        pep_vec = nn.functional.leaky_relu(self.prot_gat(graph, ({'protein_group':prot_vec}, {'peptide':pep_vec}))['peptide']).mean(dim=-2)\n",
    "        # applying the final linear layer for both proteins and peptides\n",
    "        prot_vec, pep_vec = self.prot_final_linear(prot_vec), self.pep_final_linear(pep_vec)\n",
    "        return prot_vec, pep_vec\n",
    "\n",
    "    def compute_loss(self, graph) -> torch.tensor:\n",
    "        # we only compute the loss on masked nodes\n",
    "        abundance = graph.ndata[\"intensity\"]\n",
    "        masks = graph.ndata[\"mask\"]\n",
    "        # store gt for later loss computation\n",
    "        prot_gt = abundance['protein_group'][masks['protein_group']].detach().clone()\n",
    "        pep_gt = abundance['peptide'][masks['peptide']].detach().clone()\n",
    "        # forward pass\n",
    "        prot_vec, pep_vec = self(graph)\n",
    "        # compute loss\n",
    "        prot_pred = prot_vec[masks['protein_group']]\n",
    "        pep_pred = pep_vec[masks['peptide']]\n",
    "        loss = nn.functional.mse_loss(prot_pred, prot_gt) + nn.functional.mse_loss(pep_pred, pep_gt)      \n",
    "        return loss\n",
    "\n",
    "    def training_step(self, graph, batch_idx):\n",
    "        loss = self.compute_loss(graph)\n",
    "        self.log(\"train_loss\", loss.item(), on_step=False, on_epoch=True, batch_size=1)\n",
    "        return loss\n",
    "\n",
    "    def validation_step(self, graph, batch_idx):\n",
    "        loss = self.compute_loss(graph, partner_loss=False)\n",
    "        self.log(\"val_loss\", loss.item(), batch_size=1)\n",
    "\n",
    "    def predict_step(self, graph, batch_idx, dataloader_idx=0):\n",
    "        prot_vec, pep_vec = self(graph)\n",
    "        return prot_vec, pep_vec\n",
    "\n",
    "    def configure_optimizers(self):\n",
    "        return torch.optim.Adam(self.parameters(), lr=0.001)"
   ]
  },
  {
   "cell_type": "markdown",
   "id": "28369372",
   "metadata": {},
   "source": [
    "Finally, we can train our GNN using Lightning"
   ]
  },
  {
   "cell_type": "code",
   "execution_count": 143,
   "id": "93f2d2f1",
   "metadata": {},
   "outputs": [
    {
     "name": "stderr",
     "output_type": "stream",
     "text": [
      "GPU available: True (cuda), used: True\n",
      "TPU available: False, using: 0 TPU cores\n",
      "IPU available: False, using: 0 IPUs\n",
      "HPU available: False, using: 0 HPUs\n",
      "LOCAL_RANK: 0 - CUDA_VISIBLE_DEVICES: [0]\n",
      "\n",
      "  | Name                 | Type            | Params\n",
      "---------------------------------------------------------\n",
      "0 | prot_fully_connected | Sequential      | 116   \n",
      "1 | pep_fully_connected  | Sequential      | 116   \n",
      "2 | prot_gat             | HeteroGraphConv | 2.9 K \n",
      "3 | pep_gat              | HeteroGraphConv | 2.9 K \n",
      "4 | prot_final_linear    | Linear          | 42    \n",
      "5 | pep_final_linear     | Linear          | 42    \n",
      "---------------------------------------------------------\n",
      "6.1 K     Trainable params\n",
      "0         Non-trainable params\n",
      "6.1 K     Total params\n",
      "0.024     Total estimated model params size (MB)\n"
     ]
    },
    {
     "data": {
      "application/vnd.jupyter.widget-view+json": {
       "model_id": "12f63c7b71d845538588e3771d5e5993",
       "version_major": 2,
       "version_minor": 0
      },
      "text/plain": [
       "Training: |                                                                                                   …"
      ]
     },
     "metadata": {},
     "output_type": "display_data"
    },
    {
     "name": "stdout",
     "output_type": "stream",
     "text": [
      "step49: train_loss:1.277 || epoch:0.000 || \n",
      "step99: train_loss:1.241 || epoch:1.000 || \n",
      "step149: train_loss:1.190 || epoch:2.000 || \n",
      "step199: train_loss:1.041 || epoch:3.000 || \n",
      "step249: train_loss:0.816 || epoch:4.000 || \n",
      "step299: train_loss:0.675 || epoch:5.000 || \n",
      "step349: train_loss:0.608 || epoch:6.000 || \n",
      "step399: train_loss:0.576 || epoch:7.000 || \n",
      "step449: train_loss:0.558 || epoch:8.000 || \n",
      "step499: train_loss:0.546 || epoch:9.000 || \n",
      "step549: train_loss:0.544 || epoch:10.000 || \n",
      "step599: train_loss:0.539 || epoch:11.000 || \n",
      "step649: train_loss:0.535 || epoch:12.000 || \n",
      "step699: train_loss:0.533 || epoch:13.000 || \n",
      "step749: train_loss:0.530 || epoch:14.000 || \n",
      "step799: train_loss:0.530 || epoch:15.000 || \n",
      "step849: train_loss:0.527 || epoch:16.000 || \n",
      "step899: train_loss:0.527 || epoch:17.000 || \n",
      "step949: train_loss:0.529 || epoch:18.000 || \n",
      "step999: train_loss:0.527 || epoch:19.000 || \n",
      "step1049: train_loss:0.525 || epoch:20.000 || \n",
      "step1099: train_loss:0.525 || epoch:21.000 || \n",
      "step1149: train_loss:0.524 || epoch:22.000 || \n",
      "step1199: train_loss:0.523 || epoch:23.000 || \n",
      "step1249: train_loss:0.524 || epoch:24.000 || \n",
      "step1299: train_loss:0.523 || epoch:25.000 || \n",
      "step1349: train_loss:0.521 || epoch:26.000 || \n",
      "step1399: train_loss:0.523 || epoch:27.000 || \n",
      "step1449: train_loss:0.521 || epoch:28.000 || \n",
      "step1499: train_loss:0.523 || epoch:29.000 || \n",
      "step1549: train_loss:0.522 || epoch:30.000 || \n",
      "step1599: train_loss:0.522 || epoch:31.000 || \n"
     ]
    }
   ],
   "source": [
    "from torch.utils.data import DataLoader\n",
    "from pyproteonet.lightning import ConsoleLogger\n",
    "from pyproteonet.lightning.training_early_stopping import TrainingEarlyStopping\n",
    "\n",
    "model = ImputationModule(num_samples=ds.num_samples)\n",
    "# For fast prototyping PyProteoNet as simple logger that logs to the console, however, you can use any Lightnign logger you like (e.g. log to TensorBoard etc.)\n",
    "logger = ConsoleLogger()\n",
    "trainer = L.Trainer(\n",
    "    logger=logger,\n",
    "    log_every_n_steps=1,\n",
    "    check_val_every_n_epoch=1,\n",
    "    max_epochs=1000,\n",
    "    enable_checkpointing=False,\n",
    "    # Due to our self-supervised training scheme we use early stopping based on the training loss\n",
    "    callbacks=[TrainingEarlyStopping(monitor=\"train_loss\", mode=\"min\", patience=5)],\n",
    ")\n",
    "train_dl = DataLoader(mask_ds, batch_size=1, collate_fn=collate)\n",
    "trainer.fit(model=model, train_dataloaders=train_dl)"
   ]
  },
  {
   "cell_type": "markdown",
   "id": "c39893d1",
   "metadata": {},
   "source": [
    "The last thing to do is to predict the genuine missing values using the trained GNN and transform the results back into the original dataset"
   ]
  },
  {
   "cell_type": "code",
   "execution_count": 144,
   "id": "eef584e7",
   "metadata": {},
   "outputs": [
    {
     "name": "stderr",
     "output_type": "stream",
     "text": [
      "LOCAL_RANK: 0 - CUDA_VISIBLE_DEVICES: [0]\n"
     ]
    },
    {
     "data": {
      "application/vnd.jupyter.widget-view+json": {
       "model_id": "789012c958a341ac8e77ac7e7820670b",
       "version_major": 2,
       "version_minor": 0
      },
      "text/plain": [
       "Predicting: |                                                                                                 …"
      ]
     },
     "metadata": {},
     "output_type": "display_data"
    }
   ],
   "source": [
    "missing_prots = ds.values['protein_group']['intensity']\n",
    "missing_prots = missing_prots[missing_prots.isna()].index\n",
    "missing_peps = ds.values['peptide']['intensity']\n",
    "missing_peps = missing_peps[missing_peps.isna()].index\n",
    "missing_mds = MaskedDataset.from_ids(\n",
    "    dataset=gnn_ds,\n",
    "    mask_ids={'protein_group': missing_prots, 'peptide': missing_peps},\n",
    ")\n",
    "pred_dl = DataLoader([(missing_mds, ds.sample_names)], batch_size=1, collate_fn=collate)\n",
    "prot_pred, pep_pred = trainer.predict(model=model, dataloaders=pred_dl)[0]\n",
    "\n",
    "missing_mds.set_samples_value_matrix(matrix=prot_pred, molecule='protein_group', column=\"intensity\", only_set_masked=True)\n",
    "missing_mds.set_samples_value_matrix(matrix=pep_pred, molecule='peptide', column=\"intensity\", only_set_masked=True)\n",
    "\n",
    "res_ds = standardizer.unstandardize(gnn_ds)\n",
    "\n",
    "ds.values['protein_group']['gnn_imp'] = res_ds.values['protein_group']['intensity']\n",
    "ds.values['peptide']['gnn_imp'] = res_ds.values['peptide']['intensity']"
   ]
  },
  {
   "cell_type": "code",
   "execution_count": 145,
   "id": "c99ed5aa",
   "metadata": {},
   "outputs": [
    {
     "data": {
      "text/html": [
       "<div>\n",
       "<style scoped>\n",
       "    .dataframe tbody tr th:only-of-type {\n",
       "        vertical-align: middle;\n",
       "    }\n",
       "\n",
       "    .dataframe tbody tr th {\n",
       "        vertical-align: top;\n",
       "    }\n",
       "\n",
       "    .dataframe thead th {\n",
       "        text-align: right;\n",
       "    }\n",
       "</style>\n",
       "<table border=\"1\" class=\"dataframe\">\n",
       "  <thead>\n",
       "    <tr style=\"text-align: right;\">\n",
       "      <th></th>\n",
       "      <th></th>\n",
       "      <th>intensity</th>\n",
       "      <th>intensity_gt</th>\n",
       "      <th>simple_imputed</th>\n",
       "      <th>combined_imputed</th>\n",
       "      <th>gnn_imp</th>\n",
       "    </tr>\n",
       "    <tr>\n",
       "      <th>sample</th>\n",
       "      <th>id</th>\n",
       "      <th></th>\n",
       "      <th></th>\n",
       "      <th></th>\n",
       "      <th></th>\n",
       "      <th></th>\n",
       "    </tr>\n",
       "  </thead>\n",
       "  <tbody>\n",
       "    <tr>\n",
       "      <th rowspan=\"5\" valign=\"top\">1_hu_c1</th>\n",
       "      <th>0</th>\n",
       "      <td>18.249</td>\n",
       "      <td>18.249</td>\n",
       "      <td>18.249</td>\n",
       "      <td>18.249</td>\n",
       "      <td>18.249</td>\n",
       "    </tr>\n",
       "    <tr>\n",
       "      <th>1</th>\n",
       "      <td>NaN</td>\n",
       "      <td>NaN</td>\n",
       "      <td>17.031</td>\n",
       "      <td>17.070</td>\n",
       "      <td>16.887</td>\n",
       "    </tr>\n",
       "    <tr>\n",
       "      <th>2</th>\n",
       "      <td>NaN</td>\n",
       "      <td>17.855</td>\n",
       "      <td>17.031</td>\n",
       "      <td>17.579</td>\n",
       "      <td>16.373</td>\n",
       "    </tr>\n",
       "    <tr>\n",
       "      <th>3</th>\n",
       "      <td>NaN</td>\n",
       "      <td>17.009</td>\n",
       "      <td>17.031</td>\n",
       "      <td>17.414</td>\n",
       "      <td>16.730</td>\n",
       "    </tr>\n",
       "    <tr>\n",
       "      <th>4</th>\n",
       "      <td>NaN</td>\n",
       "      <td>NaN</td>\n",
       "      <td>15.333</td>\n",
       "      <td>15.436</td>\n",
       "      <td>16.423</td>\n",
       "    </tr>\n",
       "    <tr>\n",
       "      <th>...</th>\n",
       "      <th>...</th>\n",
       "      <td>...</td>\n",
       "      <td>...</td>\n",
       "      <td>...</td>\n",
       "      <td>...</td>\n",
       "      <td>...</td>\n",
       "    </tr>\n",
       "    <tr>\n",
       "      <th rowspan=\"5\" valign=\"top\">6_hu_p3</th>\n",
       "      <th>8,141</th>\n",
       "      <td>16.057</td>\n",
       "      <td>16.057</td>\n",
       "      <td>16.057</td>\n",
       "      <td>16.057</td>\n",
       "      <td>16.057</td>\n",
       "    </tr>\n",
       "    <tr>\n",
       "      <th>8,142</th>\n",
       "      <td>NaN</td>\n",
       "      <td>NaN</td>\n",
       "      <td>15.510</td>\n",
       "      <td>15.436</td>\n",
       "      <td>18.127</td>\n",
       "    </tr>\n",
       "    <tr>\n",
       "      <th>8,143</th>\n",
       "      <td>17.591</td>\n",
       "      <td>17.591</td>\n",
       "      <td>17.591</td>\n",
       "      <td>17.591</td>\n",
       "      <td>17.591</td>\n",
       "    </tr>\n",
       "    <tr>\n",
       "      <th>8,144</th>\n",
       "      <td>17.566</td>\n",
       "      <td>17.566</td>\n",
       "      <td>17.566</td>\n",
       "      <td>17.566</td>\n",
       "      <td>17.566</td>\n",
       "    </tr>\n",
       "    <tr>\n",
       "      <th>8,145</th>\n",
       "      <td>19.875</td>\n",
       "      <td>19.875</td>\n",
       "      <td>19.875</td>\n",
       "      <td>19.875</td>\n",
       "      <td>19.875</td>\n",
       "    </tr>\n",
       "  </tbody>\n",
       "</table>\n",
       "<p>48876 rows × 5 columns</p>\n",
       "</div>"
      ],
      "text/plain": [
       "               intensity  intensity_gt  simple_imputed  combined_imputed  \\\n",
       "sample  id                                                                 \n",
       "1_hu_c1 0         18.249        18.249          18.249            18.249   \n",
       "        1            NaN           NaN          17.031            17.070   \n",
       "        2            NaN        17.855          17.031            17.579   \n",
       "        3            NaN        17.009          17.031            17.414   \n",
       "        4            NaN           NaN          15.333            15.436   \n",
       "...                  ...           ...             ...               ...   \n",
       "6_hu_p3 8,141     16.057        16.057          16.057            16.057   \n",
       "        8,142        NaN           NaN          15.510            15.436   \n",
       "        8,143     17.591        17.591          17.591            17.591   \n",
       "        8,144     17.566        17.566          17.566            17.566   \n",
       "        8,145     19.875        19.875          19.875            19.875   \n",
       "\n",
       "               gnn_imp  \n",
       "sample  id              \n",
       "1_hu_c1 0       18.249  \n",
       "        1       16.887  \n",
       "        2       16.373  \n",
       "        3       16.730  \n",
       "        4       16.423  \n",
       "...                ...  \n",
       "6_hu_p3 8,141   16.057  \n",
       "        8,142   18.127  \n",
       "        8,143   17.591  \n",
       "        8,144   17.566  \n",
       "        8,145   19.875  \n",
       "\n",
       "[48876 rows x 5 columns]"
      ]
     },
     "execution_count": 145,
     "metadata": {},
     "output_type": "execute_result"
    }
   ],
   "source": [
    "ds.values['peptide'].df"
   ]
  },
  {
   "cell_type": "markdown",
   "id": "f8f05662",
   "metadata": {},
   "source": [
    "Finally, lets do a quick evaluation on the artificially introduced missing values by comparing the imputed values to the ground truth values."
   ]
  },
  {
   "cell_type": "code",
   "execution_count": 146,
   "id": "f8a64195",
   "metadata": {},
   "outputs": [
    {
     "data": {
      "text/plain": [
       "<Axes: xlabel='column', ylabel='metric'>"
      ]
     },
     "execution_count": 146,
     "metadata": {},
     "output_type": "execute_result"
    },
    {
     "data": {
      "image/png": "[encoded data removed]",
      "text/plain": [
       "<Figure size 1000x500 with 1 Axes>"
      ]
     },
     "metadata": {},
     "output_type": "display_data"
    }
   ],
   "source": [
    "from pyproteonet.metrics.abundance_comparison import compare_columns\n",
    "from matplotlib import pyplot as plt\n",
    "from seaborn import boxplot\n",
    "ids = ds.values['peptide']['intensity_gt']\n",
    "ids = ids[~ids.isna() & ds.values['peptide']['intensity'].isna()].index\n",
    "metric_df = compare_columns(dataset=ds, molecule='peptide', columns=['simple_imputed', 'combined_imputed', 'gnn_imp'], comparison_column='intensity_gt',\n",
    "                            metric='AE', logarithmize=False, ids=ids)\n",
    "fig, ax = plt.subplots(1, figsize=(10, 5))\n",
    "boxplot(data=metric_df, x='column', y='metric')"
   ]
  },
  {
   "cell_type": "code",
   "execution_count": 147,
   "id": "83515483",
   "metadata": {},
   "outputs": [
    {
     "data": {
      "text/plain": [
       "<Axes: xlabel='column', ylabel='metric'>"
      ]
     },
     "execution_count": 147,
     "metadata": {},
     "output_type": "execute_result"
    },
    {
     "data": {
      "image/png": "[encoded data removed]",
      "text/plain": [
       "<Figure size 1000x500 with 1 Axes>"
      ]
     },
     "metadata": {},
     "output_type": "display_data"
    }
   ],
   "source": [
    "ids = ds.values['peptide']['intensity_gt']\n",
    "ids = ids[~ids.isna() & ds.values['protein_group']['intensity'].isna()].index\n",
    "metric_df = compare_columns(dataset=ds, molecule='protein_group', columns=['simple_imputed', 'combined_imputed', 'gnn_imp'], comparison_column='intensity_gt',\n",
    "                            metric='AE', logarithmize=False, ids=ids)\n",
    "fig, ax = plt.subplots(1, figsize=(10, 5))\n",
    "boxplot(data=metric_df, x='column', y='metric')"
   ]
  }
 ],
 "metadata": {
  "kernelspec": {
   "display_name": "Python 3 (ipykernel)",
   "language": "python",
   "name": "python3"
  },
  "language_info": {
   "codemirror_mode": {
    "name": "ipython",
    "version": 3
   },
   "file_extension": ".py",
   "mimetype": "text/x-python",
   "name": "python",
   "nbconvert_exporter": "python",
   "pygments_lexer": "ipython3",
   "version": "3.10.13"
  }
 },
 "nbformat": 4,
 "nbformat_minor": 5
}
