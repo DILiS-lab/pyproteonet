{
 "cells": [
  {
   "cell_type": "markdown",
   "id": "58ef3dc4",
   "metadata": {},
   "source": [
    "# Developing new Imputation Methods"
   ]
  },
  {
   "cell_type": "markdown",
   "id": "c21398af",
   "metadata": {},
   "source": [
    "We work on an example dataset which is automatically downloaded from the pride database"
   ]
  },
  {
   "cell_type": "code",
   "execution_count": 12,
   "id": "ad499766",
   "metadata": {},
   "outputs": [
    {
     "name": "stderr",
     "output_type": "stream",
     "text": [
      "/hpi/fs00/home/tobias.pietz/MasterThesis/pyproteonet/pyproteonet/aggregation/maxlfq.py:186: NumbaTypeSafetyWarning: \u001b[1m\u001b[1m\u001b[1munsafe cast from uint64 to int64. Precision may be lost.\u001b[0m\u001b[0m\u001b[0m\n",
      "  grouping = mask_group(groupings[group_idx])\n"
     ]
    }
   ],
   "source": [
    "from pyproteonet.io.datasets import load_example_dataset\n",
    "from pyproteonet.processing import logarithmize\n",
    "\n",
    "ds = load_example_dataset()\n",
    "# wo work on logarithmized values\n",
    "ds = logarithmize(ds)\n",
    "# we do our own peptide-to-protein aggregation to have control over the process\n",
    "from pyproteonet.aggregation import maxlfq\n",
    "_ = maxlfq(dataset=ds, molecule='protein_group', mapping='peptide-protein_group', partner_column='intensity',\n",
    "           min_ratios=2, median_fallback=False, result_column='intensity')\n",
    "\n",
    "# For evaluation purposes we also introduce some artificial missing values\n",
    "from pyproteonet.simulation import simulate_mcars\n",
    "ds.values['peptide']['intensity_gt'] = ds.values['peptide']['intensity']\n",
    "ds.values['protein_group']['intensity_gt'] = ds.values['protein_group']['intensity']\n",
    "simulate_mcars(dataset=ds, molecule='peptide', column='intensity', amount=0.1, inplace=True)\n",
    "# a second aggregation is required to get the new protein intensities including new missing values\n",
    "_ = maxlfq(dataset=ds, molecule='protein_group', mapping='peptide-protein_group', partner_column='intensity',\n",
    "           min_ratios=2, median_fallback=False, result_column='intensity')"
   ]
  },
  {
   "cell_type": "markdown",
   "id": "1e2774d0",
   "metadata": {},
   "source": [
    "## Developing Imputation Methods Working on One Molecule Type"
   ]
  },
  {
   "cell_type": "markdown",
   "id": "2593e799",
   "metadata": {},
   "source": [
    "Most such methods can be easiest applied to pandas dataframes which can be extracted from a dataset.\n",
    "For example the ```.get_wf(...)``` function returns a dataframe in wide format, the ```.get_lf(...)``` return a long format DataFrame.\n",
    "\n",
    "So the general strategy for implementing a new imputation method is to get the values for the molecule and value column to be imputed as pandas DataFrame, then apply the imputation method and finally return the result or write it back to the dataset.\n",
    "\n",
    "It is advisable to implement new imputtion methods as function with a signature similar to already existing imputation methods (see example below).\n",
    "In addition it is convention that an imputation methods return the imputation result as pandas Series in long format.\n",
    "\n",
    "Here is an easy example replacing any molecule with >50% missing values with the sample mean an any other molecule with the sample 10% percentile "
   ]
  },
  {
   "cell_type": "code",
   "execution_count": 13,
   "id": "8f6c37f6",
   "metadata": {},
   "outputs": [],
   "source": [
    "from typing import Optional\n",
    "import numpy as np\n",
    "import pandas as pd\n",
    "from pyproteonet.data import Dataset\n",
    "from pyproteonet.imputation.random_forest import random_forest_impute\n",
    "\n",
    "def simple_imputation(ds: Dataset, molecule: str, column:str, result_column: Optional[str] = None)->pd.Series:\n",
    "    wf = ds.get_wf(molecule=molecule, column=column)\n",
    "    # create imputed DataFrame\n",
    "    wf_imputed = wf.copy()\n",
    "    wf_imputed[wf.isna().sum(axis=1) > wf.shape[1] / 2] = wf.quantile(0.1)\n",
    "    wf_imputed[wf.isna().sum(axis=1) <= wf.shape[1] / 2] = wf.mean()\n",
    "    # only impute missing values\n",
    "    mask = wf.isna()\n",
    "    wf[mask] = wf_imputed[mask]\n",
    "    if result_column:\n",
    "        ds.set_wf(matrix=wf, molecule=molecule, column=result_column)\n",
    "    # not strictly required but within PyProteoNet it is good practice to return the imputed values in long format\n",
    "    res = wf.stack()\n",
    "    res.index.set_names(['id', 'sample'], inplace=True)\n",
    "    return res"
   ]
  },
  {
   "cell_type": "markdown",
   "id": "a15dd47d",
   "metadata": {},
   "source": [
    "Now, applying the imputation is as easy as calling the function:"
   ]
  },
  {
   "cell_type": "code",
   "execution_count": 15,
   "id": "cb604a65",
   "metadata": {},
   "outputs": [],
   "source": [
    "imp = simple_imputation(ds, molecule='peptide', column='intensity', result_column='simple_imputed')"
   ]
  },
  {
   "cell_type": "markdown",
   "id": "94a1b5f2",
   "metadata": {},
   "source": [
    "Below another more example implementing a new imputation methods that uses MissForest imputation for all molecules with <=50% missing samples the 10% quantile abundance values is used for the remaining molecules."
   ]
  },
  {
   "cell_type": "code",
   "execution_count": 16,
   "id": "516cd2d6",
   "metadata": {},
   "outputs": [],
   "source": [
    "def mixed_imputation(ds: Dataset, molecule: str, column:str, result_column: Optional[str] = None)->pd.Series:\n",
    "    # get the original abundance values in long format (pandas DataFrame with MultiIndex with molecule id and sample)\n",
    "    lf_missing = ds.get_lf(molecule=molecule)[column]\n",
    "    # first impute the missing values using a random forest (MissForest), by convention this returns the result as pandas Series in long format.\n",
    "    lf_imputed = random_forest_impute(ds, molecule=molecule, column=column)\n",
    "    # get the 10% percentile value\n",
    "    imp_value = lf_missing.quantile(0.1)\n",
    "    # get all molecules with more than 50% missing values by grouping by molecule id and replace their missing values with the 10% percentile\n",
    "    mask_molecules = lf_missing.isna().groupby('id').sum()\n",
    "    mask_molecules = mask_molecules[mask_molecules / ds.num_samples > 0.5].index\n",
    "    # get the index of the missing values belonging to molecules with \n",
    "    mask = lf_missing[lf_missing.index.get_level_values('id').isin(mask_molecules)]\n",
    "    mask = mask[mask.isna()].index\n",
    "    # set the missing values to the 10% percentile\n",
    "    lf_imputed.loc[mask] = imp_value\n",
    "    # if a result column is given, write the imputed values back to the dataset\n",
    "    if result_column:\n",
    "        ds.set_column_lf(molecule=molecule, values=lf_imputed, column=result_column)\n",
    "    return lf_imputed"
   ]
  },
  {
   "cell_type": "code",
   "execution_count": 17,
   "id": "262edab0",
   "metadata": {},
   "outputs": [
    {
     "name": "stdout",
     "output_type": "stream",
     "text": [
      "Iteration: 0\n",
      "Iteration: 1\n",
      "Iteration: 2\n",
      "Iteration: 3\n",
      "Iteration: 4\n",
      "Iteration: 5\n",
      "Iteration: 6\n",
      "Iteration: 7\n",
      "Iteration: 8\n",
      "Iteration: 9\n"
     ]
    }
   ],
   "source": [
    "imp2 = mixed_imputation(ds, molecule='peptide', column='intensity', result_column='combined_imputed')"
   ]
  },
  {
   "cell_type": "code",
   "execution_count": 18,
   "id": "f2d34a80",
   "metadata": {},
   "outputs": [
    {
     "data": {
      "text/html": [
       "<div>\n",
       "<style scoped>\n",
       "    .dataframe tbody tr th:only-of-type {\n",
       "        vertical-align: middle;\n",
       "    }\n",
       "\n",
       "    .dataframe tbody tr th {\n",
       "        vertical-align: top;\n",
       "    }\n",
       "\n",
       "    .dataframe thead th {\n",
       "        text-align: right;\n",
       "    }\n",
       "</style>\n",
       "<table border=\"1\" class=\"dataframe\">\n",
       "  <thead>\n",
       "    <tr style=\"text-align: right;\">\n",
       "      <th></th>\n",
       "      <th></th>\n",
       "      <th>intensity</th>\n",
       "      <th>intensity_gt</th>\n",
       "      <th>simple_imputed</th>\n",
       "      <th>combined_imputed</th>\n",
       "    </tr>\n",
       "    <tr>\n",
       "      <th>sample</th>\n",
       "      <th>id</th>\n",
       "      <th></th>\n",
       "      <th></th>\n",
       "      <th></th>\n",
       "      <th></th>\n",
       "    </tr>\n",
       "  </thead>\n",
       "  <tbody>\n",
       "    <tr>\n",
       "      <th rowspan=\"5\" valign=\"top\">1_hu_c1</th>\n",
       "      <th>0</th>\n",
       "      <td>NaN</td>\n",
       "      <td>18.249</td>\n",
       "      <td>17.035</td>\n",
       "      <td>18.336</td>\n",
       "    </tr>\n",
       "    <tr>\n",
       "      <th>1</th>\n",
       "      <td>NaN</td>\n",
       "      <td>NaN</td>\n",
       "      <td>17.035</td>\n",
       "      <td>17.289</td>\n",
       "    </tr>\n",
       "    <tr>\n",
       "      <th>2</th>\n",
       "      <td>17.855</td>\n",
       "      <td>17.855</td>\n",
       "      <td>17.855</td>\n",
       "      <td>17.855</td>\n",
       "    </tr>\n",
       "    <tr>\n",
       "      <th>3</th>\n",
       "      <td>NaN</td>\n",
       "      <td>17.009</td>\n",
       "      <td>17.035</td>\n",
       "      <td>17.168</td>\n",
       "    </tr>\n",
       "    <tr>\n",
       "      <th>4</th>\n",
       "      <td>NaN</td>\n",
       "      <td>NaN</td>\n",
       "      <td>15.378</td>\n",
       "      <td>15.439</td>\n",
       "    </tr>\n",
       "    <tr>\n",
       "      <th>...</th>\n",
       "      <th>...</th>\n",
       "      <td>...</td>\n",
       "      <td>...</td>\n",
       "      <td>...</td>\n",
       "      <td>...</td>\n",
       "    </tr>\n",
       "    <tr>\n",
       "      <th rowspan=\"5\" valign=\"top\">6_hu_p3</th>\n",
       "      <th>8141</th>\n",
       "      <td>16.057</td>\n",
       "      <td>16.057</td>\n",
       "      <td>16.057</td>\n",
       "      <td>16.057</td>\n",
       "    </tr>\n",
       "    <tr>\n",
       "      <th>8142</th>\n",
       "      <td>NaN</td>\n",
       "      <td>NaN</td>\n",
       "      <td>15.510</td>\n",
       "      <td>15.439</td>\n",
       "    </tr>\n",
       "    <tr>\n",
       "      <th>8143</th>\n",
       "      <td>17.591</td>\n",
       "      <td>17.591</td>\n",
       "      <td>17.591</td>\n",
       "      <td>17.591</td>\n",
       "    </tr>\n",
       "    <tr>\n",
       "      <th>8144</th>\n",
       "      <td>17.566</td>\n",
       "      <td>17.566</td>\n",
       "      <td>17.566</td>\n",
       "      <td>17.566</td>\n",
       "    </tr>\n",
       "    <tr>\n",
       "      <th>8145</th>\n",
       "      <td>19.875</td>\n",
       "      <td>19.875</td>\n",
       "      <td>19.875</td>\n",
       "      <td>19.875</td>\n",
       "    </tr>\n",
       "  </tbody>\n",
       "</table>\n",
       "<p>48876 rows × 4 columns</p>\n",
       "</div>"
      ],
      "text/plain": [
       "              intensity  intensity_gt  simple_imputed  combined_imputed\n",
       "sample  id                                                             \n",
       "1_hu_c1 0           NaN        18.249          17.035            18.336\n",
       "        1           NaN           NaN          17.035            17.289\n",
       "        2        17.855        17.855          17.855            17.855\n",
       "        3           NaN        17.009          17.035            17.168\n",
       "        4           NaN           NaN          15.378            15.439\n",
       "...                 ...           ...             ...               ...\n",
       "6_hu_p3 8141     16.057        16.057          16.057            16.057\n",
       "        8142        NaN           NaN          15.510            15.439\n",
       "        8143     17.591        17.591          17.591            17.591\n",
       "        8144     17.566        17.566          17.566            17.566\n",
       "        8145     19.875        19.875          19.875            19.875\n",
       "\n",
       "[48876 rows x 4 columns]"
      ]
     },
     "execution_count": 18,
     "metadata": {},
     "output_type": "execute_result"
    }
   ],
   "source": [
    "ds.get_lf(molecule='peptide')"
   ]
  },
  {
   "cell_type": "markdown",
   "id": "0adabfb9",
   "metadata": {},
   "source": [
    "Once developed it is straight forward to apply the imputation methods on every molecule type we like"
   ]
  },
  {
   "cell_type": "code",
   "execution_count": 19,
   "id": "ab47aec3",
   "metadata": {},
   "outputs": [
    {
     "name": "stdout",
     "output_type": "stream",
     "text": [
      "Iteration: 0\n",
      "Iteration: 1\n",
      "Iteration: 2\n",
      "Iteration: 3\n"
     ]
    }
   ],
   "source": [
    "imp = simple_imputation(ds, molecule='protein_group', column='intensity', result_column='simple_imputed')\n",
    "imp2 = mixed_imputation(ds, molecule='protein_group', column='intensity', result_column='combined_imputed')"
   ]
  },
  {
   "cell_type": "markdown",
   "id": "028d4fc3-29a5-458d-a544-615572068d69",
   "metadata": {},
   "source": [
    "## Developing Imputation Methods Based on (Graph) Neural Networks"
   ]
  },
  {
   "cell_type": "markdown",
   "id": "67ba8568-4873-4e6a-a2c4-43341f1138ef",
   "metadata": {},
   "source": [
    "For demonstration purpose we develop a simple graph neural network (GNN) jointly operating on the intensity values of protein_group and peptide. This shows some of the functionality of PyProteoNet that can be used to develop neural network based imputation methods."
   ]
  },
  {
   "cell_type": "markdown",
   "id": "d2dee3bf",
   "metadata": {},
   "source": [
    "First we create a dataset out of our original dataset only containing the relevant molecules and values (in our case the intensity value column).  This can be done using the ```.copy(...)``` function provided by Datasets.\n",
    "\n",
    "In addtion GNN values should be standardized to have zero mean and unit variance. The PyProteoNet dataset standardizer can be used for this. Next to standardizing values it also stores the standardization parameters so that predictions can be transformed back later on."
   ]
  },
  {
   "cell_type": "code",
   "execution_count": 20,
   "id": "2063de0e",
   "metadata": {},
   "outputs": [],
   "source": [
    "from pyproteonet.processing import Standardizer\n",
    "\n",
    "gnn_ds = ds.copy(columns={'peptide':'intensity', 'protein_group':'intensity'})\n",
    "standardizer = Standardizer(columns=['intensity'])\n",
    "gnn_ds = standardizer.standardize(gnn_ds)"
   ]
  },
  {
   "cell_type": "markdown",
   "id": "66003824",
   "metadata": {},
   "source": [
    "For training a GNN in a self supervised fashion we want to mask some non-missing values then used to train the GNN. For this reason PyProteoNet provides ```MaskedDataset``` which wraps a dataset but also specifies which values to mask (and/or hide) per molecule type to \"simulate\" missing values for self-supervised training. \n",
    "For more robust results it is advisable to not keep the masked nodes static but use different masked sets during trainig.\n",
    "Therefore, we can use a ```MaskedDatasetGenerator``` in combination with a custom generator function.\n",
    "Here we randomly mask 40% of peptides and all of the protein_groups (to enforce the GNN to learn aggregation peptide values into protein values)."
   ]
  },
  {
   "cell_type": "code",
   "execution_count": 21,
   "id": "98ae2f07",
   "metadata": {},
   "outputs": [],
   "source": [
    "from pyproteonet.masking import MaskedDataset, MaskedDatasetGenerator\n",
    "# Defining our custom masking function.\n",
    "def masking_fn(in_ds):\n",
    "    pep_ids = in_ds.values['peptide'][\"intensity\"]\n",
    "    # sample 30% of non-missing peptides\n",
    "    pep_ids = pep_ids[~pep_ids.isna()].sample(frac=0.3).index\n",
    "    # mask all non-missing protein groups\n",
    "    prot_ids = in_ds.values['protein_group'][\"intensity\"]\n",
    "    prot_ids = prot_ids[~prot_ids.isna()].index\n",
    "    return MaskedDataset.from_ids(dataset=in_ds, mask_ids={'protein_group': prot_ids, 'peptide': pep_ids},)\n",
    "\n",
    "# Create a masked dataset generator with 10 randomly masked datasets per epoch\n",
    "mask_ds = MaskedDatasetGenerator(datasets=[gnn_ds], generator_fn=masking_fn, epoch_size_multiplier=50)"
   ]
  },
  {
   "cell_type": "markdown",
   "id": "ee24c3f0",
   "metadata": {},
   "source": [
    "In addition we need to transform our Dataset/MaskedDatasets into tensors suitable for inputting into a neural network. PyProteoNet, therefore, provides the ```to_dgl_graph(..)``` function to transform a Dataset or MaskedDataset into a DLG graph which can either be used directly as input into a GNN or used to extract specific tensors.\n",
    "\n",
    "Here we define a simple collate function transforming a batch of MaskedDatasets into a heterogeneous DGL graph. Therefore, we first transform each MaskedDataset into a heterogeneous DGL graph using PyProteoNet's ```.to_dgl_graph(...)``` function and, subsequently, merge all graph into a single graph using DGL's standard collate function.\n",
    "\n",
    "It should be noted that the collate function gets a batch of MaskedDatasets and a list of samples for each MaskedDataset in the list. This allows sample wise training. However, here we just transform the whole Dataset into a single graph containing all samples "
   ]
  },
  {
   "cell_type": "code",
   "execution_count": 22,
   "id": "883e09e6",
   "metadata": {},
   "outputs": [],
   "source": [
    "from dgl.dataloading import GraphCollator\n",
    "collator = GraphCollator()\n",
    "def collate(masked_datasets_and_samples):\n",
    "    res = []\n",
    "    for md, samples in masked_datasets_and_samples:\n",
    "        # create a DGL graph from the masked dataset containing binary masks indicating the masked and hidden nodes\n",
    "        graph = md.to_dgl_graph(\n",
    "            feature_columns={\n",
    "                'protein_group': 'intensity',\n",
    "                'peptide': 'intensity',\n",
    "            },\n",
    "            mappings=['peptide-protein_group'],\n",
    "            make_bidirectional=True,\n",
    "            samples=samples,\n",
    "        )\n",
    "        res.append(graph)\n",
    "    return collator.collate(res)"
   ]
  },
  {
   "cell_type": "markdown",
   "id": "c89a8dd4",
   "metadata": {},
   "source": [
    "The only thing left to do ist to define the GNN architecture. We do this in the form of a Lightning Module."
   ]
  },
  {
   "cell_type": "code",
   "execution_count": 45,
   "id": "9181a7cd",
   "metadata": {},
   "outputs": [],
   "source": [
    "import torch\n",
    "from torch import nn\n",
    "import lightning as L\n",
    "from dgl.nn.pytorch.conv import GATv2Conv\n",
    "from dgl.nn.pytorch import HeteroGraphConv\n",
    "from dgl.dataloading import GraphCollator\n",
    "\n",
    "class ImputationModule(L.LightningModule):\n",
    "    def __init__(self, num_samples: int, num_proteins: int):\n",
    "        super().__init__()\n",
    "        # Four fully connected layers applied on the peptide input across samples\n",
    "        lat_dim = 4\n",
    "        self.pep_fully_connected = nn.Sequential(nn.Linear(num_samples, num_samples), nn.LeakyReLU(),\n",
    "                                                 nn.Linear(num_samples, num_samples), nn.LeakyReLU(),\n",
    "                                                 nn.Linear(num_samples, lat_dim), nn.LeakyReLU(),\n",
    "                                                 nn.Linear(lat_dim, num_samples), nn.LeakyReLU())\n",
    "        # Learnable protein embedding\n",
    "        self.prot_embedding = nn.Embedding(num_proteins, lat_dim)\n",
    "        # Two GATv2 layers for utilizing the protein-peptides relations\n",
    "        self.prot_gat = HeteroGraphConv({'peptide-protein_group': GATv2Conv(in_feats=(num_samples, lat_dim), out_feats=num_samples, num_heads=32,)})\n",
    "        self.pep_gat = HeteroGraphConv({'peptide-protein_group': GATv2Conv(in_feats=(num_samples + lat_dim, num_samples), out_feats=num_samples, num_heads=32,)})\n",
    "        self.prot_final_linear = nn.Linear(num_samples + lat_dim, num_samples)\n",
    "        self.pep_final_linear = nn.Linear(num_samples + num_samples, num_samples)\n",
    "        # value to use for missing and masked abundance values\n",
    "        self.mask_value = -3\n",
    "\n",
    "    def forward(self, graph):\n",
    "        abundance = graph.ndata[\"intensity\"]\n",
    "        # mask hidden nodes\n",
    "        hidden = graph.ndata[\"hidden\"]\n",
    "        for key, hide in hidden.items():\n",
    "            abundance[key][hide] = self.mask_value\n",
    "        # mask masked nodes\n",
    "        masks = graph.ndata[\"mask\"]\n",
    "        for key, mask in masks.items():\n",
    "            abundance[key][mask] = self.mask_value\n",
    "        # replace missing values with mask value\n",
    "        for key, ab in abundance.items():\n",
    "            ab[torch.isnan(ab)] = self.mask_value\n",
    "        # applying the input fully connected layers\n",
    "        pep_latent = self.pep_fully_connected(abundance['peptide'])\n",
    "        # applying the protein embedding\n",
    "        prot_latent = self.prot_embedding(graph.nodes('protein_group').int())\n",
    "        # applying the GATv2 layers, averaging the output over the nodes, and applying LeakyReLU as activation function\n",
    "        prot_vec = nn.functional.leaky_relu(self.prot_gat(graph, ({'peptide':pep_latent}, {'protein_group':prot_latent}))['protein_group']).mean(dim=-2)\n",
    "        # \"skip connection\" by concatenating the protein embedding and the GATv2 output\n",
    "        prot_vec = torch.cat([prot_vec, prot_latent], dim=-1)\n",
    "        pep_vec = nn.functional.leaky_relu(self.pep_gat(graph, ({'protein_group':prot_vec}, {'peptide':pep_latent}))['peptide']).mean(dim=-2)\n",
    "         # \"skip connection\" by concatenating the peptide latent reprensentation and the GATv2 output\n",
    "        pep_vec = torch.cat([pep_vec, pep_latent], dim=-1)\n",
    "        # concatenate the peptide input and the GATv2 output\n",
    "        # applying the final linear layer for both proteins and peptides\n",
    "        prot_vec, pep_vec = self.prot_final_linear(prot_vec), self.pep_final_linear(pep_vec)\n",
    "        return prot_vec, pep_vec\n",
    "\n",
    "    def compute_loss(self, graph) -> torch.tensor:\n",
    "        # we only compute the loss on masked nodes\n",
    "        abundance = graph.ndata[\"intensity\"]\n",
    "        masks = graph.ndata[\"mask\"]\n",
    "        # store gt for later loss computation\n",
    "        prot_gt = abundance['protein_group'][masks['protein_group']].detach().clone()\n",
    "        pep_gt = abundance['peptide'][masks['peptide']].detach().clone()\n",
    "        # forward pass\n",
    "        prot_vec, pep_vec = self(graph)\n",
    "        # compute loss\n",
    "        prot_pred = prot_vec[masks['protein_group']]\n",
    "        pep_pred = pep_vec[masks['peptide']]\n",
    "        prot_loss = nn.functional.mse_loss(prot_pred, prot_gt) \n",
    "        pep_loss = nn.functional.mse_loss(pep_pred, pep_gt)\n",
    "        self.log(\"prot_loss\", prot_loss.item(), on_step=False, on_epoch=True, batch_size=1)\n",
    "        self.log(\"pep_loss\", pep_loss.item(), on_step=False, on_epoch=True, batch_size=1)\n",
    "        loss = prot_loss + pep_loss\n",
    "        self.log(\"loss\", loss.item(), on_step=False, on_epoch=True, batch_size=1)\n",
    "        return loss\n",
    "\n",
    "    def training_step(self, graph, batch_idx):\n",
    "        loss = self.compute_loss(graph)\n",
    "        return loss\n",
    "\n",
    "    def predict_step(self, graph, batch_idx, dataloader_idx=0):\n",
    "        prot_vec, pep_vec = self(graph)\n",
    "        return prot_vec, pep_vec\n",
    "\n",
    "    def configure_optimizers(self):\n",
    "        return torch.optim.Adam(self.parameters(), lr=0.001)"
   ]
  },
  {
   "cell_type": "markdown",
   "id": "28369372",
   "metadata": {},
   "source": [
    "Finally, we can train our GNN using Lightning"
   ]
  },
  {
   "cell_type": "code",
   "execution_count": 46,
   "id": "93f2d2f1",
   "metadata": {
    "tags": [
     "hide-output"
    ]
   },
   "outputs": [
    {
     "name": "stderr",
     "output_type": "stream",
     "text": [
      "GPU available: True (cuda), used: True\n",
      "TPU available: False, using: 0 TPU cores\n",
      "IPU available: False, using: 0 IPUs\n",
      "HPU available: False, using: 0 HPUs\n"
     ]
    },
    {
     "name": "stderr",
     "output_type": "stream",
     "text": [
      "LOCAL_RANK: 0 - CUDA_VISIBLE_DEVICES: [0]\n",
      "\n",
      "  | Name                | Type            | Params\n",
      "--------------------------------------------------------\n",
      "0 | pep_fully_connected | Sequential      | 142   \n",
      "1 | prot_embedding      | Embedding       | 7.3 K \n",
      "2 | prot_gat            | HeteroGraphConv | 2.5 K \n",
      "3 | pep_gat             | HeteroGraphConv | 3.6 K \n",
      "4 | prot_final_linear   | Linear          | 66    \n",
      "5 | pep_final_linear    | Linear          | 78    \n",
      "--------------------------------------------------------\n",
      "13.8 K    Trainable params\n",
      "0         Non-trainable params\n",
      "13.8 K    Total params\n",
      "0.055     Total estimated model params size (MB)\n"
     ]
    },
    {
     "data": {
      "application/vnd.jupyter.widget-view+json": {
       "model_id": "b23ce3b09b97450ebcc94deae17576ca",
       "version_major": 2,
       "version_minor": 0
      },
      "text/plain": [
       "Training: |                                                                                                   …"
      ]
     },
     "metadata": {},
     "output_type": "display_data"
    },
    {
     "name": "stdout",
     "output_type": "stream",
     "text": [
      "step49: prot_loss:1.825 || pep_loss:0.831 || loss:2.656 || epoch:0.000 || \n",
      "step99: prot_loss:1.666 || pep_loss:0.753 || loss:2.419 || epoch:1.000 || \n",
      "step149: prot_loss:1.391 || pep_loss:0.698 || loss:2.089 || epoch:2.000 || \n",
      "step199: prot_loss:0.957 || pep_loss:0.609 || loss:1.566 || epoch:3.000 || \n",
      "step249: prot_loss:0.700 || pep_loss:0.482 || loss:1.182 || epoch:4.000 || \n",
      "step299: prot_loss:0.540 || pep_loss:0.401 || loss:0.941 || epoch:5.000 || \n",
      "step349: prot_loss:0.408 || pep_loss:0.365 || loss:0.773 || epoch:6.000 || \n",
      "step399: prot_loss:0.348 || pep_loss:0.345 || loss:0.692 || epoch:7.000 || \n",
      "step449: prot_loss:0.313 || pep_loss:0.332 || loss:0.645 || epoch:8.000 || \n",
      "step499: prot_loss:0.288 || pep_loss:0.319 || loss:0.607 || epoch:9.000 || \n",
      "step549: prot_loss:0.271 || pep_loss:0.309 || loss:0.580 || epoch:10.000 || \n",
      "step599: prot_loss:0.256 || pep_loss:0.300 || loss:0.556 || epoch:11.000 || \n",
      "step649: prot_loss:0.239 || pep_loss:0.291 || loss:0.530 || epoch:12.000 || \n",
      "step699: prot_loss:0.227 || pep_loss:0.282 || loss:0.508 || epoch:13.000 || \n",
      "step749: prot_loss:0.213 || pep_loss:0.275 || loss:0.488 || epoch:14.000 || \n",
      "step799: prot_loss:0.202 || pep_loss:0.266 || loss:0.468 || epoch:15.000 || \n",
      "step849: prot_loss:0.190 || pep_loss:0.261 || loss:0.452 || epoch:16.000 || \n",
      "step899: prot_loss:0.181 || pep_loss:0.258 || loss:0.439 || epoch:17.000 || \n",
      "step949: prot_loss:0.173 || pep_loss:0.253 || loss:0.426 || epoch:18.000 || \n",
      "step999: prot_loss:0.164 || pep_loss:0.249 || loss:0.413 || epoch:19.000 || \n",
      "step1049: prot_loss:0.156 || pep_loss:0.245 || loss:0.401 || epoch:20.000 || \n",
      "step1099: prot_loss:0.147 || pep_loss:0.242 || loss:0.389 || epoch:21.000 || \n",
      "step1149: prot_loss:0.139 || pep_loss:0.240 || loss:0.379 || epoch:22.000 || \n",
      "step1199: prot_loss:0.132 || pep_loss:0.238 || loss:0.371 || epoch:23.000 || \n",
      "step1249: prot_loss:0.124 || pep_loss:0.234 || loss:0.358 || epoch:24.000 || \n",
      "step1299: prot_loss:0.117 || pep_loss:0.231 || loss:0.348 || epoch:25.000 || \n",
      "step1349: prot_loss:0.110 || pep_loss:0.229 || loss:0.338 || epoch:26.000 || \n",
      "step1399: prot_loss:0.102 || pep_loss:0.226 || loss:0.329 || epoch:27.000 || \n",
      "step1449: prot_loss:0.097 || pep_loss:0.226 || loss:0.323 || epoch:28.000 || \n",
      "step1499: prot_loss:0.090 || pep_loss:0.223 || loss:0.313 || epoch:29.000 || \n",
      "step1549: prot_loss:0.085 || pep_loss:0.221 || loss:0.306 || epoch:30.000 || \n",
      "step1599: prot_loss:0.080 || pep_loss:0.220 || loss:0.300 || epoch:31.000 || \n",
      "step1649: prot_loss:0.077 || pep_loss:0.218 || loss:0.295 || epoch:32.000 || \n",
      "step1699: prot_loss:0.072 || pep_loss:0.218 || loss:0.290 || epoch:33.000 || \n",
      "step1749: prot_loss:0.069 || pep_loss:0.216 || loss:0.286 || epoch:34.000 || \n",
      "step1799: prot_loss:0.067 || pep_loss:0.217 || loss:0.283 || epoch:35.000 || \n",
      "step1849: prot_loss:0.064 || pep_loss:0.215 || loss:0.279 || epoch:36.000 || \n",
      "step1899: prot_loss:0.061 || pep_loss:0.214 || loss:0.275 || epoch:37.000 || \n",
      "step1949: prot_loss:0.059 || pep_loss:0.213 || loss:0.272 || epoch:38.000 || \n",
      "step1999: prot_loss:0.056 || pep_loss:0.213 || loss:0.269 || epoch:39.000 || \n",
      "step2049: prot_loss:0.055 || pep_loss:0.213 || loss:0.268 || epoch:40.000 || \n",
      "step2099: prot_loss:0.053 || pep_loss:0.210 || loss:0.263 || epoch:41.000 || \n",
      "step2149: prot_loss:0.053 || pep_loss:0.212 || loss:0.264 || epoch:42.000 || \n",
      "step2199: prot_loss:0.050 || pep_loss:0.210 || loss:0.260 || epoch:43.000 || \n",
      "step2249: prot_loss:0.049 || pep_loss:0.210 || loss:0.259 || epoch:44.000 || \n",
      "step2299: prot_loss:0.048 || pep_loss:0.209 || loss:0.257 || epoch:45.000 || \n",
      "step2349: prot_loss:0.046 || pep_loss:0.209 || loss:0.256 || epoch:46.000 || \n",
      "step2399: prot_loss:0.045 || pep_loss:0.209 || loss:0.253 || epoch:47.000 || \n",
      "step2449: prot_loss:0.044 || pep_loss:0.208 || loss:0.252 || epoch:48.000 || \n",
      "step2499: prot_loss:0.043 || pep_loss:0.207 || loss:0.251 || epoch:49.000 || \n",
      "step2549: prot_loss:0.042 || pep_loss:0.207 || loss:0.248 || epoch:50.000 || \n",
      "step2599: prot_loss:0.041 || pep_loss:0.206 || loss:0.246 || epoch:51.000 || \n",
      "step2649: prot_loss:0.040 || pep_loss:0.205 || loss:0.245 || epoch:52.000 || \n",
      "step2699: prot_loss:0.039 || pep_loss:0.205 || loss:0.244 || epoch:53.000 || \n",
      "step2749: prot_loss:0.038 || pep_loss:0.204 || loss:0.242 || epoch:54.000 || \n",
      "step2799: prot_loss:0.038 || pep_loss:0.204 || loss:0.242 || epoch:55.000 || \n",
      "step2849: prot_loss:0.037 || pep_loss:0.203 || loss:0.240 || epoch:56.000 || \n",
      "step2899: prot_loss:0.037 || pep_loss:0.204 || loss:0.240 || epoch:57.000 || \n",
      "step2949: prot_loss:0.036 || pep_loss:0.202 || loss:0.238 || epoch:58.000 || \n",
      "step2999: prot_loss:0.035 || pep_loss:0.203 || loss:0.238 || epoch:59.000 || \n",
      "step3049: prot_loss:0.034 || pep_loss:0.201 || loss:0.236 || epoch:60.000 || \n",
      "step3099: prot_loss:0.034 || pep_loss:0.201 || loss:0.235 || epoch:61.000 || \n",
      "step3149: prot_loss:0.033 || pep_loss:0.202 || loss:0.235 || epoch:62.000 || \n",
      "step3199: prot_loss:0.033 || pep_loss:0.202 || loss:0.235 || epoch:63.000 || \n",
      "step3249: prot_loss:0.032 || pep_loss:0.202 || loss:0.234 || epoch:64.000 || \n",
      "step3299: prot_loss:0.032 || pep_loss:0.200 || loss:0.232 || epoch:65.000 || \n",
      "step3349: prot_loss:0.032 || pep_loss:0.198 || loss:0.230 || epoch:66.000 || \n",
      "step3399: prot_loss:0.031 || pep_loss:0.198 || loss:0.229 || epoch:67.000 || \n",
      "step3449: prot_loss:0.031 || pep_loss:0.199 || loss:0.230 || epoch:68.000 || \n",
      "step3499: prot_loss:0.030 || pep_loss:0.198 || loss:0.229 || epoch:69.000 || \n",
      "step3549: prot_loss:0.030 || pep_loss:0.198 || loss:0.229 || epoch:70.000 || \n",
      "step3599: prot_loss:0.029 || pep_loss:0.198 || loss:0.228 || epoch:71.000 || \n",
      "step3649: prot_loss:0.030 || pep_loss:0.198 || loss:0.228 || epoch:72.000 || \n",
      "step3699: prot_loss:0.029 || pep_loss:0.197 || loss:0.226 || epoch:73.000 || \n",
      "step3749: prot_loss:0.029 || pep_loss:0.196 || loss:0.224 || epoch:74.000 || \n",
      "step3799: prot_loss:0.028 || pep_loss:0.196 || loss:0.225 || epoch:75.000 || \n",
      "step3849: prot_loss:0.028 || pep_loss:0.196 || loss:0.224 || epoch:76.000 || \n",
      "step3899: prot_loss:0.028 || pep_loss:0.196 || loss:0.224 || epoch:77.000 || \n",
      "step3949: prot_loss:0.028 || pep_loss:0.194 || loss:0.222 || epoch:78.000 || \n",
      "step3999: prot_loss:0.027 || pep_loss:0.195 || loss:0.222 || epoch:79.000 || \n",
      "step4049: prot_loss:0.027 || pep_loss:0.194 || loss:0.222 || epoch:80.000 || \n",
      "step4099: prot_loss:0.026 || pep_loss:0.193 || loss:0.220 || epoch:81.000 || \n",
      "step4149: prot_loss:0.026 || pep_loss:0.193 || loss:0.220 || epoch:82.000 || \n",
      "step4199: prot_loss:0.026 || pep_loss:0.193 || loss:0.219 || epoch:83.000 || \n",
      "step4249: prot_loss:0.026 || pep_loss:0.192 || loss:0.218 || epoch:84.000 || \n",
      "step4299: prot_loss:0.026 || pep_loss:0.191 || loss:0.217 || epoch:85.000 || \n",
      "step4349: prot_loss:0.025 || pep_loss:0.191 || loss:0.216 || epoch:86.000 || \n",
      "step4399: prot_loss:0.025 || pep_loss:0.190 || loss:0.216 || epoch:87.000 || \n",
      "step4449: prot_loss:0.025 || pep_loss:0.190 || loss:0.215 || epoch:88.000 || \n",
      "step4499: prot_loss:0.025 || pep_loss:0.188 || loss:0.213 || epoch:89.000 || \n",
      "step4549: prot_loss:0.025 || pep_loss:0.190 || loss:0.215 || epoch:90.000 || \n",
      "step4599: prot_loss:0.024 || pep_loss:0.188 || loss:0.213 || epoch:91.000 || \n",
      "step4649: prot_loss:0.024 || pep_loss:0.188 || loss:0.212 || epoch:92.000 || \n",
      "step4699: prot_loss:0.024 || pep_loss:0.188 || loss:0.212 || epoch:93.000 || \n",
      "step4749: prot_loss:0.024 || pep_loss:0.188 || loss:0.212 || epoch:94.000 || \n",
      "step4799: prot_loss:0.024 || pep_loss:0.188 || loss:0.211 || epoch:95.000 || \n",
      "step4849: prot_loss:0.024 || pep_loss:0.188 || loss:0.212 || epoch:96.000 || \n",
      "step4899: prot_loss:0.024 || pep_loss:0.186 || loss:0.210 || epoch:97.000 || \n",
      "step4949: prot_loss:0.023 || pep_loss:0.188 || loss:0.211 || epoch:98.000 || \n",
      "step4999: prot_loss:0.023 || pep_loss:0.188 || loss:0.211 || epoch:99.000 || \n",
      "step5049: prot_loss:0.023 || pep_loss:0.184 || loss:0.208 || epoch:100.000 || \n",
      "step5099: prot_loss:0.023 || pep_loss:0.186 || loss:0.209 || epoch:101.000 || \n",
      "step5149: prot_loss:0.023 || pep_loss:0.186 || loss:0.208 || epoch:102.000 || \n",
      "step5199: prot_loss:0.023 || pep_loss:0.186 || loss:0.209 || epoch:103.000 || \n",
      "step5249: prot_loss:0.023 || pep_loss:0.186 || loss:0.209 || epoch:104.000 || \n",
      "step5299: prot_loss:0.023 || pep_loss:0.187 || loss:0.209 || epoch:105.000 || \n"
     ]
    }
   ],
   "source": [
    "from torch.utils.data import DataLoader\n",
    "from pyproteonet.lightning import ConsoleLogger\n",
    "from pyproteonet.lightning.training_early_stopping import TrainingEarlyStopping\n",
    "\n",
    "model = ImputationModule(num_samples=ds.num_samples, num_proteins=ds.molecules['protein_group'].shape[0])\n",
    "# For fast prototyping PyProteoNet provides a simple logger printing the logs, however, you can use any Lightnign logger you like (e.g. log to TensorBoard etc.)\n",
    "logger = ConsoleLogger()\n",
    "trainer = L.Trainer(\n",
    "    logger=logger,\n",
    "    log_every_n_steps=1,\n",
    "    check_val_every_n_epoch=1,\n",
    "    max_epochs=1000,\n",
    "    enable_checkpointing=False,\n",
    "    # Due to our self-supervised training scheme we use early stopping based on the training loss\n",
    "    callbacks=[TrainingEarlyStopping(monitor=\"loss\", mode=\"min\", patience=5)],\n",
    ")\n",
    "train_dl = DataLoader(mask_ds, batch_size=1, collate_fn=collate)\n",
    "trainer.fit(model=model, train_dataloaders=train_dl)"
   ]
  },
  {
   "cell_type": "markdown",
   "id": "c39893d1",
   "metadata": {},
   "source": [
    "The last thing to do is to predict the genuine missing values using the trained GNN and transform the results back into the original dataset"
   ]
  },
  {
   "cell_type": "code",
   "execution_count": 47,
   "id": "eef584e7",
   "metadata": {},
   "outputs": [
    {
     "name": "stderr",
     "output_type": "stream",
     "text": [
      "LOCAL_RANK: 0 - CUDA_VISIBLE_DEVICES: [0]\n"
     ]
    },
    {
     "data": {
      "application/vnd.jupyter.widget-view+json": {
       "model_id": "8bcfb4209cad494b9eeb7e650aeba3f3",
       "version_major": 2,
       "version_minor": 0
      },
      "text/plain": [
       "Predicting: |                                                                                                 …"
      ]
     },
     "metadata": {},
     "output_type": "display_data"
    }
   ],
   "source": [
    "# Generate a dataset all missing values masked because those are the values we want to predict/impute\n",
    "missing_prots = ds.values['protein_group']['intensity']\n",
    "missing_prots = missing_prots[missing_prots.isna()].index\n",
    "missing_peps = ds.values['peptide']['intensity']\n",
    "missing_peps = missing_peps[missing_peps.isna()].index\n",
    "missing_mds = MaskedDataset.from_ids(dataset=gnn_ds, mask_ids={'protein_group': missing_prots, 'peptide': missing_peps})\n",
    "pred_dl = DataLoader([(missing_mds, ds.sample_names)], batch_size=1, collate_fn=collate)\n",
    "prot_pred, pep_pred = trainer.predict(model=model, dataloaders=pred_dl)[0]\n",
    "\n",
    "# Write the imputed values back to the MaskedDataset and the underlying gnn_ds dataset (We only write back to the masked/missing values)\n",
    "missing_mds.set_samples_value_matrix(matrix=prot_pred, molecule='protein_group', column=\"intensity\", only_set_masked=True)\n",
    "missing_mds.set_samples_value_matrix(matrix=pep_pred, molecule='peptide', column=\"intensity\", only_set_masked=True)\n",
    "\n",
    "# Undo the standardization to tranform the imputed values back to the original scale\n",
    "res_ds = standardizer.unstandardize(gnn_ds)\n",
    "\n",
    "# Set the result to our original dataset\n",
    "ds.values['protein_group']['gnn_imp'] = res_ds.values['protein_group']['intensity']\n",
    "ds.values['peptide']['gnn_imp'] = res_ds.values['peptide']['intensity']"
   ]
  },
  {
   "cell_type": "code",
   "execution_count": 48,
   "id": "c99ed5aa",
   "metadata": {},
   "outputs": [
    {
     "data": {
      "text/html": [
       "<div>\n",
       "<style scoped>\n",
       "    .dataframe tbody tr th:only-of-type {\n",
       "        vertical-align: middle;\n",
       "    }\n",
       "\n",
       "    .dataframe tbody tr th {\n",
       "        vertical-align: top;\n",
       "    }\n",
       "\n",
       "    .dataframe thead th {\n",
       "        text-align: right;\n",
       "    }\n",
       "</style>\n",
       "<table border=\"1\" class=\"dataframe\">\n",
       "  <thead>\n",
       "    <tr style=\"text-align: right;\">\n",
       "      <th></th>\n",
       "      <th></th>\n",
       "      <th>intensity</th>\n",
       "      <th>intensity_gt</th>\n",
       "      <th>simple_imputed</th>\n",
       "      <th>combined_imputed</th>\n",
       "      <th>gnn_imp</th>\n",
       "    </tr>\n",
       "    <tr>\n",
       "      <th>sample</th>\n",
       "      <th>id</th>\n",
       "      <th></th>\n",
       "      <th></th>\n",
       "      <th></th>\n",
       "      <th></th>\n",
       "      <th></th>\n",
       "    </tr>\n",
       "  </thead>\n",
       "  <tbody>\n",
       "    <tr>\n",
       "      <th rowspan=\"5\" valign=\"top\">1_hu_c1</th>\n",
       "      <th>0</th>\n",
       "      <td>NaN</td>\n",
       "      <td>18.249</td>\n",
       "      <td>17.035</td>\n",
       "      <td>18.336</td>\n",
       "      <td>18.569</td>\n",
       "    </tr>\n",
       "    <tr>\n",
       "      <th>1</th>\n",
       "      <td>NaN</td>\n",
       "      <td>NaN</td>\n",
       "      <td>17.035</td>\n",
       "      <td>17.289</td>\n",
       "      <td>17.476</td>\n",
       "    </tr>\n",
       "    <tr>\n",
       "      <th>2</th>\n",
       "      <td>17.855</td>\n",
       "      <td>17.855</td>\n",
       "      <td>17.855</td>\n",
       "      <td>17.855</td>\n",
       "      <td>17.855</td>\n",
       "    </tr>\n",
       "    <tr>\n",
       "      <th>3</th>\n",
       "      <td>NaN</td>\n",
       "      <td>17.009</td>\n",
       "      <td>17.035</td>\n",
       "      <td>17.168</td>\n",
       "      <td>16.124</td>\n",
       "    </tr>\n",
       "    <tr>\n",
       "      <th>4</th>\n",
       "      <td>NaN</td>\n",
       "      <td>NaN</td>\n",
       "      <td>15.378</td>\n",
       "      <td>15.439</td>\n",
       "      <td>15.813</td>\n",
       "    </tr>\n",
       "    <tr>\n",
       "      <th>...</th>\n",
       "      <th>...</th>\n",
       "      <td>...</td>\n",
       "      <td>...</td>\n",
       "      <td>...</td>\n",
       "      <td>...</td>\n",
       "      <td>...</td>\n",
       "    </tr>\n",
       "    <tr>\n",
       "      <th rowspan=\"5\" valign=\"top\">6_hu_p3</th>\n",
       "      <th>8141</th>\n",
       "      <td>16.057</td>\n",
       "      <td>16.057</td>\n",
       "      <td>16.057</td>\n",
       "      <td>16.057</td>\n",
       "      <td>16.057</td>\n",
       "    </tr>\n",
       "    <tr>\n",
       "      <th>8142</th>\n",
       "      <td>NaN</td>\n",
       "      <td>NaN</td>\n",
       "      <td>15.510</td>\n",
       "      <td>15.439</td>\n",
       "      <td>16.832</td>\n",
       "    </tr>\n",
       "    <tr>\n",
       "      <th>8143</th>\n",
       "      <td>17.591</td>\n",
       "      <td>17.591</td>\n",
       "      <td>17.591</td>\n",
       "      <td>17.591</td>\n",
       "      <td>17.591</td>\n",
       "    </tr>\n",
       "    <tr>\n",
       "      <th>8144</th>\n",
       "      <td>17.566</td>\n",
       "      <td>17.566</td>\n",
       "      <td>17.566</td>\n",
       "      <td>17.566</td>\n",
       "      <td>17.566</td>\n",
       "    </tr>\n",
       "    <tr>\n",
       "      <th>8145</th>\n",
       "      <td>19.875</td>\n",
       "      <td>19.875</td>\n",
       "      <td>19.875</td>\n",
       "      <td>19.875</td>\n",
       "      <td>19.875</td>\n",
       "    </tr>\n",
       "  </tbody>\n",
       "</table>\n",
       "<p>48876 rows × 5 columns</p>\n",
       "</div>"
      ],
      "text/plain": [
       "              intensity  intensity_gt  simple_imputed  combined_imputed  \\\n",
       "sample  id                                                                \n",
       "1_hu_c1 0           NaN        18.249          17.035            18.336   \n",
       "        1           NaN           NaN          17.035            17.289   \n",
       "        2        17.855        17.855          17.855            17.855   \n",
       "        3           NaN        17.009          17.035            17.168   \n",
       "        4           NaN           NaN          15.378            15.439   \n",
       "...                 ...           ...             ...               ...   \n",
       "6_hu_p3 8141     16.057        16.057          16.057            16.057   \n",
       "        8142        NaN           NaN          15.510            15.439   \n",
       "        8143     17.591        17.591          17.591            17.591   \n",
       "        8144     17.566        17.566          17.566            17.566   \n",
       "        8145     19.875        19.875          19.875            19.875   \n",
       "\n",
       "              gnn_imp  \n",
       "sample  id             \n",
       "1_hu_c1 0      18.569  \n",
       "        1      17.476  \n",
       "        2      17.855  \n",
       "        3      16.124  \n",
       "        4      15.813  \n",
       "...               ...  \n",
       "6_hu_p3 8141   16.057  \n",
       "        8142   16.832  \n",
       "        8143   17.591  \n",
       "        8144   17.566  \n",
       "        8145   19.875  \n",
       "\n",
       "[48876 rows x 5 columns]"
      ]
     },
     "execution_count": 48,
     "metadata": {},
     "output_type": "execute_result"
    }
   ],
   "source": [
    "ds.values['peptide'].df"
   ]
  },
  {
   "cell_type": "markdown",
   "id": "f8f05662",
   "metadata": {},
   "source": [
    "Finally, lets do a quick evaluation on the artificially introduced missing values by comparing the imputed values to the ground truth values both on the protein as well as the peptide level."
   ]
  },
  {
   "cell_type": "code",
   "execution_count": 49,
   "id": "f8a64195",
   "metadata": {},
   "outputs": [
    {
     "data": {
      "text/plain": [
       "<Axes: xlabel='column', ylabel='metric'>"
      ]
     },
     "execution_count": 49,
     "metadata": {},
     "output_type": "execute_result"
    },
    {
     "data": {
      "image/png": "[encoded data removed]",
      "text/plain": [
       "<Figure size 1000x500 with 1 Axes>"
      ]
     },
     "metadata": {},
     "output_type": "display_data"
    }
   ],
   "source": [
    "from pyproteonet.metrics.abundance_comparison import compare_columns\n",
    "from matplotlib import pyplot as plt\n",
    "from seaborn import boxplot\n",
    "ids = ds.values['peptide']['intensity_gt']\n",
    "ids = ids[~ids.isna() & ds.values['peptide']['intensity'].isna()].index\n",
    "metric_df = compare_columns(dataset=ds, molecule='peptide', columns=['simple_imputed', 'combined_imputed', 'gnn_imp'], comparison_column='intensity_gt',\n",
    "                            metric='AE', logarithmize=False, ids=ids)\n",
    "fig, ax = plt.subplots(1, figsize=(10, 5))\n",
    "boxplot(data=metric_df, x='column', y='metric')"
   ]
  },
  {
   "cell_type": "code",
   "execution_count": 50,
   "id": "83515483",
   "metadata": {},
   "outputs": [
    {
     "data": {
      "text/plain": [
       "<Axes: xlabel='column', ylabel='metric'>"
      ]
     },
     "execution_count": 50,
     "metadata": {},
     "output_type": "execute_result"
    },
    {
     "data": {
      "image/png": "[encoded data removed]",
      "text/plain": [
       "<Figure size 1000x500 with 1 Axes>"
      ]
     },
     "metadata": {},
     "output_type": "display_data"
    }
   ],
   "source": [
    "ids = ds.values['peptide']['intensity_gt']\n",
    "ids = ids[~ids.isna() & ds.values['protein_group']['intensity'].isna()].index\n",
    "metric_df = compare_columns(dataset=ds, molecule='protein_group', columns=['simple_imputed', 'combined_imputed', 'gnn_imp'], comparison_column='intensity_gt',\n",
    "                            metric='AE', logarithmize=False, ids=ids)\n",
    "fig, ax = plt.subplots(1, figsize=(10, 5))\n",
    "boxplot(data=metric_df, x='column', y='metric')"
   ]
  },
  {
   "cell_type": "code",
   "execution_count": null,
   "id": "bbc546eb",
   "metadata": {},
   "outputs": [],
   "source": []
  }
 ],
 "metadata": {
  "kernelspec": {
   "display_name": "Python 3 (ipykernel)",
   "language": "python",
   "name": "python3"
  },
  "language_info": {
   "codemirror_mode": {
    "name": "ipython",
    "version": 3
   },
   "file_extension": ".py",
   "mimetype": "text/x-python",
   "name": "python",
   "nbconvert_exporter": "python",
   "pygments_lexer": "ipython3",
   "version": "3.10.13"
  }
 },
 "nbformat": 4,
 "nbformat_minor": 5
}
