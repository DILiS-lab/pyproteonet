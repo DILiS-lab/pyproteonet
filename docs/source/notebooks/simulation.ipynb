{
 "cells": [
  {
   "cell_type": "markdown",
   "id": "6d562782-c001-4cc7-a780-2993bfab6e82",
   "metadata": {},
   "source": [
    "# Simulation of Protein-Peptide Datasets for Benchmarking Aggregatin and Imputation Methods "
   ]
  },
  {
   "cell_type": "markdown",
   "id": "267b2e66-f47b-4fed-a821-452922d93b53",
   "metadata": {},
   "source": [
    "Simulating datasets mimicing protein and peptide abundances of MS experiments for benchmarking purposes is one \n",
    "feature of PyProteoNet. Therefore, PyProteoNet provides a bunch of function to randomly draw and caluculate abundance values, simulate\n",
    "several different errors and introduce missing values.\n",
    "\n",
    "The following shows an example which starting from a MoleculeSet samples abundance values for proteins, computes peptide abundances\n",
    "from those protein abundances and applies several random error which can also be observed in real-world datasets. Finally several missing values\n",
    "are introduced to the dataset such that it can be used as a benchmark for protein imputation methods.\n",
    "\n",
    "The below picture gives an overview of the data simulation pipeline."
   ]
  },
  {
   "cell_type": "markdown",
   "id": "ff65733d",
   "metadata": {},
   "source": [
    "![title](img/sim_pipeline.png)"
   ]
  },
  {
   "cell_type": "markdown",
   "id": "a4645faf-cd78-4dd9-884d-74a4b50f9d49",
   "metadata": {},
   "source": [
    "We start of with a `MoleculeSet`. For creating real benchmarking datasets it might be useful to use a `MoleculeSet` from a\n",
    "real-world dataset, however, here we use a small toy example."
   ]
  },
  {
   "cell_type": "code",
   "execution_count": 1,
   "id": "35a124a2-7494-41c8-adef-6e83be53d3bc",
   "metadata": {},
   "outputs": [],
   "source": [
    "import pandas as pd\n",
    "from pyproteonet.data import MoleculeSet\n",
    "\n",
    "proteins = pd.DataFrame(index=range(10))\n",
    "peptides = pd.DataFrame(index=range(100))\n",
    "mapping = pd.DataFrame({'peptide':peptides.index, 'protein':peptides.index % 10})\n",
    "mapping.set_index(['peptide', 'protein'], inplace=True)\n",
    "\n",
    "ms = MoleculeSet(molecules = {'protein':proteins, 'peptide':peptides},\n",
    "                 mappings = {'peptide-protein': mapping}\n",
    "                )"
   ]
  },
  {
   "cell_type": "markdown",
   "id": "e7dec03e-ef97-461e-a8e7-f79c693e0f2e",
   "metadata": {},
   "source": [
    "Alternatively, we can create a molecule set from a node degree distribution. Here we create 2 proteins with degree 0, 5 proteins with degree 1, 7 proteins\n",
    "with degree 2 and 7 proteins with degree 7. 1 Peptide has degree 0, 20 peptides degree 1, and 10 peptides are shared (degree 2)."
   ]
  },
  {
   "cell_type": "code",
   "execution_count": 2,
   "id": "fd89c4f2-8a3c-4a81-af4a-1814a8354678",
   "metadata": {},
   "outputs": [],
   "source": [
    "from pyproteonet.simulation.molecule_set import molecule_set_from_degree_distribution\n",
    "\n",
    "ms2 = molecule_set_from_degree_distribution(molecule1_degree_distribution= [2, 5, 7, 7], molecule1_name='protein',\n",
    "                                            molecule2_degree_distribution = [1, 20, 10], molecule2_name='peptide')"
   ]
  },
  {
   "cell_type": "markdown",
   "id": "60e715f0-486e-48b3-a5e4-3145a9508d1b",
   "metadata": {},
   "source": [
    "We start off creating a `Dataset` with protein abundances drawn from a normal distribution in log space\n",
    "(usually the logarithm of protein and peptide abundances of real world datasets roughly follows a normal distribution).\n",
    "We also apply a small error term (as well in log space)."
   ]
  },
  {
   "cell_type": "code",
   "execution_count": 3,
   "id": "61404e40-2d23-43df-9746-594f557ea8c8",
   "metadata": {},
   "outputs": [],
   "source": [
    "from pyproteonet.simulation import draw_normal_log_space\n",
    "dataset = draw_normal_log_space(\n",
    "            molecule_set=ms,\n",
    "            log_mu=10,\n",
    "            log_sigma=5,\n",
    "            samples=10,\n",
    "            molecule='protein',\n",
    "            column='abundance',\n",
    "            log_error_mu = 0,\n",
    "            log_error_sigma = 1,\n",
    "          )"
   ]
  },
  {
   "cell_type": "markdown",
   "id": "cff4acd5",
   "metadata": {},
   "source": [
    "Optionally, we might introduce a condition for some of the samples and proteins by multiplying the protein abundance in some samples with a power of two. This can be done as follows:"
   ]
  },
  {
   "cell_type": "code",
   "execution_count": 4,
   "id": "0e26d515",
   "metadata": {},
   "outputs": [],
   "source": [
    "from pyproteonet.simulation import introduce_random_condition"
   ]
  },
  {
   "cell_type": "code",
   "execution_count": 5,
   "id": "c65b6895",
   "metadata": {},
   "outputs": [],
   "source": [
    "dataset = introduce_random_condition(dataset=dataset, molecule='protein', column='abundance', \n",
    "                                     affected=0.3, log2_cond_factor_mean=2, log2_cond_factor_std=1,\n",
    "                                     samples=[f'sample{i}' for i in range(5)])"
   ]
  },
  {
   "cell_type": "markdown",
   "id": "33fe28b2-6672-4a27-9bc9-cea571bc8d83",
   "metadata": {},
   "source": [
    "Given the protein abundance we can compute peptide abunces using the mapping from peptides to proteins.\n",
    "Every peptide occurs in a set of proteins, so the theoretical peptide abundance should be the sum of protein abundances it occurs in."
   ]
  },
  {
   "cell_type": "code",
   "execution_count": 6,
   "id": "3d4e36df-aa7c-434a-909b-b54172aa138f",
   "metadata": {},
   "outputs": [],
   "source": [
    "from pyproteonet.aggregation import partner_aggregation\n",
    "\n",
    "_ = partner_aggregation(\n",
    "    dataset = dataset,\n",
    "    molecule=\"peptide\",\n",
    "    partner_column=\"abundance\",\n",
    "    mapping=\"peptide-protein\",\n",
    "    result_column=\"abundance\",\n",
    "    only_unique=False,\n",
    ")"
   ]
  },
  {
   "cell_type": "markdown",
   "id": "3252b67d-e913-4b39-87c9-565d872ee90b",
   "metadata": {},
   "source": [
    "In real-world datasets it can be observed that some peptides are easier to detect than other. To simulate this we multiply\n",
    "every peptide abundance with a scaling factor drawn once for every peptide."
   ]
  },
  {
   "cell_type": "code",
   "execution_count": 7,
   "id": "9541c5b1-4e73-4ca6-a86d-36fd3478cfa3",
   "metadata": {},
   "outputs": [],
   "source": [
    "from pyproteonet.simulation import per_molecule_random_scaling\n",
    "dataset = per_molecule_random_scaling(dataset=dataset,\n",
    "                                      beta_distr_alpha=2.5,\n",
    "                                      beta_distr_beta=5,\n",
    "                                      molecule='peptide',\n",
    "                                      column='abundance',\n",
    "                                     )"
   ]
  },
  {
   "cell_type": "markdown",
   "id": "9ece001d-12b3-4103-a51b-534dfaf2128e",
   "metadata": {},
   "source": [
    "Finally, we simulate some peptide error (a background measurement noise as well as the counting nature of an MS experiment)\n",
    "to make the resulting peptide abundances more realistic."
   ]
  },
  {
   "cell_type": "code",
   "execution_count": 8,
   "id": "84a4c9bf-3c74-4f9d-91dd-8c09600ec707",
   "metadata": {},
   "outputs": [],
   "source": [
    "from pyproteonet.simulation import add_positive_gaussian, poisson_error\n",
    "dataset = add_positive_gaussian(dataset,\n",
    "                                molecule='peptide',\n",
    "                                column='abundance',\n",
    "                                sigma=0,\n",
    "                                mu=5000,\n",
    "                               )\n",
    "dataset = poisson_error(dataset=dataset, molecule='peptide', column='abundance')"
   ]
  },
  {
   "cell_type": "markdown",
   "id": "ca359296",
   "metadata": {},
   "source": [
    "For simulation of a protein-peptide dataset as described above, there also is a convenience function summarizing all the steps which might be used as an alternative to calling each step individually."
   ]
  },
  {
   "cell_type": "code",
   "execution_count": 9,
   "id": "78e7c8d0",
   "metadata": {},
   "outputs": [],
   "source": [
    "from pyproteonet.simulation import simulate_protein_peptide_dataset\n",
    "dataset2 = simulate_protein_peptide_dataset(molecule_set=ms, mapping='peptide-protein', protein_molecule='protein', peptide_molecule='peptide',\n",
    "                                            log_abundance_mu=10, log_abundance_sigma=5, log_protein_error_sigma=0.3,\n",
    "                                            flyability_alpha=2.5, flyability_beta=5, peptide_noise_mu=5000, peptide_noise_sigma=0,\n",
    "                                            log2_condition_means=[2], log2_condition_stds=[1], condition_affected=[0.3],\n",
    "                                            condition_samples=[f'sample{i}' for i in range(5)])"
   ]
  },
  {
   "cell_type": "markdown",
   "id": "d555b9ea-6b8e-47b8-9027-af35377f0cba",
   "metadata": {},
   "source": [
    "Last but not least we can simulate some missing values.\n",
    "While MNARs are more likely to occur for low abundant values, MCARs are sampled completly at random across all molecules."
   ]
  },
  {
   "cell_type": "code",
   "execution_count": 10,
   "id": "e8fe1f83-edbc-436c-8ce5-82f435796107",
   "metadata": {},
   "outputs": [],
   "source": [
    "from pyproteonet.simulation import simulate_mnars_thresholding, simulate_mcars\n",
    "dataset = simulate_mnars_thresholding(dataset, thresh_mu=7000, thresh_sigma=4000, molecule='peptide', column='abundance')\n",
    "dataset = simulate_mcars(dataset, amount=0.2, molecule='peptide', column='abundance')"
   ]
  },
  {
   "cell_type": "markdown",
   "id": "d26bcb22-9774-48ab-be01-e0c2765a47f5",
   "metadata": {},
   "source": [
    "Thats it, we have created an in silico dataset. Lets plot its histogram across all samples!\n",
    "\n",
    "Sidenote:\n",
    "Instead of calling all those functions one by one, there also is a higher level\n",
    "function called `simulate_protein_peptide_dataset(...)` in the simulation module."
   ]
  },
  {
   "cell_type": "code",
   "execution_count": 11,
   "id": "a95c1569-b5cb-4bb6-87ce-e35a06088062",
   "metadata": {},
   "outputs": [
    {
     "data": {
      "image/png": "[encoded data removed]",
      "text/plain": [
       "<Figure size 640x480 with 1 Axes>"
      ]
     },
     "metadata": {},
     "output_type": "display_data"
    }
   ],
   "source": [
    "from pyproteonet.visualization import plot_hist\n",
    "plot_hist(dataset, molecule='peptide', column='abundance', log_space=True)"
   ]
  },
  {
   "cell_type": "code",
   "execution_count": null,
   "id": "c9e25e7e-7518-4c78-993f-de4344e10395",
   "metadata": {},
   "outputs": [],
   "source": []
  }
 ],
 "metadata": {
  "kernelspec": {
   "display_name": "Python 3 (ipykernel)",
   "language": "python",
   "name": "python3"
  }
 },
 "nbformat": 4,
 "nbformat_minor": 5
}
