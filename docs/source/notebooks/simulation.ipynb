{
 "cells": [
  {
   "cell_type": "markdown",
   "id": "6d562782-c001-4cc7-a780-2993bfab6e82",
   "metadata": {},
   "source": [
    "# Simulation of Protein-Peptide Datasets for Benchmarking Evaluation and Quantification Methods "
   ]
  },
  {
   "cell_type": "markdown",
   "id": "267b2e66-f47b-4fed-a821-452922d93b53",
   "metadata": {},
   "source": [
    "In silico creation of datasets mimicing protein and peptide abundances of MS experiments for benchmarking purposes is one \n",
    "feature of PyProteoNet. Therefore, PyProteoNet provides a bunch of function to draw and caluculate abundance values, simulate\n",
    "several different errors and introduce missing values.\n",
    "\n",
    "The following shows an example which starting from a MoleculeSet samples abundance values for proteins, computes peptide abundances\n",
    "from those protein abundances and applies several random error which can also be observed in real-world datasets. Finally several missing values\n",
    "are introduced to the dataset such that it can be used as a benchmark for protein imputation methods"
   ]
  },
  {
   "cell_type": "markdown",
   "id": "a4645faf-cd78-4dd9-884d-74a4b50f9d49",
   "metadata": {},
   "source": [
    "We start of with a `MoleculeSet`. For creating real benchmarking datasets it might be useful to use a `MoleculeSet` from a\n",
    "real-world dataset, however, here we use a small toy example."
   ]
  },
  {
   "cell_type": "code",
   "execution_count": 1,
   "id": "35a124a2-7494-41c8-adef-6e83be53d3bc",
   "metadata": {},
   "outputs": [],
   "source": [
    "import pandas as pd\n",
    "from pyproteonet.data import MoleculeSet\n",
    "\n",
    "proteins = pd.DataFrame(index=range(10))\n",
    "peptides = pd.DataFrame(index=range(100))\n",
    "protein_protein_mapping = pd.DataFrame({'id':proteins.index, 'map_id':proteins.index}) #identity mapping\n",
    "peptide_protein_mapping = pd.DataFrame({'id':peptides.index, 'map_id':peptides.index%10})\n",
    "\n",
    "ms = MoleculeSet(molecules = {'protein':proteins, 'peptide':peptides},\n",
    "                 mappings = {'protein_mapping': {'protein':protein_protein_mapping, 'peptide':peptide_protein_mapping}}\n",
    "                )"
   ]
  },
  {
   "cell_type": "markdown",
   "id": "60e715f0-486e-48b3-a5e4-3145a9508d1b",
   "metadata": {},
   "source": [
    "We start off creating a `Dataset` with protein abundances drawn from a normal distribution in log space\n",
    "(usually the logarithm of protein and peptide abundances of real world datasets roughly follows a normal distribution).\n",
    "We also apply a small error term (as well in log space)."
   ]
  },
  {
   "cell_type": "code",
   "execution_count": 2,
   "id": "61404e40-2d23-43df-9746-594f557ea8c8",
   "metadata": {},
   "outputs": [],
   "source": [
    "from pyproteonet.simulation import draw_normal_log_space\n",
    "dataset = draw_normal_log_space(\n",
    "            molecule_set=ms,\n",
    "            log_mu=10,\n",
    "            log_sigma=5,\n",
    "            num_samples=10,\n",
    "            molecule='protein',\n",
    "            column='abundance',\n",
    "            log_error_mu = 0,\n",
    "            log_error_sigma = 1,\n",
    "          )"
   ]
  },
  {
   "cell_type": "markdown",
   "id": "33fe28b2-6672-4a27-9bc9-cea571bc8d83",
   "metadata": {},
   "source": [
    "Given the protein abundance we can compute peptide abunces using the mapping from peptides to proteins.\n",
    "Every peptide occurs in a set of proteins, so the theoretical peptide abundance should be the sum of protein abundances it occurs in."
   ]
  },
  {
   "cell_type": "code",
   "execution_count": 3,
   "id": "3d4e36df-aa7c-434a-909b-b54172aa138f",
   "metadata": {},
   "outputs": [],
   "source": [
    "from pyproteonet.processing.aggregation import neighbor_sum\n",
    "dataset = neighbor_sum(dataset,\n",
    "                        input_molecule='protein',\n",
    "                        input_column='abundance',\n",
    "                        mapping='protein_mapping',\n",
    "                        result_molecule='peptide',\n",
    "                        result_column='abundance',\n",
    "                        only_unique=False,\n",
    "                       )"
   ]
  },
  {
   "cell_type": "markdown",
   "id": "3252b67d-e913-4b39-87c9-565d872ee90b",
   "metadata": {},
   "source": [
    "In real-world datasets it can be observed that different some peptide are easier to detect than other. To simulate this we multiply\n",
    "every peptide abundance with a scaling factor drawn once for every peptide."
   ]
  },
  {
   "cell_type": "code",
   "execution_count": 4,
   "id": "9541c5b1-4e73-4ca6-a86d-36fd3478cfa3",
   "metadata": {},
   "outputs": [],
   "source": [
    "from pyproteonet.simulation import per_molecule_random_scaling\n",
    "dataset = per_molecule_random_scaling(dataset=dataset,\n",
    "                                      beta_distr_alpha=2.5,\n",
    "                                      beta_distr_beta=5,\n",
    "                                      molecule='peptide',\n",
    "                                      column='abundance',\n",
    "                                     )"
   ]
  },
  {
   "cell_type": "markdown",
   "id": "9ece001d-12b3-4103-a51b-534dfaf2128e",
   "metadata": {},
   "source": [
    "Finally, we simulate some peptide error (a background measurement noise as well as the counting nature of an MS experiment)\n",
    "to make the resulting peptide abundances more realistic."
   ]
  },
  {
   "cell_type": "code",
   "execution_count": 5,
   "id": "84a4c9bf-3c74-4f9d-91dd-8c09600ec707",
   "metadata": {},
   "outputs": [],
   "source": [
    "from pyproteonet.simulation import add_positive_gaussian, poisson_error\n",
    "dataset = add_positive_gaussian(dataset,\n",
    "                                molecule='peptide',\n",
    "                                column='abundance',\n",
    "                                sigma=0,\n",
    "                                mu=5000,\n",
    "                               )\n",
    "dataset = poisson_error(dataset=dataset, molecule='peptide', column='abundance')"
   ]
  },
  {
   "cell_type": "markdown",
   "id": "d555b9ea-6b8e-47b8-9027-af35377f0cba",
   "metadata": {},
   "source": [
    "Last but not least we can simulate some missing values.\n",
    "While MNARs are more likely to occur for low abundant values, MNARs are sampled completly at random across all molecules."
   ]
  },
  {
   "cell_type": "code",
   "execution_count": 6,
   "id": "e8fe1f83-edbc-436c-8ce5-82f435796107",
   "metadata": {},
   "outputs": [],
   "source": [
    "from pyproteonet.simulation import simulate_mnars_thresholding, simulate_mcars\n",
    "dataset = simulate_mnars_thresholding(dataset, thresh_mu=7000, thresh_sigma=4000, molecule='peptide', column='abundance')\n",
    "dataset = simulate_mcars(dataset, amount=0.2, molecule='peptide', column='abundance')"
   ]
  },
  {
   "cell_type": "markdown",
   "id": "d26bcb22-9774-48ab-be01-e0c2765a47f5",
   "metadata": {},
   "source": [
    "Thats it, we have created an in silico dataset. Lets plot its histogram across all samples!\n",
    "\n",
    "Sidenote:\n",
    "Instead of calling all those functions one by one, there also is a higher level\n",
    "function called `simulate_protein_peptide_dataset(...)` in the simulation module."
   ]
  },
  {
   "cell_type": "code",
   "execution_count": 9,
   "id": "a95c1569-b5cb-4bb6-87ce-e35a06088062",
   "metadata": {},
   "outputs": [
    {
     "data": {
      "image/png": "[encoded data removed]",
      "text/plain": [
       "<Figure size 640x480 with 1 Axes>"
      ]
     },
     "metadata": {},
     "output_type": "display_data"
    }
   ],
   "source": [
    "from pyproteonet.visualization import plot_hist\n",
    "plot_hist(dataset, molecule='peptide', column='abundance', log_space=True)"
   ]
  },
  {
   "cell_type": "code",
   "execution_count": null,
   "id": "c9e25e7e-7518-4c78-993f-de4344e10395",
   "metadata": {},
   "outputs": [],
   "source": []
  }
 ],
 "metadata": {
  "kernelspec": {
   "display_name": "Python 3 (ipykernel)",
   "language": "python",
   "name": "python3"
  },
  "language_info": {
   "codemirror_mode": {
    "name": "ipython",
    "version": 3
   },
   "file_extension": ".py",
   "mimetype": "text/x-python",
   "name": "python",
   "nbconvert_exporter": "python",
   "pygments_lexer": "ipython3",
   "version": "3.11.3"
  }
 },
 "nbformat": 4,
 "nbformat_minor": 5
}
