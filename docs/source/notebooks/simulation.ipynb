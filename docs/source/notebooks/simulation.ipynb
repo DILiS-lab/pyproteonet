{
 "cells": [
  {
   "cell_type": "markdown",
   "id": "6d562782-c001-4cc7-a780-2993bfab6e82",
   "metadata": {},
   "source": [
    "# Simulation of Protein-Peptide Datasets for Benchmarking Evaluation and Quantification Methods "
   ]
  },
  {
   "cell_type": "markdown",
   "id": "267b2e66-f47b-4fed-a821-452922d93b53",
   "metadata": {},
   "source": [
    "Simulating datasets mimicing protein and peptide abundances of MS experiments for benchmarking purposes is one \n",
    "feature of PyProteoNet. Therefore, PyProteoNet provides a bunch of function to randomly draw and caluculate abundance values, simulate\n",
    "several different errors and introduce missing values.\n",
    "\n",
    "The following shows an example which starting from a MoleculeSet samples abundance values for proteins, computes peptide abundances\n",
    "from those protein abundances and applies several random error which can also be observed in real-world datasets. Finally several missing values\n",
    "are introduced to the dataset such that it can be used as a benchmark for protein imputation methods"
   ]
  },
  {
   "cell_type": "markdown",
   "id": "a4645faf-cd78-4dd9-884d-74a4b50f9d49",
   "metadata": {},
   "source": [
    "We start of with a `MoleculeSet`. For creating real benchmarking datasets it might be useful to use a `MoleculeSet` from a\n",
    "real-world dataset, however, here we use a small toy example."
   ]
  },
  {
   "cell_type": "code",
   "execution_count": 3,
   "id": "35a124a2-7494-41c8-adef-6e83be53d3bc",
   "metadata": {},
   "outputs": [],
   "source": [
    "import pandas as pd\n",
    "from pyproteonet.data import MoleculeSet\n",
    "\n",
    "proteins = pd.DataFrame(index=range(10))\n",
    "peptides = pd.DataFrame(index=range(100))\n",
    "mapping = pd.DataFrame({'peptide':peptides.index, 'protein':peptides.index % 10})\n",
    "mapping.set_index(['peptide', 'protein'], inplace=True)\n",
    "\n",
    "ms = MoleculeSet(molecules = {'protein':proteins, 'peptide':peptides},\n",
    "                 mappings = {'peptide-protein': mapping}\n",
    "                )"
   ]
  },
  {
   "cell_type": "code",
   "execution_count": 39,
   "id": "eeff3cbe-a80a-43b4-88be-73805e4b7924",
   "metadata": {},
   "outputs": [],
   "source": [
    "from pyproteonet.simulation.molecule_set import _relative_to_absolute_node_degrees, _degree_distribution_to_integers\n",
    "from pyproteonet.simulation.utils import get_numpy_random_generator\n",
    "import numpy as np\n",
    "\n",
    "def simulate_molecule_set_protein_peptide(num_peptides = 1000, num_proteins = 100, \n",
    "                                          relative_peptide_node_degrees = [0.0, 0.75, 0.25],\n",
    "                                          relative_protein_node_degrees = [0, 0, 0.2, 0.3, 0.5],\n",
    "                                          random_seed = None, *args, **kwargs):\n",
    "    rng = get_numpy_random_generator(seed=random_seed)\n",
    "    #Simulate peptide to protein correspondences\n",
    "    peptide_node_degrees = _relative_to_absolute_node_degrees(relative_peptide_node_degrees, num_peptides)\n",
    "    protein_deg_distribution = None\n",
    "    b_nodes_deg0 = 0\n",
    "    if relative_protein_node_degrees is not None:\n",
    "        num_edges = ((np.arange(len(peptide_node_degrees))) * peptide_node_degrees).sum()\n",
    "        #protein_deg_distribution = np.array(_relative_to_absolute_node_degrees(relative_protein_node_degrees, num_proteins))\n",
    "        protein_deg_distribution = np.array(relative_protein_node_degrees)\n",
    "        protein_deg_distribution /= protein_deg_distribution.sum()\n",
    "        protein_deg_distribution *= num_edges / (protein_deg_distribution * np.arange(len(protein_deg_distribution))).sum()\n",
    "        b_nodes_deg0 = round(protein_deg_distribution[0])\n",
    "        protein_deg_distribution = np.array(_degree_distribution_to_integers(protein_deg_distribution), dtype=int)\n",
    "        print(protein_deg_distribution)\n",
    "        protein_deg_distribution = np.repeat(np.arange(len(protein_deg_distribution)), protein_deg_distribution).astype(float)\n",
    "        #protein_deg_distribution *= num_edges / protein_deg_distribution.sum()\n",
    "        rng.shuffle(protein_deg_distribution)\n",
    "    a_b = []\n",
    "    start = 0\n",
    "    a_nodes = []\n",
    "    a_nodes_deg0 = []\n",
    "    for deg, nwd in enumerate(peptide_node_degrees):\n",
    "        nodes = np.arange(start, start + nwd)\n",
    "        if deg==0:\n",
    "            a_nodes_deg0.append(nodes)\n",
    "        else:\n",
    "            a_nodes.append(np.stack([nodes, np.full(nwd, deg)], axis=1))\n",
    "        start += nwd\n",
    "    a_nodes = np.concatenate(a_nodes, axis=0)\n",
    "    rng.shuffle(a_nodes, axis=0)\n",
    "    return protein_deg_distribution, a_nodes"
   ]
  },
  {
   "cell_type": "code",
   "execution_count": 40,
   "id": "daa37e8e-f0d7-4522-9c67-91628fe261a8",
   "metadata": {},
   "outputs": [
    {
     "name": "stdout",
     "output_type": "stream",
     "text": [
      "[ 0  0  7 11 19]\n"
     ]
    }
   ],
   "source": [
    "prot, pep = simulate_molecule_set_protein_peptide(num_peptides=100, num_proteins=10)"
   ]
  },
  {
   "cell_type": "code",
   "execution_count": 41,
   "id": "95fbc021-35e5-4bb2-96c4-fae4ef59f83a",
   "metadata": {},
   "outputs": [],
   "source": [
    "prot_degs = [0.0, 0.75, 0.25]\n",
    "pep_degs = [0, 0, 0.2, 0.3, 0.5]"
   ]
  },
  {
   "cell_type": "code",
   "execution_count": null,
   "id": "6285213f-f824-4bdc-ad33-f35714dc5ee2",
   "metadata": {},
   "outputs": [],
   "source": []
  },
  {
   "cell_type": "code",
   "execution_count": 38,
   "id": "fd89c4f2-8a3c-4a81-af4a-1814a8354678",
   "metadata": {},
   "outputs": [
    {
     "data": {
      "text/plain": [
       "array([2., 2., 3., 2., 3., 3., 4., 4., 4., 4., 4., 2., 3., 3., 4., 3., 4.,\n",
       "       4., 3., 4., 4., 2., 3., 4., 3., 4., 4., 4., 4., 4., 4., 4., 2., 4.,\n",
       "       2., 3., 3.])"
      ]
     },
     "execution_count": 38,
     "metadata": {},
     "output_type": "execute_result"
    }
   ],
   "source": [
    "#_relative_to_absolute_node_degrees"
   ]
  },
  {
   "cell_type": "code",
   "execution_count": null,
   "id": "34f295e0-210d-4a88-ac3e-21c6d2b41771",
   "metadata": {},
   "outputs": [],
   "source": []
  },
  {
   "cell_type": "code",
   "execution_count": null,
   "id": "a16d5d93-aec9-4a20-a4fa-5127652e43b1",
   "metadata": {},
   "outputs": [],
   "source": []
  },
  {
   "cell_type": "code",
   "execution_count": null,
   "id": "a821765d-10eb-44a6-87f5-170921037a06",
   "metadata": {},
   "outputs": [],
   "source": []
  },
  {
   "cell_type": "markdown",
   "id": "60e715f0-486e-48b3-a5e4-3145a9508d1b",
   "metadata": {},
   "source": [
    "We start off creating a `Dataset` with protein abundances drawn from a normal distribution in log space\n",
    "(usually the logarithm of protein and peptide abundances of real world datasets roughly follows a normal distribution).\n",
    "We also apply a small error term (as well in log space)."
   ]
  },
  {
   "cell_type": "code",
   "execution_count": 6,
   "id": "61404e40-2d23-43df-9746-594f557ea8c8",
   "metadata": {},
   "outputs": [],
   "source": [
    "from pyproteonet.simulation import draw_normal_log_space\n",
    "dataset = draw_normal_log_space(\n",
    "            molecule_set=ms,\n",
    "            log_mu=10,\n",
    "            log_sigma=5,\n",
    "            samples=10,\n",
    "            molecule='protein',\n",
    "            column='abundance',\n",
    "            log_error_mu = 0,\n",
    "            log_error_sigma = 1,\n",
    "          )"
   ]
  },
  {
   "cell_type": "markdown",
   "id": "33fe28b2-6672-4a27-9bc9-cea571bc8d83",
   "metadata": {},
   "source": [
    "Given the protein abundance we can compute peptide abunces using the mapping from peptides to proteins.\n",
    "Every peptide occurs in a set of proteins, so the theoretical peptide abundance should be the sum of protein abundances it occurs in."
   ]
  },
  {
   "cell_type": "code",
   "execution_count": 8,
   "id": "3d4e36df-aa7c-434a-909b-b54172aa138f",
   "metadata": {},
   "outputs": [],
   "source": [
    "from pyproteonet.processing.aggregation import neighbor_sum\n",
    "dataset = neighbor_sum(dataset,\n",
    "                        molecule='protein',\n",
    "                        column='abundance',\n",
    "                        mapping='peptide-protein',\n",
    "                        result_molecule='peptide',\n",
    "                        result_column='abundance',\n",
    "                        only_unique=False,\n",
    "                       )"
   ]
  },
  {
   "cell_type": "markdown",
   "id": "3252b67d-e913-4b39-87c9-565d872ee90b",
   "metadata": {},
   "source": [
    "In real-world datasets it can be observed that different some peptide are easier to detect than other. To simulate this we multiply\n",
    "every peptide abundance with a scaling factor drawn once for every peptide."
   ]
  },
  {
   "cell_type": "code",
   "execution_count": 9,
   "id": "9541c5b1-4e73-4ca6-a86d-36fd3478cfa3",
   "metadata": {},
   "outputs": [],
   "source": [
    "from pyproteonet.simulation import per_molecule_random_scaling\n",
    "dataset = per_molecule_random_scaling(dataset=dataset,\n",
    "                                      beta_distr_alpha=2.5,\n",
    "                                      beta_distr_beta=5,\n",
    "                                      molecule='peptide',\n",
    "                                      column='abundance',\n",
    "                                     )"
   ]
  },
  {
   "cell_type": "markdown",
   "id": "9ece001d-12b3-4103-a51b-534dfaf2128e",
   "metadata": {},
   "source": [
    "Finally, we simulate some peptide error (a background measurement noise as well as the counting nature of an MS experiment)\n",
    "to make the resulting peptide abundances more realistic."
   ]
  },
  {
   "cell_type": "code",
   "execution_count": 10,
   "id": "84a4c9bf-3c74-4f9d-91dd-8c09600ec707",
   "metadata": {},
   "outputs": [],
   "source": [
    "from pyproteonet.simulation import add_positive_gaussian, poisson_error\n",
    "dataset = add_positive_gaussian(dataset,\n",
    "                                molecule='peptide',\n",
    "                                column='abundance',\n",
    "                                sigma=0,\n",
    "                                mu=5000,\n",
    "                               )\n",
    "dataset = poisson_error(dataset=dataset, molecule='peptide', column='abundance')"
   ]
  },
  {
   "cell_type": "markdown",
   "id": "d555b9ea-6b8e-47b8-9027-af35377f0cba",
   "metadata": {},
   "source": [
    "Last but not least we can simulate some missing values.\n",
    "While MNARs are more likely to occur for low abundant values, MNARs are sampled completly at random across all molecules."
   ]
  },
  {
   "cell_type": "code",
   "execution_count": 11,
   "id": "e8fe1f83-edbc-436c-8ce5-82f435796107",
   "metadata": {},
   "outputs": [],
   "source": [
    "from pyproteonet.simulation import simulate_mnars_thresholding, simulate_mcars\n",
    "dataset = simulate_mnars_thresholding(dataset, thresh_mu=7000, thresh_sigma=4000, molecule='peptide', column='abundance')\n",
    "dataset = simulate_mcars(dataset, amount=0.2, molecule='peptide', column='abundance')"
   ]
  },
  {
   "cell_type": "markdown",
   "id": "d26bcb22-9774-48ab-be01-e0c2765a47f5",
   "metadata": {},
   "source": [
    "Thats it, we have created an in silico dataset. Lets plot its histogram across all samples!\n",
    "\n",
    "Sidenote:\n",
    "Instead of calling all those functions one by one, there also is a higher level\n",
    "function called `simulate_protein_peptide_dataset(...)` in the simulation module."
   ]
  },
  {
   "cell_type": "code",
   "execution_count": 12,
   "id": "a95c1569-b5cb-4bb6-87ce-e35a06088062",
   "metadata": {},
   "outputs": [
    {
     "data": {
      "image/png": "[encoded data removed]",
      "text/plain": [
       "<Figure size 640x480 with 1 Axes>"
      ]
     },
     "metadata": {},
     "output_type": "display_data"
    }
   ],
   "source": [
    "from pyproteonet.visualization import plot_hist\n",
    "plot_hist(dataset, molecule='peptide', column='abundance', log_space=True)"
   ]
  },
  {
   "cell_type": "code",
   "execution_count": null,
   "id": "c9e25e7e-7518-4c78-993f-de4344e10395",
   "metadata": {},
   "outputs": [],
   "source": []
  }
 ],
 "metadata": {
  "kernelspec": {
   "display_name": "Python 3 (ipykernel)",
   "language": "python",
   "name": "python3"
  },
  "language_info": {
   "codemirror_mode": {
    "name": "ipython",
    "version": 3
   },
   "file_extension": ".py",
   "mimetype": "text/x-python",
   "name": "python",
   "nbconvert_exporter": "python",
   "pygments_lexer": "ipython3",
   "version": "3.10.13"
  }
 },
 "nbformat": 4,
 "nbformat_minor": 5
}
