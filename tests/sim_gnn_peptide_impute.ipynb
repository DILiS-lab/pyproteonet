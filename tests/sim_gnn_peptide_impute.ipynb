{
 "cells": [
  {
   "cell_type": "code",
   "execution_count": 1,
   "id": "55e0be52-a9c3-49ec-bc3e-5a2e81abddfd",
   "metadata": {},
   "outputs": [],
   "source": [
    "%load_ext autoreload\n",
    "%autoreload 2"
   ]
  },
  {
   "cell_type": "code",
   "execution_count": 2,
   "id": "b09fc1d7-bb9b-4c75-a0db-64dcaad3984b",
   "metadata": {},
   "outputs": [],
   "source": [
    "from pathlib import Path\n",
    "\n",
    "import numpy as np\n",
    "import pandas as pd\n",
    "from matplotlib import pyplot as plt\n",
    "from fastcore.test import test, operator"
   ]
  },
  {
   "cell_type": "code",
   "execution_count": 3,
   "id": "20f9398f-e8ad-41e0-9cba-b16114c28f45",
   "metadata": {},
   "outputs": [],
   "source": [
    "from pyproteonet.simulation.missing_values import simulate_mnars_thresholding, simulate_mcars\n",
    "from pyproteonet.visualization import plot_hist\n",
    "from pyproteonet.simulation.sampling import draw_normal_log_space\n",
    "from pyproteonet.processing.aggregation import neighbor_sum\n",
    "from pyproteonet.processing.dataset_transforms import normalize, logarithmize\n",
    "from pyproteonet.processing.masking import train_test_non_missing_no_overlap_iterable\n",
    "from pyproteonet.predictors.gnn import GnnPredictor\n",
    "from pyproteonet.dgl.gnn_architectures import GAT\n",
    "from pyproteonet.lightning.console_logger import ConsoleLogger"
   ]
  },
  {
   "cell_type": "markdown",
   "id": "c285fecb-255c-4b33-9c36-3a90fd12acd5",
   "metadata": {},
   "source": [
    "# Load Real World Dataset as Template"
   ]
  },
  {
   "cell_type": "code",
   "execution_count": 4,
   "id": "71d6bd46-d222-4b95-8a3d-10277bd1fffb",
   "metadata": {},
   "outputs": [],
   "source": [
    "from test_utils import load_maxlfq_benchmark"
   ]
  },
  {
   "cell_type": "code",
   "execution_count": 5,
   "id": "8a22ac9e-f4ea-4755-8e2e-72ac347ea69b",
   "metadata": {},
   "outputs": [],
   "source": [
    "maxlfq_benchmark = load_maxlfq_benchmark()"
   ]
  },
  {
   "cell_type": "code",
   "execution_count": 6,
   "id": "4f5c13d7-10f2-472a-afa1-92a7cac9c8ce",
   "metadata": {},
   "outputs": [],
   "source": [
    "log_mu, log_sigma = 0.05647178595714227, 2.519063763272205"
   ]
  },
  {
   "cell_type": "markdown",
   "id": "5bbf29e9-62aa-4965-8316-dfe813d35b27",
   "metadata": {},
   "source": [
    "# Simulate Simple Data without any Errors"
   ]
  },
  {
   "cell_type": "code",
   "execution_count": 8,
   "id": "7a06a8a7-4a04-4fa2-bf4d-e23c3573e267",
   "metadata": {},
   "outputs": [],
   "source": [
    "ds = draw_normal_log_space(molecule_set=maxlfq_benchmark.molecule_set,\n",
    "                           log_mu=log_mu,\n",
    "                           log_sigma=log_sigma,\n",
    "                           samples=len(maxlfq_benchmark.samples),\n",
    "                           molecule='protein_group', column='abundance_gt')\n",
    "neighbor_sum(ds, molecule='protein_group', column='abundance_gt', mapping='protein_group-peptide',\n",
    "             result_molecule='peptide', result_column='abundance', only_unique=False, inplace=True)"
   ]
  },
  {
   "cell_type": "code",
   "execution_count": 17,
   "id": "ff1980a4-26bc-4c21-a7a5-12c7c7b0685f",
   "metadata": {
    "scrolled": true
   },
   "outputs": [
    {
     "name": "stderr",
     "output_type": "stream",
     "text": [
      "/hpi/fs00/home/tobias.pietz/mambaforge/envs/proteomics/lib/python3.11/site-packages/lightning/fabric/plugins/environments/slurm.py:165: PossibleUserWarning: The `srun` command is available on your system but is not used. HINT: If your intention is to run Lightning on SLURM, prepend your python command with `srun` like so: srun python /hpi/fs00/home/tobias.pietz/mambaforge/envs/proteomi ...\n",
      "  rank_zero_warn(\n",
      "GPU available: False, used: False\n",
      "TPU available: False, using: 0 TPU cores\n",
      "IPU available: False, using: 0 IPUs\n",
      "HPU available: False, using: 0 HPUs\n",
      "\n",
      "  | Name   | Type | Params\n",
      "--------------------------------\n",
      "0 | _model | GAT  | 326 K \n",
      "--------------------------------\n",
      "326 K     Trainable params\n",
      "0         Non-trainable params\n",
      "326 K     Total params\n",
      "1.306     Total estimated model params size (MB)\n"
     ]
    },
    {
     "data": {
      "application/vnd.jupyter.widget-view+json": {
       "model_id": "",
       "version_major": 2,
       "version_minor": 0
      },
      "text/plain": [
       "Sanity Checking: 0it [00:00, ?it/s]"
      ]
     },
     "metadata": {},
     "output_type": "display_data"
    },
    {
     "name": "stderr",
     "output_type": "stream",
     "text": [
      "/hpi/fs00/home/tobias.pietz/mambaforge/envs/proteomics/lib/python3.11/site-packages/lightning/pytorch/trainer/connectors/data_connector.py:430: PossibleUserWarning: The dataloader, val_dataloader, does not have many workers which may be a bottleneck. Consider increasing the value of the `num_workers` argument` (try 72 which is the number of cpus on this machine) in the `DataLoader` init to improve performance.\n",
      "  rank_zero_warn(\n",
      "/hpi/fs00/home/tobias.pietz/mambaforge/envs/proteomics/lib/python3.11/site-packages/lightning/pytorch/utilities/data.py:120: UserWarning: Your `IterableDataset` has `__len__` defined. In combination with multi-process data loading (when num_workers > 1), `__len__` could be inaccurate if each worker is not configured independently to avoid having duplicate data.\n",
      "  rank_zero_warn(\n",
      "/hpi/fs00/home/tobias.pietz/mambaforge/envs/proteomics/lib/python3.11/site-packages/lightning/pytorch/trainer/connectors/data_connector.py:430: PossibleUserWarning: The dataloader, train_dataloader, does not have many workers which may be a bottleneck. Consider increasing the value of the `num_workers` argument` (try 72 which is the number of cpus on this machine) in the `DataLoader` init to improve performance.\n",
      "  rank_zero_warn(\n"
     ]
    },
    {
     "data": {
      "application/vnd.jupyter.widget-view+json": {
       "model_id": "0371e40616694f27a33d25715f592474",
       "version_major": 2,
       "version_minor": 0
      },
      "text/plain": [
       "Training: 0it [00:00, ?it/s]"
      ]
     },
     "metadata": {},
     "output_type": "display_data"
    },
    {
     "name": "stdout",
     "output_type": "stream",
     "text": [
      "step5: train_loss:0.849453866481781 || train_mse:0.849453866481781 || train_rmse:0.9216582179069519 || train_mae:0.7396981120109558 || train_r2:0.5482026934623718 || train_pearson:0.7404071092605591 || epoch:0 || \n"
     ]
    },
    {
     "data": {
      "application/vnd.jupyter.widget-view+json": {
       "model_id": "",
       "version_major": 2,
       "version_minor": 0
      },
      "text/plain": [
       "Validation: 0it [00:00, ?it/s]"
      ]
     },
     "metadata": {},
     "output_type": "display_data"
    },
    {
     "name": "stdout",
     "output_type": "stream",
     "text": [
      "step5: validation_loss:0.6862230896949768 || validation_mse:0.6862230896949768 || validation_rmse:0.8283858299255371 || validation_mae:0.6638374924659729 || validation_r2:0.5857796669006348 || validation_pearson:0.7653624415397644 || epoch:0 || \n",
      "step11: train_loss:0.5734515190124512 || train_mse:0.5734515190124512 || train_rmse:0.7572658061981201 || train_mae:0.5980709791183472 || train_r2:0.5539093017578125 || train_pearson:0.7442508339881897 || epoch:1 || \n"
     ]
    },
    {
     "data": {
      "application/vnd.jupyter.widget-view+json": {
       "model_id": "",
       "version_major": 2,
       "version_minor": 0
      },
      "text/plain": [
       "Validation: 0it [00:00, ?it/s]"
      ]
     },
     "metadata": {},
     "output_type": "display_data"
    },
    {
     "name": "stdout",
     "output_type": "stream",
     "text": [
      "step11: validation_loss:0.4596652090549469 || validation_mse:0.4596652090549469 || validation_rmse:0.6779861450195312 || validation_mae:0.5129821300506592 || validation_r2:0.5913657546043396 || validation_pearson:0.7690030932426453 || epoch:1 || \n",
      "step17: train_loss:0.4809853732585907 || train_mse:0.4809853732585907 || train_rmse:0.6935310959815979 || train_mae:0.5407727360725403 || train_r2:0.5555834770202637 || train_pearson:0.7453747391700745 || epoch:2 || \n"
     ]
    },
    {
     "data": {
      "application/vnd.jupyter.widget-view+json": {
       "model_id": "",
       "version_major": 2,
       "version_minor": 0
      },
      "text/plain": [
       "Validation: 0it [00:00, ?it/s]"
      ]
     },
     "metadata": {},
     "output_type": "display_data"
    },
    {
     "name": "stdout",
     "output_type": "stream",
     "text": [
      "step17: validation_loss:0.4732860028743744 || validation_mse:0.4732860028743744 || validation_rmse:0.6879578232765198 || validation_mae:0.5556463599205017 || validation_r2:0.6121236681938171 || validation_pearson:0.782383382320404 || epoch:2 || \n",
      "step41: train_loss:0.2990749776363373 || train_mse:0.2990749776363373 || train_rmse:0.5468775033950806 || train_mae:0.3893570601940155 || train_r2:0.6937017440795898 || train_pearson:0.832887589931488 || epoch:6 || \n"
     ]
    },
    {
     "data": {
      "application/vnd.jupyter.widget-view+json": {
       "model_id": "",
       "version_major": 2,
       "version_minor": 0
      },
      "text/plain": [
       "Validation: 0it [00:00, ?it/s]"
      ]
     },
     "metadata": {},
     "output_type": "display_data"
    },
    {
     "name": "stdout",
     "output_type": "stream",
     "text": [
      "step41: validation_loss:0.2831164598464966 || validation_mse:0.2831164598464966 || validation_rmse:0.5320869088172913 || validation_mae:0.4029902517795563 || validation_r2:0.7353840470314026 || validation_pearson:0.8575453758239746 || epoch:6 || \n",
      "step47: train_loss:0.2749262750148773 || train_mse:0.2749262750148773 || train_rmse:0.5243341326713562 || train_mae:0.3649715781211853 || train_r2:0.7302794456481934 || train_pearson:0.8545638918876648 || epoch:7 || \n"
     ]
    },
    {
     "data": {
      "application/vnd.jupyter.widget-view+json": {
       "model_id": "",
       "version_major": 2,
       "version_minor": 0
      },
      "text/plain": [
       "Validation: 0it [00:00, ?it/s]"
      ]
     },
     "metadata": {},
     "output_type": "display_data"
    },
    {
     "name": "stdout",
     "output_type": "stream",
     "text": [
      "step47: validation_loss:0.26437556743621826 || validation_mse:0.26437556743621826 || validation_rmse:0.5141746401786804 || validation_mae:0.3869609534740448 || validation_r2:0.7591692805290222 || validation_pearson:0.871303141117096 || epoch:7 || \n",
      "step53: train_loss:0.23732003569602966 || train_mse:0.23732003569602966 || train_rmse:0.4871550500392914 || train_mae:0.3363659977912903 || train_r2:0.7629821300506592 || train_pearson:0.8734884858131409 || epoch:8 || \n"
     ]
    },
    {
     "data": {
      "application/vnd.jupyter.widget-view+json": {
       "model_id": "",
       "version_major": 2,
       "version_minor": 0
      },
      "text/plain": [
       "Validation: 0it [00:00, ?it/s]"
      ]
     },
     "metadata": {},
     "output_type": "display_data"
    },
    {
     "name": "stdout",
     "output_type": "stream",
     "text": [
      "step53: validation_loss:0.23931919038295746 || validation_mse:0.23931919038295746 || validation_rmse:0.4892025887966156 || validation_mae:0.36029255390167236 || validation_r2:0.7806540131568909 || validation_pearson:0.8835462927818298 || epoch:8 || \n",
      "step59: train_loss:0.2170475423336029 || train_mse:0.2170475423336029 || train_rmse:0.46588361263275146 || train_mae:0.3138517141342163 || train_r2:0.7823275327682495 || train_pearson:0.884492814540863 || epoch:9 || \n"
     ]
    },
    {
     "data": {
      "application/vnd.jupyter.widget-view+json": {
       "model_id": "",
       "version_major": 2,
       "version_minor": 0
      },
      "text/plain": [
       "Validation: 0it [00:00, ?it/s]"
      ]
     },
     "metadata": {},
     "output_type": "display_data"
    },
    {
     "name": "stdout",
     "output_type": "stream",
     "text": [
      "step59: validation_loss:0.2141626924276352 || validation_mse:0.2141626924276352 || validation_rmse:0.46277713775634766 || validation_mae:0.3332979381084442 || validation_r2:0.8032237887382507 || validation_pearson:0.8962275385856628 || epoch:9 || \n",
      "step65: train_loss:0.21557848155498505 || train_mse:0.21557848155498505 || train_rmse:0.4643042981624603 || train_mae:0.2984634339809418 || train_r2:0.7858631014823914 || train_pearson:0.88648921251297 || epoch:10 || \n"
     ]
    },
    {
     "data": {
      "application/vnd.jupyter.widget-view+json": {
       "model_id": "",
       "version_major": 2,
       "version_minor": 0
      },
      "text/plain": [
       "Validation: 0it [00:00, ?it/s]"
      ]
     },
     "metadata": {},
     "output_type": "display_data"
    },
    {
     "name": "stdout",
     "output_type": "stream",
     "text": [
      "step65: validation_loss:0.18757928907871246 || validation_mse:0.18757928907871246 || validation_rmse:0.4331042766571045 || validation_mae:0.2979598343372345 || validation_r2:0.8228614926338196 || validation_pearson:0.9071170687675476 || epoch:10 || \n",
      "step71: train_loss:0.18596191704273224 || train_mse:0.18596191704273224 || train_rmse:0.4312330186367035 || train_mae:0.27203860878944397 || train_r2:0.8149159550666809 || train_pearson:0.902726948261261 || epoch:11 || \n"
     ]
    },
    {
     "data": {
      "application/vnd.jupyter.widget-view+json": {
       "model_id": "",
       "version_major": 2,
       "version_minor": 0
      },
      "text/plain": [
       "Validation: 0it [00:00, ?it/s]"
      ]
     },
     "metadata": {},
     "output_type": "display_data"
    },
    {
     "name": "stdout",
     "output_type": "stream",
     "text": [
      "step71: validation_loss:0.17327146232128143 || validation_mse:0.17327146232128143 || validation_rmse:0.41625890135765076 || validation_mae:0.2826499044895172 || validation_r2:0.8412666320800781 || validation_pearson:0.9172058701515198 || epoch:11 || \n",
      "step77: train_loss:0.15113696455955505 || train_mse:0.15113696455955505 || train_rmse:0.3887633681297302 || train_mae:0.24627269804477692 || train_r2:0.8476051092147827 || train_pearson:0.9206547141075134 || epoch:12 || \n"
     ]
    },
    {
     "data": {
      "application/vnd.jupyter.widget-view+json": {
       "model_id": "",
       "version_major": 2,
       "version_minor": 0
      },
      "text/plain": [
       "Validation: 0it [00:00, ?it/s]"
      ]
     },
     "metadata": {},
     "output_type": "display_data"
    },
    {
     "name": "stdout",
     "output_type": "stream",
     "text": [
      "step77: validation_loss:0.147851824760437 || validation_mse:0.147851824760437 || validation_rmse:0.38451504707336426 || validation_mae:0.24188242852687836 || validation_r2:0.8561139106750488 || validation_pearson:0.925264298915863 || epoch:12 || \n",
      "step83: train_loss:0.1615031361579895 || train_mse:0.1615031361579895 || train_rmse:0.4018745422363281 || train_mae:0.23458077013492584 || train_r2:0.8368839025497437 || train_pearson:0.9148135781288147 || epoch:13 || \n"
     ]
    },
    {
     "data": {
      "application/vnd.jupyter.widget-view+json": {
       "model_id": "",
       "version_major": 2,
       "version_minor": 0
      },
      "text/plain": [
       "Validation: 0it [00:00, ?it/s]"
      ]
     },
     "metadata": {},
     "output_type": "display_data"
    },
    {
     "name": "stdout",
     "output_type": "stream",
     "text": [
      "step83: validation_loss:0.14378273487091064 || validation_mse:0.14378273487091064 || validation_rmse:0.3791868984699249 || validation_mae:0.23877651989459991 || validation_r2:0.8710542321205139 || validation_pearson:0.9333028793334961 || epoch:13 || \n",
      "step89: train_loss:0.14895929396152496 || train_mse:0.14895929396152496 || train_rmse:0.3859524428844452 || train_mae:0.21440967917442322 || train_r2:0.8553138971328735 || train_pearson:0.9248318076133728 || epoch:14 || \n"
     ]
    },
    {
     "data": {
      "application/vnd.jupyter.widget-view+json": {
       "model_id": "",
       "version_major": 2,
       "version_minor": 0
      },
      "text/plain": [
       "Validation: 0it [00:00, ?it/s]"
      ]
     },
     "metadata": {},
     "output_type": "display_data"
    },
    {
     "name": "stdout",
     "output_type": "stream",
     "text": [
      "step89: validation_loss:0.11975447088479996 || validation_mse:0.11975447088479996 || validation_rmse:0.3460555970668793 || validation_mae:0.19034473598003387 || validation_r2:0.8797497153282166 || validation_pearson:0.9379497170448303 || epoch:14 || \n",
      "step95: train_loss:0.13579487800598145 || train_mse:0.13579487800598145 || train_rmse:0.3685035705566406 || train_mae:0.20335672795772552 || train_r2:0.8697240352630615 || train_pearson:0.9325899481773376 || epoch:15 || \n"
     ]
    },
    {
     "data": {
      "application/vnd.jupyter.widget-view+json": {
       "model_id": "",
       "version_major": 2,
       "version_minor": 0
      },
      "text/plain": [
       "Validation: 0it [00:00, ?it/s]"
      ]
     },
     "metadata": {},
     "output_type": "display_data"
    },
    {
     "name": "stdout",
     "output_type": "stream",
     "text": [
      "step95: validation_loss:0.11630361527204514 || validation_mse:0.11630361527204514 || validation_rmse:0.3410331904888153 || validation_mae:0.18730632960796356 || validation_r2:0.8889378905296326 || validation_pearson:0.9428350329399109 || epoch:15 || \n",
      "step101: train_loss:0.11883468180894852 || train_mse:0.11883468180894852 || train_rmse:0.34472405910491943 || train_mae:0.17801368236541748 || train_r2:0.8832014799118042 || train_pearson:0.9397879838943481 || epoch:16 || \n"
     ]
    },
    {
     "data": {
      "application/vnd.jupyter.widget-view+json": {
       "model_id": "",
       "version_major": 2,
       "version_minor": 0
      },
      "text/plain": [
       "Validation: 0it [00:00, ?it/s]"
      ]
     },
     "metadata": {},
     "output_type": "display_data"
    },
    {
     "name": "stdout",
     "output_type": "stream",
     "text": [
      "step101: validation_loss:0.1054321900010109 || validation_mse:0.1054321900010109 || validation_rmse:0.32470324635505676 || validation_mae:0.1647777408361435 || validation_r2:0.895124614238739 || validation_pearson:0.9461102485656738 || epoch:16 || \n",
      "step107: train_loss:0.10282570868730545 || train_mse:0.10282570868730545 || train_rmse:0.3206644654273987 || train_mae:0.16231650114059448 || train_r2:0.8948016166687012 || train_pearson:0.9459395408630371 || epoch:17 || \n"
     ]
    },
    {
     "data": {
      "application/vnd.jupyter.widget-view+json": {
       "model_id": "",
       "version_major": 2,
       "version_minor": 0
      },
      "text/plain": [
       "Validation: 0it [00:00, ?it/s]"
      ]
     },
     "metadata": {},
     "output_type": "display_data"
    },
    {
     "name": "stdout",
     "output_type": "stream",
     "text": [
      "step107: validation_loss:0.0993809625506401 || validation_mse:0.0993809625506401 || validation_rmse:0.315247505903244 || validation_mae:0.15464645624160767 || validation_r2:0.9016434550285339 || validation_pearson:0.94954913854599 || epoch:17 || \n",
      "step113: train_loss:0.11386134475469589 || train_mse:0.11386134475469589 || train_rmse:0.33743345737457275 || train_mae:0.16785110533237457 || train_r2:0.8840420246124268 || train_pearson:0.9402350783348083 || epoch:18 || \n"
     ]
    },
    {
     "data": {
      "application/vnd.jupyter.widget-view+json": {
       "model_id": "",
       "version_major": 2,
       "version_minor": 0
      },
      "text/plain": [
       "Validation: 0it [00:00, ?it/s]"
      ]
     },
     "metadata": {},
     "output_type": "display_data"
    },
    {
     "name": "stdout",
     "output_type": "stream",
     "text": [
      "step113: validation_loss:0.09648826718330383 || validation_mse:0.09648826718330383 || validation_rmse:0.3106255829334259 || validation_mae:0.15272946655750275 || validation_r2:0.9069094061851501 || validation_pearson:0.9523178935050964 || epoch:18 || \n",
      "step119: train_loss:0.10870572179555893 || train_mse:0.10870572179555893 || train_rmse:0.32970550656318665 || train_mae:0.1541898101568222 || train_r2:0.8898435831069946 || train_pearson:0.9433152079582214 || epoch:19 || \n"
     ]
    },
    {
     "data": {
      "application/vnd.jupyter.widget-view+json": {
       "model_id": "",
       "version_major": 2,
       "version_minor": 0
      },
      "text/plain": [
       "Validation: 0it [00:00, ?it/s]"
      ]
     },
     "metadata": {},
     "output_type": "display_data"
    },
    {
     "name": "stderr",
     "output_type": "stream",
     "text": [
      "`Trainer.fit` stopped: `max_epochs=20` reached.\n"
     ]
    },
    {
     "name": "stdout",
     "output_type": "stream",
     "text": [
      "step119: validation_loss:0.09142621606588364 || validation_mse:0.09142621606588364 || validation_rmse:0.3023676872253418 || validation_mae:0.14517317712306976 || validation_r2:0.9110947251319885 || validation_pearson:0.9545127749443054 || epoch:19 || \n"
     ]
    }
   ],
   "source": [
    "ds_gnn = normalize(logarithmize(ds))\n",
    "train_mds, test_mds = train_test_non_missing_no_overlap_iterable(dataset=ds_gnn, train_frac=0.1, test_frac=0.2, molecule='peptide',\n",
    "                                                                 non_missing_column='abundance')\n",
    "logger = ConsoleLogger()\n",
    "model = GAT(in_dim=3, hidden_dim=40, out_dim=1, num_heads=20)\n",
    "gnn_predictor = GnnPredictor(mapping='protein_group-peptide', value_columns=['abundance'], molecule_columns=[], target_column='abundance',\n",
    "                             model = model,\n",
    "                             bidirectional_graph = True, missing_substitute_value=-3.0,\n",
    "                             logger=logger, \n",
    "                            )\n",
    "gnn_predictor.fit(train_mds=train_mds, test_mds=test_mds, max_epochs=20)\n",
    "test(logger.logs['validation_r2'][-1], 0.9, operator.gt)"
   ]
  }
 ],
 "metadata": {
  "kernelspec": {
   "display_name": "Python 3 (ipykernel)",
   "language": "python",
   "name": "python3"
  },
  "language_info": {
   "codemirror_mode": {
    "name": "ipython",
    "version": 3
   },
   "file_extension": ".py",
   "mimetype": "text/x-python",
   "name": "python",
   "nbconvert_exporter": "python",
   "pygments_lexer": "ipython3",
   "version": "3.11.3"
  }
 },
 "nbformat": 4,
 "nbformat_minor": 5
}
