{
 "cells": [
  {
   "cell_type": "code",
   "execution_count": 1,
   "id": "55e0be52-a9c3-49ec-bc3e-5a2e81abddfd",
   "metadata": {},
   "outputs": [],
   "source": [
    "%load_ext autoreload\n",
    "%autoreload 2"
   ]
  },
  {
   "cell_type": "code",
   "execution_count": 2,
   "id": "b09fc1d7-bb9b-4c75-a0db-64dcaad3984b",
   "metadata": {},
   "outputs": [],
   "source": [
    "from pathlib import Path\n",
    "\n",
    "import numpy as np\n",
    "import pandas as pd\n",
    "from matplotlib import pyplot as plt\n",
    "from fastcore.test import test, operator"
   ]
  },
  {
   "cell_type": "code",
   "execution_count": 4,
   "id": "20f9398f-e8ad-41e0-9cba-b16114c28f45",
   "metadata": {},
   "outputs": [],
   "source": [
    "from pyproteonet.simulation.missing_values import simulate_mnars_thresholding, simulate_mcars\n",
    "from pyproteonet.visualization import plot_hist\n",
    "from pyproteonet.simulation.sampling import draw_normal_log_space\n",
    "from pyproteonet.processing.aggregation import neighbor_sum\n",
    "from pyproteonet.processing.dataset_transforms import normalize, logarithmize\n",
    "from pyproteonet.processing.masking import train_test_non_missing_no_overlap_iterable\n",
    "from pyproteonet.predictors.gnn import GnnPredictor\n",
    "from pyproteonet.dgl.gnn_architectures import GAT\n",
    "from pyproteonet.lightning.console_logger import ConsoleLogger"
   ]
  },
  {
   "cell_type": "markdown",
   "id": "c285fecb-255c-4b33-9c36-3a90fd12acd5",
   "metadata": {},
   "source": [
    "# Load Real World Dataset as Template"
   ]
  },
  {
   "cell_type": "code",
   "execution_count": 5,
   "id": "71d6bd46-d222-4b95-8a3d-10277bd1fffb",
   "metadata": {},
   "outputs": [],
   "source": [
    "from test_utils import load_maxlfq_benchmark"
   ]
  },
  {
   "cell_type": "code",
   "execution_count": 6,
   "id": "8a22ac9e-f4ea-4755-8e2e-72ac347ea69b",
   "metadata": {},
   "outputs": [],
   "source": [
    "maxlfq_benchmark = load_maxlfq_benchmark()"
   ]
  },
  {
   "cell_type": "code",
   "execution_count": 7,
   "id": "4f5c13d7-10f2-472a-afa1-92a7cac9c8ce",
   "metadata": {},
   "outputs": [],
   "source": [
    "log_mu, log_sigma = 0.05647178595714227, 2.519063763272205"
   ]
  },
  {
   "cell_type": "markdown",
   "id": "5bbf29e9-62aa-4965-8316-dfe813d35b27",
   "metadata": {},
   "source": [
    "# Simulate Simple Data without any Errors"
   ]
  },
  {
   "cell_type": "code",
   "execution_count": 11,
   "id": "4bbb0e52-500f-4ebb-b664-36615a0584ca",
   "metadata": {},
   "outputs": [
    {
     "data": {
      "text/plain": [
       "dict_keys(['protein_group-peptide'])"
      ]
     },
     "execution_count": 11,
     "metadata": {},
     "output_type": "execute_result"
    }
   ],
   "source": [
    "ds.mappings.keys()"
   ]
  },
  {
   "cell_type": "code",
   "execution_count": 12,
   "id": "7a06a8a7-4a04-4fa2-bf4d-e23c3573e267",
   "metadata": {},
   "outputs": [],
   "source": [
    "ds = draw_normal_log_space(molecule_set=maxlfq_benchmark.molecule_set,\n",
    "                           log_mu=log_mu,\n",
    "                           log_sigma=log_sigma,\n",
    "                           samples=len(maxlfq_benchmark.samples),\n",
    "                           molecule='protein_group', column='abundance_gt')\n",
    "neighbor_sum(ds, molecule='protein_group', column='abundance_gt', mapping='protein_group-peptide',\n",
    "             result_molecule='peptide', result_column='abundance', only_unique=False, inplace=True)"
   ]
  },
  {
   "cell_type": "code",
   "execution_count": 18,
   "id": "ff1980a4-26bc-4c21-a7a5-12c7c7b0685f",
   "metadata": {},
   "outputs": [
    {
     "name": "stderr",
     "output_type": "stream",
     "text": [
      "/hpi/fs00/home/tobias.pietz/mambaforge/envs/proteomics/lib/python3.11/site-packages/lightning/fabric/plugins/environments/slurm.py:165: PossibleUserWarning: The `srun` command is available on your system but is not used. HINT: If your intention is to run Lightning on SLURM, prepend your python command with `srun` like so: srun python /hpi/fs00/home/tobias.pietz/mambaforge/envs/proteomi ...\n",
      "  rank_zero_warn(\n",
      "GPU available: True (cuda), used: True\n",
      "TPU available: False, using: 0 TPU cores\n",
      "IPU available: False, using: 0 IPUs\n",
      "HPU available: False, using: 0 HPUs\n",
      "LOCAL_RANK: 0 - CUDA_VISIBLE_DEVICES: [0]\n",
      "\n",
      "  | Name   | Type | Params\n",
      "--------------------------------\n",
      "0 | _model | GAT  | 326 K \n",
      "--------------------------------\n",
      "326 K     Trainable params\n",
      "0         Non-trainable params\n",
      "326 K     Total params\n",
      "1.306     Total estimated model params size (MB)\n"
     ]
    },
    {
     "data": {
      "application/vnd.jupyter.widget-view+json": {
       "model_id": "",
       "version_major": 2,
       "version_minor": 0
      },
      "text/plain": [
       "Sanity Checking: 0it [00:00, ?it/s]"
      ]
     },
     "metadata": {},
     "output_type": "display_data"
    },
    {
     "name": "stderr",
     "output_type": "stream",
     "text": [
      "/hpi/fs00/home/tobias.pietz/mambaforge/envs/proteomics/lib/python3.11/site-packages/lightning/pytorch/trainer/connectors/data_connector.py:430: PossibleUserWarning: The dataloader, val_dataloader, does not have many workers which may be a bottleneck. Consider increasing the value of the `num_workers` argument` (try 256 which is the number of cpus on this machine) in the `DataLoader` init to improve performance.\n",
      "  rank_zero_warn(\n",
      "/hpi/fs00/home/tobias.pietz/mambaforge/envs/proteomics/lib/python3.11/site-packages/lightning/pytorch/utilities/data.py:120: UserWarning: Your `IterableDataset` has `__len__` defined. In combination with multi-process data loading (when num_workers > 1), `__len__` could be inaccurate if each worker is not configured independently to avoid having duplicate data.\n",
      "  rank_zero_warn(\n",
      "/hpi/fs00/home/tobias.pietz/mambaforge/envs/proteomics/lib/python3.11/site-packages/lightning/pytorch/trainer/connectors/data_connector.py:430: PossibleUserWarning: The dataloader, train_dataloader, does not have many workers which may be a bottleneck. Consider increasing the value of the `num_workers` argument` (try 256 which is the number of cpus on this machine) in the `DataLoader` init to improve performance.\n",
      "  rank_zero_warn(\n"
     ]
    },
    {
     "data": {
      "application/vnd.jupyter.widget-view+json": {
       "model_id": "5544750715c347a6a1c4f0ffe9453ff3",
       "version_major": 2,
       "version_minor": 0
      },
      "text/plain": [
       "Training: 0it [00:00, ?it/s]"
      ]
     },
     "metadata": {},
     "output_type": "display_data"
    },
    {
     "name": "stdout",
     "output_type": "stream",
     "text": [
      "step5: train_loss:0.1535652130842209 || train_mse:0.1535652130842209 || train_rmse:0.3918739855289459 || train_mae:0.25533729791641235 || train_r2:0.9080090522766113 || train_pearson:0.9528951048851013 || epoch:0 || \n"
     ]
    },
    {
     "data": {
      "application/vnd.jupyter.widget-view+json": {
       "model_id": "",
       "version_major": 2,
       "version_minor": 0
      },
      "text/plain": [
       "Validation: 0it [00:00, ?it/s]"
      ]
     },
     "metadata": {},
     "output_type": "display_data"
    },
    {
     "name": "stdout",
     "output_type": "stream",
     "text": [
      "step5: validation_loss:0.08664100617170334 || validation_mse:0.08664100617170334 || validation_rmse:0.29434844851493835 || validation_mae:0.1628258377313614 || validation_r2:0.9200356602668762 || validation_pearson:0.9591848254203796 || epoch:0 || \n",
      "step11: train_loss:0.16367223858833313 || train_mse:0.16367223858833313 || train_rmse:0.4045642614364624 || train_mae:0.2925668954849243 || train_r2:0.9065065383911133 || train_pearson:0.9521063566207886 || epoch:1 || \n"
     ]
    },
    {
     "data": {
      "application/vnd.jupyter.widget-view+json": {
       "model_id": "",
       "version_major": 2,
       "version_minor": 0
      },
      "text/plain": [
       "Validation: 0it [00:00, ?it/s]"
      ]
     },
     "metadata": {},
     "output_type": "display_data"
    },
    {
     "name": "stdout",
     "output_type": "stream",
     "text": [
      "step11: validation_loss:0.18932563066482544 || validation_mse:0.18932563066482544 || validation_rmse:0.43511566519737244 || validation_mae:0.3316924273967743 || validation_r2:0.9226627945899963 || validation_pearson:0.9605533480644226 || epoch:1 || \n",
      "step17: train_loss:0.0850665494799614 || train_mse:0.0850665494799614 || train_rmse:0.29166170954704285 || train_mae:0.1582798808813095 || train_r2:0.9170430898666382 || train_pearson:0.9576236605644226 || epoch:2 || \n"
     ]
    },
    {
     "data": {
      "application/vnd.jupyter.widget-view+json": {
       "model_id": "",
       "version_major": 2,
       "version_minor": 0
      },
      "text/plain": [
       "Validation: 0it [00:00, ?it/s]"
      ]
     },
     "metadata": {},
     "output_type": "display_data"
    },
    {
     "name": "stdout",
     "output_type": "stream",
     "text": [
      "step17: validation_loss:0.08113190531730652 || validation_mse:0.08113190531730652 || validation_rmse:0.28483662009239197 || validation_mae:0.15105272829532623 || validation_r2:0.9227176308631897 || validation_pearson:0.9605819582939148 || epoch:2 || \n",
      "step23: train_loss:0.09899822622537613 || train_mse:0.09899822622537613 || train_rmse:0.3146398365497589 || train_mae:0.1667521893978119 || train_r2:0.9080381393432617 || train_pearson:0.9529103636741638 || epoch:3 || \n"
     ]
    },
    {
     "data": {
      "application/vnd.jupyter.widget-view+json": {
       "model_id": "",
       "version_major": 2,
       "version_minor": 0
      },
      "text/plain": [
       "Validation: 0it [00:00, ?it/s]"
      ]
     },
     "metadata": {},
     "output_type": "display_data"
    },
    {
     "name": "stderr",
     "output_type": "stream",
     "text": [
      "`Trainer.fit` stopped: `max_epochs=4` reached.\n"
     ]
    },
    {
     "name": "stdout",
     "output_type": "stream",
     "text": [
      "step23: validation_loss:0.07907582074403763 || validation_mse:0.07907582074403763 || validation_rmse:0.2812042534351349 || validation_mae:0.1599757820367813 || validation_r2:0.9236117005348206 || validation_pearson:0.9610472321510315 || epoch:3 || \n"
     ]
    }
   ],
   "source": [
    "ds_gnn = normalize(logarithmize(ds))\n",
    "train_mds, test_mds = train_test_non_missing_no_overlap_iterable(dataset=ds_gnn, train_frac=0.1, test_frac=0.2, molecule='peptide',\n",
    "                                                                 non_missing_column='abundance')\n",
    "logger = ConsoleLogger()\n",
    "gnn_predictor = GnnPredictor(mapping='protein_group-peptide', value_columns=['abundance'], molecule_columns=[], target_column='abundance',\n",
    "                             model = GAT(in_dim=3, hidden_dim=40, out_dim=1, num_heads=20),\n",
    "                             bidirectional_graph = True, missing_substitute_value=0.0,\n",
    "                             logger=logger, \n",
    "                            )\n",
    "gnn_predictor.fit(train_mds=train_mds, test_mds=test_mds, max_epochs=4)\n",
    "test(logger.logs['validation_r2'][-1], 0.9, operator.gt)"
   ]
  }
 ],
 "metadata": {
  "kernelspec": {
   "display_name": "Python 3 (ipykernel)",
   "language": "python",
   "name": "python3"
  },
  "language_info": {
   "codemirror_mode": {
    "name": "ipython",
    "version": 3
   },
   "file_extension": ".py",
   "mimetype": "text/x-python",
   "name": "python",
   "nbconvert_exporter": "python",
   "pygments_lexer": "ipython3",
   "version": "3.11.3"
  }
 },
 "nbformat": 4,
 "nbformat_minor": 5
}
