{
 "cells": [
  {
   "cell_type": "code",
   "execution_count": 1,
   "id": "55e0be52-a9c3-49ec-bc3e-5a2e81abddfd",
   "metadata": {},
   "outputs": [],
   "source": [
    "%load_ext autoreload\n",
    "%autoreload 2"
   ]
  },
  {
   "cell_type": "code",
   "execution_count": 2,
   "id": "b09fc1d7-bb9b-4c75-a0db-64dcaad3984b",
   "metadata": {},
   "outputs": [],
   "source": [
    "from pathlib import Path\n",
    "\n",
    "import numpy as np\n",
    "import pandas as pd\n",
    "from matplotlib import pyplot as plt\n",
    "from fastcore.test import test_eq"
   ]
  },
  {
   "cell_type": "code",
   "execution_count": 3,
   "id": "20f9398f-e8ad-41e0-9cba-b16114c28f45",
   "metadata": {},
   "outputs": [],
   "source": [
    "from pyproteonet.aggregation import maxlfq"
   ]
  },
  {
   "cell_type": "markdown",
   "id": "c285fecb-255c-4b33-9c36-3a90fd12acd5",
   "metadata": {},
   "source": [
    "# Test MaxLFQ Protein Aggregation"
   ]
  },
  {
   "cell_type": "code",
   "execution_count": 4,
   "id": "71d6bd46-d222-4b95-8a3d-10277bd1fffb",
   "metadata": {},
   "outputs": [],
   "source": [
    "from test_utils import create_single_protein"
   ]
  },
  {
   "cell_type": "code",
   "execution_count": 5,
   "id": "9f62df64-509d-439e-bbc8-a72de431cda9",
   "metadata": {},
   "outputs": [],
   "source": [
    "ds = create_single_protein()"
   ]
  },
  {
   "cell_type": "code",
   "execution_count": 6,
   "id": "16f5734b-41a6-445d-9bd9-35554b56b337",
   "metadata": {},
   "outputs": [
    {
     "name": "stderr",
     "output_type": "stream",
     "text": [
      "/hpi/fs00/home/tobias.pietz/MasterThesis/pyproteonet/pyproteonet/aggregation/maxlfq.py:219: NumbaTypeSafetyWarning: \u001b[1m\u001b[1m\u001b[1munsafe cast from uint64 to int64. Precision may be lost.\u001b[0m\u001b[0m\u001b[0m\n",
      "  grouping = mask_group(groupings[group_idx])\n"
     ]
    }
   ],
   "source": [
    "_ = maxlfq(dataset=ds, molecule='protein', mapping='peptide-protein', partner_column='abundance',\n",
    "           min_ratios=2, median_fallback=False, is_log=False, result_column='maxlfq')"
   ]
  },
  {
   "cell_type": "code",
   "execution_count": 7,
   "id": "3574f938-d760-4f82-a9e6-36fa1fe7d88c",
   "metadata": {},
   "outputs": [
    {
     "data": {
      "text/html": [
       "<div>\n",
       "<style scoped>\n",
       "    .dataframe tbody tr th:only-of-type {\n",
       "        vertical-align: middle;\n",
       "    }\n",
       "\n",
       "    .dataframe tbody tr th {\n",
       "        vertical-align: top;\n",
       "    }\n",
       "\n",
       "    .dataframe thead th {\n",
       "        text-align: right;\n",
       "    }\n",
       "</style>\n",
       "<table border=\"1\" class=\"dataframe\">\n",
       "  <thead>\n",
       "    <tr style=\"text-align: right;\">\n",
       "      <th></th>\n",
       "      <th></th>\n",
       "      <th>maxlfq</th>\n",
       "    </tr>\n",
       "    <tr>\n",
       "      <th>sample</th>\n",
       "      <th>id</th>\n",
       "      <th></th>\n",
       "    </tr>\n",
       "  </thead>\n",
       "  <tbody>\n",
       "    <tr>\n",
       "      <th>sample1</th>\n",
       "      <th>A</th>\n",
       "      <td>3.072157</td>\n",
       "    </tr>\n",
       "    <tr>\n",
       "      <th>sample2</th>\n",
       "      <th>A</th>\n",
       "      <td>2.894050</td>\n",
       "    </tr>\n",
       "    <tr>\n",
       "      <th>sample3</th>\n",
       "      <th>A</th>\n",
       "      <td>NaN</td>\n",
       "    </tr>\n",
       "    <tr>\n",
       "      <th>sample4</th>\n",
       "      <th>A</th>\n",
       "      <td>NaN</td>\n",
       "    </tr>\n",
       "    <tr>\n",
       "      <th>sample5</th>\n",
       "      <th>A</th>\n",
       "      <td>5.274493</td>\n",
       "    </tr>\n",
       "    <tr>\n",
       "      <th>sample6</th>\n",
       "      <th>A</th>\n",
       "      <td>5.717201</td>\n",
       "    </tr>\n",
       "  </tbody>\n",
       "</table>\n",
       "</div>"
      ],
      "text/plain": [
       "              maxlfq\n",
       "sample  id          \n",
       "sample1 A   3.072157\n",
       "sample2 A   2.894050\n",
       "sample3 A        NaN\n",
       "sample4 A        NaN\n",
       "sample5 A   5.274493\n",
       "sample6 A   5.717201"
      ]
     },
     "execution_count": 7,
     "metadata": {},
     "output_type": "execute_result"
    }
   ],
   "source": [
    "ds.values['protein'].df"
   ]
  },
  {
   "cell_type": "code",
   "execution_count": 8,
   "id": "8f9c1ddf-d00b-4dfa-ad6b-cb23fd86bbcc",
   "metadata": {},
   "outputs": [
    {
     "data": {
      "text/html": [
       "<div>\n",
       "<style scoped>\n",
       "    .dataframe tbody tr th:only-of-type {\n",
       "        vertical-align: middle;\n",
       "    }\n",
       "\n",
       "    .dataframe tbody tr th {\n",
       "        vertical-align: top;\n",
       "    }\n",
       "\n",
       "    .dataframe thead th {\n",
       "        text-align: right;\n",
       "    }\n",
       "</style>\n",
       "<table border=\"1\" class=\"dataframe\">\n",
       "  <thead>\n",
       "    <tr style=\"text-align: right;\">\n",
       "      <th></th>\n",
       "      <th>sample1</th>\n",
       "      <th>sample2</th>\n",
       "      <th>sample3</th>\n",
       "      <th>sample4</th>\n",
       "      <th>sample5</th>\n",
       "      <th>sample6</th>\n",
       "    </tr>\n",
       "    <tr>\n",
       "      <th>id</th>\n",
       "      <th></th>\n",
       "      <th></th>\n",
       "      <th></th>\n",
       "      <th></th>\n",
       "      <th></th>\n",
       "      <th></th>\n",
       "    </tr>\n",
       "  </thead>\n",
       "  <tbody>\n",
       "    <tr>\n",
       "      <th>A</th>\n",
       "      <td>3.072157</td>\n",
       "      <td>2.89405</td>\n",
       "      <td>NaN</td>\n",
       "      <td>NaN</td>\n",
       "      <td>5.274493</td>\n",
       "      <td>5.717201</td>\n",
       "    </tr>\n",
       "  </tbody>\n",
       "</table>\n",
       "</div>"
      ],
      "text/plain": [
       "     sample1  sample2  sample3  sample4   sample5   sample6\n",
       "id                                                         \n",
       "A   3.072157  2.89405      NaN      NaN  5.274493  5.717201"
      ]
     },
     "execution_count": 8,
     "metadata": {},
     "output_type": "execute_result"
    }
   ],
   "source": [
    "mat = ds.get_samples_value_matrix(molecule='protein', column='maxlfq')\n",
    "test_eq(np.isnan(mat.loc['A', 'sample3']), True)\n",
    "test_eq(np.isnan(mat.loc['A', 'sample4']), True)\n",
    "test_eq(mat.isna().sum().sum(), 2)\n",
    "\n",
    "test_eq(mat.loc['A', 'sample1'] < mat.loc['A', 'sample5'], True)\n",
    "test_eq(mat.loc['A', 'sample1'] < mat.loc['A', 'sample6'], True)\n",
    "test_eq(mat.loc['A', 'sample2'] < mat.loc['A', 'sample5'], True)\n",
    "test_eq(mat.loc['A', 'sample2'] < mat.loc['A', 'sample6'], True)\n",
    "mat"
   ]
  }
 ],
 "metadata": {
  "kernelspec": {
   "display_name": "Python 3 (ipykernel)",
   "language": "python",
   "name": "python3"
  }
 },
 "nbformat": 4,
 "nbformat_minor": 5
}
