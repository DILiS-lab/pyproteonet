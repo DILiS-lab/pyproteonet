{
 "cells": [
  {
   "cell_type": "code",
   "execution_count": 1,
   "id": "55e0be52-a9c3-49ec-bc3e-5a2e81abddfd",
   "metadata": {},
   "outputs": [],
   "source": [
    "%load_ext autoreload\n",
    "%autoreload 2"
   ]
  },
  {
   "cell_type": "code",
   "execution_count": 59,
   "id": "b09fc1d7-bb9b-4c75-a0db-64dcaad3984b",
   "metadata": {},
   "outputs": [],
   "source": [
    "from pathlib import Path\n",
    "\n",
    "import numpy as np\n",
    "import pandas as pd\n",
    "from matplotlib import pyplot as plt\n",
    "from fastcore.test import test, operator, test_eq"
   ]
  },
  {
   "cell_type": "code",
   "execution_count": 45,
   "id": "20f9398f-e8ad-41e0-9cba-b16114c28f45",
   "metadata": {},
   "outputs": [],
   "source": [
    "from pyproteonet.data import MoleculeSet, Dataset\n",
    "from pyproteonet.quantification.neighbor_summarization import neighbor_top_n_mean\n",
    "from pyproteonet.utils.numpy import eq_nan"
   ]
  },
  {
   "cell_type": "markdown",
   "id": "c285fecb-255c-4b33-9c36-3a90fd12acd5",
   "metadata": {},
   "source": [
    "# Test Top3 Protein Aggregation Using Only Unique Peptides"
   ]
  },
  {
   "cell_type": "code",
   "execution_count": 19,
   "id": "71d6bd46-d222-4b95-8a3d-10277bd1fffb",
   "metadata": {},
   "outputs": [],
   "source": [
    "from test_utils import create_toy_dataset"
   ]
  },
  {
   "cell_type": "code",
   "execution_count": 22,
   "id": "9f62df64-509d-439e-bbc8-a72de431cda9",
   "metadata": {},
   "outputs": [],
   "source": [
    "ds = create_toy_dataset()"
   ]
  },
  {
   "cell_type": "code",
   "execution_count": 37,
   "id": "16f5734b-41a6-445d-9bd9-35554b56b337",
   "metadata": {},
   "outputs": [],
   "source": [
    "_ = neighbor_top_n_mean(dataset=ds, molecule='protein', mapping='peptide', partner_column='abundance',\n",
    "                        top_n=3, only_unique=True, result_column='top3')"
   ]
  },
  {
   "cell_type": "code",
   "execution_count": 64,
   "id": "69a615df-ed55-49a5-8766-49a3dfa210b9",
   "metadata": {},
   "outputs": [],
   "source": [
    "res = ds.get_samples_value_matrix('protein', 'top3')\n",
    "test_eq(eq_nan((res['sample1']), [2.0, np.nan, 4.0, np.nan]).all(), True)\n",
    "test_eq(eq_nan((res['sample2']), [4.0, np.nan, 8.0, np.nan]).all(), True)"
   ]
  }
 ],
 "metadata": {
  "kernelspec": {
   "display_name": "Python 3 (ipykernel)",
   "language": "python",
   "name": "python3"
  },
  "language_info": {
   "codemirror_mode": {
    "name": "ipython",
    "version": 3
   },
   "file_extension": ".py",
   "mimetype": "text/x-python",
   "name": "python",
   "nbconvert_exporter": "python",
   "pygments_lexer": "ipython3",
   "version": "3.11.3"
  }
 },
 "nbformat": 4,
 "nbformat_minor": 5
}
