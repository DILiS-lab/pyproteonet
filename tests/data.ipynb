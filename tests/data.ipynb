{
 "cells": [
  {
   "cell_type": "code",
   "execution_count": 1,
   "id": "55e0be52-a9c3-49ec-bc3e-5a2e81abddfd",
   "metadata": {},
   "outputs": [],
   "source": [
    "%load_ext autoreload\n",
    "%autoreload 2"
   ]
  },
  {
   "cell_type": "code",
   "execution_count": 2,
   "id": "b09fc1d7-bb9b-4c75-a0db-64dcaad3984b",
   "metadata": {},
   "outputs": [],
   "source": [
    "from pathlib import Path\n",
    "\n",
    "import numpy as np\n",
    "import pandas as pd\n",
    "from matplotlib import pyplot as plt\n",
    "from fastcore.test import test, operator, test_eq"
   ]
  },
  {
   "cell_type": "code",
   "execution_count": 3,
   "id": "20f9398f-e8ad-41e0-9cba-b16114c28f45",
   "metadata": {},
   "outputs": [],
   "source": [
    "from pyproteonet.data import MoleculeSet, Dataset\n",
    "from pyproteonet.quantification.neighbor_summarization import neighbor_top_n_mean\n",
    "from pyproteonet.utils.numpy import eq_nan"
   ]
  },
  {
   "cell_type": "code",
   "execution_count": 4,
   "id": "ff7ef2b3-7640-4f54-8ef8-366f4f53ab25",
   "metadata": {},
   "outputs": [],
   "source": [
    "from test_utils import create_toy_dataset\n",
    "ds = create_toy_dataset()"
   ]
  },
  {
   "cell_type": "markdown",
   "id": "c285fecb-255c-4b33-9c36-3a90fd12acd5",
   "metadata": {},
   "source": [
    "# MoleculeSet"
   ]
  },
  {
   "cell_type": "code",
   "execution_count": 17,
   "id": "71d6bd46-d222-4b95-8a3d-10277bd1fffb",
   "metadata": {},
   "outputs": [],
   "source": [
    "degs = ds.molecule_set.get_mapping_degrees(molecule='protein', mapping='peptide', only_unique=False)\n",
    "assert (degs==pd.Series(index=['A','B','C','D'], data=[6, 4, 5, 0])).all()"
   ]
  },
  {
   "cell_type": "code",
   "execution_count": 18,
   "id": "9f62df64-509d-439e-bbc8-a72de431cda9",
   "metadata": {},
   "outputs": [],
   "source": [
    "degs_unique = ds.molecule_set.get_mapping_degrees(molecule='protein', mapping='peptide', only_unique=True)\n",
    "assert (degs_unique==pd.Series(index=['A','B','C','D'], data=[4, 2, 5, 0])).all()"
   ]
  },
  {
   "cell_type": "code",
   "execution_count": null,
   "id": "c3cf281f-4621-4b58-86e1-6421f44e77ab",
   "metadata": {},
   "outputs": [],
   "source": []
  }
 ],
 "metadata": {
  "kernelspec": {
   "display_name": "Python 3 (ipykernel)",
   "language": "python",
   "name": "python3"
  },
  "language_info": {
   "codemirror_mode": {
    "name": "ipython",
    "version": 3
   },
   "file_extension": ".py",
   "mimetype": "text/x-python",
   "name": "python",
   "nbconvert_exporter": "python",
   "pygments_lexer": "ipython3",
   "version": "3.11.3"
  }
 },
 "nbformat": 4,
 "nbformat_minor": 5
}
