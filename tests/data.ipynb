{
 "cells": [
  {
   "cell_type": "code",
   "execution_count": 1,
   "id": "55e0be52-a9c3-49ec-bc3e-5a2e81abddfd",
   "metadata": {},
   "outputs": [],
   "source": [
    "%load_ext autoreload\n",
    "%autoreload 2"
   ]
  },
  {
   "cell_type": "code",
   "execution_count": 2,
   "id": "b09fc1d7-bb9b-4c75-a0db-64dcaad3984b",
   "metadata": {},
   "outputs": [],
   "source": [
    "import pandas as pd\n",
    "from fastcore.test import test_eq"
   ]
  },
  {
   "cell_type": "code",
   "execution_count": 3,
   "id": "ff7ef2b3-7640-4f54-8ef8-366f4f53ab25",
   "metadata": {},
   "outputs": [],
   "source": [
    "from test_utils import create_toy_dataset\n",
    "ds = create_toy_dataset()"
   ]
  },
  {
   "cell_type": "markdown",
   "id": "c285fecb-255c-4b33-9c36-3a90fd12acd5",
   "metadata": {},
   "source": [
    "# MoleculeSet"
   ]
  },
  {
   "cell_type": "code",
   "execution_count": 5,
   "id": "71d6bd46-d222-4b95-8a3d-10277bd1fffb",
   "metadata": {},
   "outputs": [
    {
     "name": "stdout",
     "output_type": "stream",
     "text": [
      "id\n",
      "A    6\n",
      "B    5\n",
      "C    5\n",
      "D    1\n",
      "dtype: int64\n"
     ]
    }
   ],
   "source": [
    "degs = ds.molecule_set.get_mapping_degrees(molecule='protein', mapping='peptide', only_unique=False)\n",
    "print(degs)\n",
    "test_eq((degs==pd.Series(index=['A','B','C','D'], data=[6, 5, 5, 1])).all(), True)"
   ]
  },
  {
   "cell_type": "code",
   "execution_count": 6,
   "id": "9f62df64-509d-439e-bbc8-a72de431cda9",
   "metadata": {},
   "outputs": [
    {
     "name": "stdout",
     "output_type": "stream",
     "text": [
      "id\n",
      "A    4\n",
      "B    2\n",
      "C    5\n",
      "D    0\n",
      "dtype: int64\n"
     ]
    }
   ],
   "source": [
    "degs_unique = ds.molecule_set.get_mapping_degrees(molecule='protein', mapping='peptide', only_unique=True)\n",
    "print(degs_unique)\n",
    "test_eq((degs_unique==pd.Series(index=['A','B','C','D'], data=[4, 2, 5, 0])).all(), True)"
   ]
  },
  {
   "cell_type": "code",
   "execution_count": null,
   "id": "c3cf281f-4621-4b58-86e1-6421f44e77ab",
   "metadata": {},
   "outputs": [],
   "source": []
  }
 ],
 "metadata": {
  "kernelspec": {
   "display_name": "Python 3 (ipykernel)",
   "language": "python",
   "name": "python3"
  }
 },
 "nbformat": 4,
 "nbformat_minor": 5
}
